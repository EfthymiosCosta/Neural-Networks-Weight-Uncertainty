{
  "nbformat": 4,
  "nbformat_minor": 0,
  "metadata": {
    "colab": {
      "name": "BayesCNN.ipynb",
      "provenance": [],
      "authorship_tag": "ABX9TyOlWjzkpxPpBfsZotH/A5x7",
      "include_colab_link": true
    },
    "kernelspec": {
      "name": "python3",
      "display_name": "Python 3"
    },
    "language_info": {
      "name": "python"
    }
  },
  "cells": [
    {
      "cell_type": "markdown",
      "metadata": {
        "id": "view-in-github",
        "colab_type": "text"
      },
      "source": [
        "<a href=\"https://colab.research.google.com/github/EfthymiosCosta/Neural-Networks-Weight-Uncertainty/blob/main/BayesCNN.ipynb\" target=\"_parent\"><img src=\"https://colab.research.google.com/assets/colab-badge.svg\" alt=\"Open In Colab\"/></a>"
      ]
    },
    {
      "cell_type": "code",
      "metadata": {
        "id": "z_ArF06Ajx0f"
      },
      "source": [
        "!git clone https://github.com/kumar-shridhar/PyTorch-BayesianCNN.git"
      ],
      "execution_count": 28,
      "outputs": []
    },
    {
      "cell_type": "code",
      "metadata": {
        "colab": {
          "base_uri": "https://localhost:8080/"
        },
        "id": "sd-C-EuPk8L2",
        "outputId": "f538320a-eeb8-4047-8b66-8e617ea5dc0f"
      },
      "source": [
        "%cd BayesianCNN"
      ],
      "execution_count": 2,
      "outputs": [
        {
          "output_type": "stream",
          "name": "stdout",
          "text": [
            "/content/BayesianCNN\n"
          ]
        }
      ]
    },
    {
      "cell_type": "code",
      "metadata": {
        "id": "1ycosHgyj9NL"
      },
      "source": [
        "from __future__ import print_function\n",
        "\n",
        "import os\n",
        "import argparse\n",
        "\n",
        "import torch\n",
        "import numpy as np\n",
        "from torch.optim import Adam, lr_scheduler\n",
        "from torch.nn import functional as F\n",
        "\n",
        "import data\n",
        "import utils\n",
        "import metrics\n",
        "import config_bayesian as cfg\n",
        "from BayesianCNN.models.BayesianModels.Bayesian3Conv3FC import BBB3Conv3FC\n",
        "from BayesianCNN.models.BayesianModels.BayesianAlexNet import BBBAlexNet\n",
        "from BayesianCNN.models.BayesianModels.BayesianLeNet import BBBLeNet"
      ],
      "execution_count": 3,
      "outputs": []
    },
    {
      "cell_type": "code",
      "metadata": {
        "id": "RlF99Kv0pFYO"
      },
      "source": [
        "from layers.misc import ModuleWrapper, FlattenLayer\n",
        "from layers.BBB.BBBConv import BBBConv2d\n",
        "from layers.BBB.BBBLinear import BBBLinear\n",
        "import torch.nn as nn"
      ],
      "execution_count": 26,
      "outputs": []
    },
    {
      "cell_type": "code",
      "metadata": {
        "id": "B1MStMDzkQFK"
      },
      "source": [
        "# CUDA settings\n",
        "device = torch.device(\"cuda:0\" if torch.cuda.is_available() else \"cpu\")\n",
        "\n",
        "def getModel(net_type, inputs, outputs, priors, layer_type, activation_type):\n",
        "    if (net_type == 'lenet'):\n",
        "        return BBBLeNet(outputs, inputs, priors, layer_type, activation_type)\n",
        "    elif (net_type == 'alexnet'):\n",
        "        return BBBAlexNet(outputs, inputs, priors, layer_type, activation_type)\n",
        "    elif (net_type == '3conv3fc'):\n",
        "        return BBB3Conv3FC(outputs, inputs, priors, layer_type, activation_type)\n",
        "    else:\n",
        "        raise ValueError('Network should be either [LeNet / AlexNet / 3Conv3FC')"
      ],
      "execution_count": 35,
      "outputs": []
    },
    {
      "cell_type": "code",
      "metadata": {
        "id": "F9quPfIOkRx3"
      },
      "source": [
        "def train_model(net, optimizer, criterion, trainloader, num_ens=1, beta_type=0.1, epoch=None, num_epochs=None):\n",
        "    net.train()\n",
        "    training_loss = 0.0\n",
        "    accs = []\n",
        "    kl_list = []\n",
        "    for i, (inputs, labels) in enumerate(trainloader, 1):\n",
        "\n",
        "        optimizer.zero_grad()\n",
        "\n",
        "        inputs, labels = inputs.to(device), labels.to(device)\n",
        "        outputs = torch.zeros(inputs.shape[0], net.num_classes, num_ens).to(device)\n",
        "\n",
        "        kl = 0.0\n",
        "        for j in range(num_ens):\n",
        "            net_out, _kl = net(inputs)\n",
        "            kl += _kl\n",
        "            outputs[:, :, j] = F.log_softmax(net_out, dim=1)\n",
        "        \n",
        "        kl = kl / num_ens\n",
        "        kl_list.append(kl.item())\n",
        "        log_outputs = utils.logmeanexp(outputs, dim=2)\n",
        "\n",
        "        beta = metrics.get_beta(i-1, len(trainloader), beta_type, epoch, num_epochs)\n",
        "        loss = criterion(log_outputs, labels, kl, beta)\n",
        "        loss.backward()\n",
        "        optimizer.step()\n",
        "\n",
        "        accs.append(metrics.acc(log_outputs.data, labels))\n",
        "        training_loss += loss.cpu().data.numpy()\n",
        "    return training_loss/len(trainloader), np.mean(accs), np.mean(kl_list)\n"
      ],
      "execution_count": 30,
      "outputs": []
    },
    {
      "cell_type": "code",
      "metadata": {
        "id": "b_gx6CPNlBhP"
      },
      "source": [
        "def validate_model(net, criterion, validloader, num_ens=1, beta_type=0.1, epoch=None, num_epochs=None):\n",
        "    \"\"\"Calculate ensemble accuracy and NLL Loss\"\"\"\n",
        "    net.train()\n",
        "    valid_loss = 0.0\n",
        "    accs = []\n",
        "\n",
        "    for i, (inputs, labels) in enumerate(validloader):\n",
        "        inputs, labels = inputs.to(device), labels.to(device)\n",
        "        outputs = torch.zeros(inputs.shape[0], net.num_classes, num_ens).to(device)\n",
        "        kl = 0.0\n",
        "        for j in range(num_ens):\n",
        "            net_out, _kl = net(inputs)\n",
        "            kl += _kl\n",
        "            outputs[:, :, j] = F.log_softmax(net_out, dim=1).data\n",
        "\n",
        "        log_outputs = utils.logmeanexp(outputs, dim=2)\n",
        "\n",
        "        beta = metrics.get_beta(i-1, len(validloader), beta_type, epoch, num_epochs)\n",
        "        valid_loss += criterion(log_outputs, labels, kl, beta).item()\n",
        "        accs.append(metrics.acc(log_outputs, labels))\n",
        "\n",
        "    return valid_loss/len(validloader), np.mean(accs)\n"
      ],
      "execution_count": 31,
      "outputs": []
    },
    {
      "cell_type": "code",
      "metadata": {
        "id": "nrV_NMSQ0gqv"
      },
      "source": [
        "def getDataloader(trainset, testset, batch_size, num_workers):\n",
        "    num_train = len(trainset)\n",
        "\n",
        "    train_loader = torch.utils.data.DataLoader(trainset, batch_size=batch_size, shuffle = True, num_workers=num_workers)\n",
        "    test_loader = torch.utils.data.DataLoader(testset, batch_size=batch_size, \n",
        "        num_workers=num_workers)\n",
        "\n",
        "    return train_loader, test_loader"
      ],
      "execution_count": 50,
      "outputs": []
    },
    {
      "cell_type": "code",
      "metadata": {
        "id": "8sFELH0klGsg"
      },
      "source": [
        "def run(dataset, net_type):\n",
        "\n",
        "    ELBO = []\n",
        "    train_acc_tracker = []\n",
        "    val_acc_tracker = []\n",
        "    # Hyper Parameter settings\n",
        "    layer_type = cfg.layer_type\n",
        "    activation_type = cfg.activation_type\n",
        "    priors = cfg.priors\n",
        "\n",
        "    train_ens = cfg.train_ens\n",
        "    valid_ens = cfg.valid_ens\n",
        "    n_epochs = 200\n",
        "    lr_start = cfg.lr_start\n",
        "    # set to 0 cos otherwise sometimes get assertion error: can only test a child process\n",
        "    num_workers = 0\n",
        "    valid_size = 0.001\n",
        "    batch_size = cfg.batch_size\n",
        "    beta_type = cfg.beta_type\n",
        "\n",
        "    trainset, testset, inputs, outputs = data.getDataset(dataset)\n",
        "    train_loader, test_loader = getDataloader(\n",
        "        trainset, testset, batch_size, num_workers)\n",
        "    net = getModel(net_type, inputs, outputs, priors, layer_type, activation_type).to(device)\n",
        "\n",
        "    ckpt_dir = f'checkpoints/{dataset}/bayesian'\n",
        "    ckpt_name = f'checkpoints/{dataset}/bayesian/model_{net_type}_{layer_type}_{activation_type}.pt'\n",
        "\n",
        "    if not os.path.exists(ckpt_dir):\n",
        "        os.makedirs(ckpt_dir, exist_ok=True)\n",
        "\n",
        "    criterion = metrics.ELBO(len(trainset)).to(device)\n",
        "    optimizer = Adam(net.parameters(), lr=lr_start)\n",
        "    lr_sched = lr_scheduler.ReduceLROnPlateau(optimizer, patience=6, verbose=True)\n",
        "    valid_loss_max = np.Inf\n",
        "    for epoch in range(n_epochs):  # loop over the dataset multiple times\n",
        "\n",
        "        train_loss, train_acc, train_kl = train_model(net, optimizer, criterion, train_loader, num_ens=train_ens, beta_type=beta_type, epoch=epoch, num_epochs=n_epochs)\n",
        "        # changed valid LOSS TO TEST LOSS!!!\n",
        "        valid_loss, valid_acc = validate_model(net, criterion, test_loader, num_ens=valid_ens, beta_type=beta_type, epoch=epoch, num_epochs=n_epochs)\n",
        "        lr_sched.step(valid_loss)\n",
        "\n",
        "        ELBO += [train_loss]\n",
        "        train_acc_tracker += [train_acc]\n",
        "        val_acc_tracker += [valid_acc]\n",
        "\n",
        "        print('Epoch: {} \\tTraining Loss: {:.4f} \\tTraining Accuracy: {:.4f} \\tValidation Loss: {:.4f} \\tValidation Accuracy: {:.4f} \\ttrain_kl_div: {:.4f}'.format(\n",
        "            epoch, train_loss, train_acc, valid_loss, valid_acc, train_kl))\n",
        "\n",
        "        # save model if validation accuracy has increased\n",
        "        if valid_loss <= valid_loss_max:\n",
        "            print('Validation loss decreased ({:.6f} --> {:.6f}).  Saving model ...'.format(\n",
        "                valid_loss_max, valid_loss))\n",
        "            torch.save(net.state_dict(), ckpt_name)\n",
        "            valid_loss_max = valid_loss\n",
        "    return ELBO, train_acc_tracker, val_acc_tracker"
      ],
      "execution_count": 57,
      "outputs": []
    },
    {
      "cell_type": "code",
      "metadata": {
        "id": "PC-oRSNXlSHp"
      },
      "source": [
        "dataset = 'MNIST'\n",
        "net_type = 'lenet'"
      ],
      "execution_count": 55,
      "outputs": []
    },
    {
      "cell_type": "code",
      "metadata": {
        "colab": {
          "base_uri": "https://localhost:8080/"
        },
        "id": "MGtvSnbVlWic",
        "outputId": "a5c3ed34-d63e-4d7d-f7ab-8380ebb2c46d"
      },
      "source": [
        "ELBO, train_acc, test_acc = run(dataset, net_type)"
      ],
      "execution_count": 58,
      "outputs": [
        {
          "output_type": "stream",
          "name": "stdout",
          "text": [
            "Epoch: 0 \tTraining Loss: 863849.4660 \tTraining Accuracy: 0.4624 \tValidation Loss: 546478.8328 \tValidation Accuracy: 0.8514 \ttrain_kl_div: 7738365.7043\n",
            "Validation loss decreased (inf --> 546478.832812).  Saving model ...\n",
            "Epoch: 1 \tTraining Loss: 449726.1745 \tTraining Accuracy: 0.8973 \tValidation Loss: 373479.2539 \tValidation Accuracy: 0.9243 \ttrain_kl_div: 4294934.1872\n",
            "Validation loss decreased (546478.832812 --> 373479.253906).  Saving model ...\n",
            "Epoch: 2 \tTraining Loss: 323325.0786 \tTraining Accuracy: 0.9307 \tValidation Loss: 276991.3578 \tValidation Accuracy: 0.9514 \ttrain_kl_div: 3094733.2351\n",
            "Validation loss decreased (373479.253906 --> 276991.357812).  Saving model ...\n",
            "Epoch: 3 \tTraining Loss: 245212.4936 \tTraining Accuracy: 0.9480 \tValidation Loss: 214198.8652 \tValidation Accuracy: 0.9581 \ttrain_kl_div: 2347956.9495\n",
            "Validation loss decreased (276991.357812 --> 214198.865234).  Saving model ...\n",
            "Epoch: 4 \tTraining Loss: 192346.3494 \tTraining Accuracy: 0.9549 \tValidation Loss: 171190.3434 \tValidation Accuracy: 0.9576 \ttrain_kl_div: 1834182.9835\n",
            "Validation loss decreased (214198.865234 --> 171190.343359).  Saving model ...\n",
            "Epoch: 5 \tTraining Loss: 154423.9107 \tTraining Accuracy: 0.9591 \tValidation Loss: 137954.0352 \tValidation Accuracy: 0.9632 \ttrain_kl_div: 1463820.7484\n",
            "Validation loss decreased (171190.343359 --> 137954.035156).  Saving model ...\n",
            "Epoch: 6 \tTraining Loss: 125889.5327 \tTraining Accuracy: 0.9633 \tValidation Loss: 113480.8332 \tValidation Accuracy: 0.9674 \ttrain_kl_div: 1186947.7181\n",
            "Validation loss decreased (137954.035156 --> 113480.833203).  Saving model ...\n",
            "Epoch: 7 \tTraining Loss: 104230.3779 \tTraining Accuracy: 0.9651 \tValidation Loss: 94287.6502 \tValidation Accuracy: 0.9705 \ttrain_kl_div: 975261.9883\n",
            "Validation loss decreased (113480.833203 --> 94287.650195).  Saving model ...\n",
            "Epoch: 8 \tTraining Loss: 87270.0486 \tTraining Accuracy: 0.9672 \tValidation Loss: 79366.0553 \tValidation Accuracy: 0.9694 \ttrain_kl_div: 809466.3309\n",
            "Validation loss decreased (94287.650195 --> 79366.055273).  Saving model ...\n",
            "Epoch: 9 \tTraining Loss: 73690.4387 \tTraining Accuracy: 0.9692 \tValidation Loss: 66731.2397 \tValidation Accuracy: 0.9755 \ttrain_kl_div: 677718.2085\n",
            "Validation loss decreased (79366.055273 --> 66731.239746).  Saving model ...\n",
            "Epoch: 10 \tTraining Loss: 62666.4847 \tTraining Accuracy: 0.9708 \tValidation Loss: 57741.9525 \tValidation Accuracy: 0.9706 \ttrain_kl_div: 570980.0681\n",
            "Validation loss decreased (66731.239746 --> 57741.952539).  Saving model ...\n",
            "Epoch: 11 \tTraining Loss: 53582.6679 \tTraining Accuracy: 0.9733 \tValidation Loss: 49544.0698 \tValidation Accuracy: 0.9731 \ttrain_kl_div: 483937.4673\n",
            "Validation loss decreased (57741.952539 --> 49544.069824).  Saving model ...\n",
            "Epoch: 12 \tTraining Loss: 46148.4205 \tTraining Accuracy: 0.9742 \tValidation Loss: 42472.7560 \tValidation Accuracy: 0.9771 \ttrain_kl_div: 411789.8644\n",
            "Validation loss decreased (49544.069824 --> 42472.755957).  Saving model ...\n",
            "Epoch: 13 \tTraining Loss: 40207.7963 \tTraining Accuracy: 0.9733 \tValidation Loss: 37366.3316 \tValidation Accuracy: 0.9757 \ttrain_kl_div: 352371.6203\n",
            "Validation loss decreased (42472.755957 --> 37366.331641).  Saving model ...\n",
            "Epoch: 14 \tTraining Loss: 34880.2204 \tTraining Accuracy: 0.9758 \tValidation Loss: 31983.6670 \tValidation Accuracy: 0.9796 \ttrain_kl_div: 302398.2652\n",
            "Validation loss decreased (37366.331641 --> 31983.666992).  Saving model ...\n",
            "Epoch: 15 \tTraining Loss: 30499.5645 \tTraining Accuracy: 0.9768 \tValidation Loss: 28167.1821 \tValidation Accuracy: 0.9777 \ttrain_kl_div: 260092.6278\n",
            "Validation loss decreased (31983.666992 --> 28167.182129).  Saving model ...\n",
            "Epoch: 16 \tTraining Loss: 26974.9772 \tTraining Accuracy: 0.9769 \tValidation Loss: 25230.3529 \tValidation Accuracy: 0.9767 \ttrain_kl_div: 224663.1691\n",
            "Validation loss decreased (28167.182129 --> 25230.352881).  Saving model ...\n",
            "Epoch: 17 \tTraining Loss: 23758.9992 \tTraining Accuracy: 0.9775 \tValidation Loss: 22351.9647 \tValidation Accuracy: 0.9769 \ttrain_kl_div: 194571.1911\n",
            "Validation loss decreased (25230.352881 --> 22351.964697).  Saving model ...\n",
            "Epoch: 18 \tTraining Loss: 21117.3541 \tTraining Accuracy: 0.9779 \tValidation Loss: 19559.8399 \tValidation Accuracy: 0.9798 \ttrain_kl_div: 168835.6019\n",
            "Validation loss decreased (22351.964697 --> 19559.839941).  Saving model ...\n",
            "Epoch: 19 \tTraining Loss: 18686.1887 \tTraining Accuracy: 0.9794 \tValidation Loss: 17864.4828 \tValidation Accuracy: 0.9777 \ttrain_kl_div: 147093.6112\n",
            "Validation loss decreased (19559.839941 --> 17864.482788).  Saving model ...\n",
            "Epoch: 20 \tTraining Loss: 16899.4936 \tTraining Accuracy: 0.9796 \tValidation Loss: 16233.8592 \tValidation Accuracy: 0.9780 \ttrain_kl_div: 128664.9826\n",
            "Validation loss decreased (17864.482788 --> 16233.859229).  Saving model ...\n",
            "Epoch: 21 \tTraining Loss: 15311.6650 \tTraining Accuracy: 0.9792 \tValidation Loss: 14578.0915 \tValidation Accuracy: 0.9788 \ttrain_kl_div: 112826.5646\n",
            "Validation loss decreased (16233.859229 --> 14578.091504).  Saving model ...\n",
            "Epoch: 22 \tTraining Loss: 13834.1136 \tTraining Accuracy: 0.9802 \tValidation Loss: 13035.1049 \tValidation Accuracy: 0.9820 \ttrain_kl_div: 99428.1062\n",
            "Validation loss decreased (14578.091504 --> 13035.104883).  Saving model ...\n",
            "Epoch: 23 \tTraining Loss: 12652.7497 \tTraining Accuracy: 0.9800 \tValidation Loss: 11961.3625 \tValidation Accuracy: 0.9813 \ttrain_kl_div: 87798.8490\n",
            "Validation loss decreased (13035.104883 --> 11961.362451).  Saving model ...\n",
            "Epoch: 24 \tTraining Loss: 11531.4565 \tTraining Accuracy: 0.9812 \tValidation Loss: 11419.2628 \tValidation Accuracy: 0.9792 \ttrain_kl_div: 78029.2084\n",
            "Validation loss decreased (11961.362451 --> 11419.262805).  Saving model ...\n",
            "Epoch: 25 \tTraining Loss: 10586.8868 \tTraining Accuracy: 0.9813 \tValidation Loss: 10190.3476 \tValidation Accuracy: 0.9804 \ttrain_kl_div: 69444.3087\n",
            "Validation loss decreased (11419.262805 --> 10190.347644).  Saving model ...\n",
            "Epoch: 26 \tTraining Loss: 9787.0330 \tTraining Accuracy: 0.9813 \tValidation Loss: 9632.7261 \tValidation Accuracy: 0.9803 \ttrain_kl_div: 62250.6126\n",
            "Validation loss decreased (10190.347644 --> 9632.726123).  Saving model ...\n",
            "Epoch: 27 \tTraining Loss: 9217.8346 \tTraining Accuracy: 0.9815 \tValidation Loss: 9365.3895 \tValidation Accuracy: 0.9786 \ttrain_kl_div: 56243.4209\n",
            "Validation loss decreased (9632.726123 --> 9365.389526).  Saving model ...\n",
            "Epoch: 28 \tTraining Loss: 8688.4311 \tTraining Accuracy: 0.9814 \tValidation Loss: 8202.6803 \tValidation Accuracy: 0.9820 \ttrain_kl_div: 51233.8745\n",
            "Validation loss decreased (9365.389526 --> 8202.680261).  Saving model ...\n",
            "Epoch: 29 \tTraining Loss: 8161.7100 \tTraining Accuracy: 0.9827 \tValidation Loss: 8055.5635 \tValidation Accuracy: 0.9817 \ttrain_kl_div: 47090.0000\n",
            "Validation loss decreased (8202.680261 --> 8055.563525).  Saving model ...\n",
            "Epoch: 30 \tTraining Loss: 7738.0121 \tTraining Accuracy: 0.9828 \tValidation Loss: 7514.9660 \tValidation Accuracy: 0.9813 \ttrain_kl_div: 43408.5875\n",
            "Validation loss decreased (8055.563525 --> 7514.965967).  Saving model ...\n",
            "Epoch: 31 \tTraining Loss: 7359.6916 \tTraining Accuracy: 0.9828 \tValidation Loss: 7375.3850 \tValidation Accuracy: 0.9830 \ttrain_kl_div: 40311.6068\n",
            "Validation loss decreased (7514.965967 --> 7375.384998).  Saving model ...\n",
            "Epoch: 32 \tTraining Loss: 6921.9177 \tTraining Accuracy: 0.9840 \tValidation Loss: 7160.1437 \tValidation Accuracy: 0.9825 \ttrain_kl_div: 37641.9940\n",
            "Validation loss decreased (7375.384998 --> 7160.143707).  Saving model ...\n",
            "Epoch: 33 \tTraining Loss: 6787.8050 \tTraining Accuracy: 0.9836 \tValidation Loss: 7057.3978 \tValidation Accuracy: 0.9822 \ttrain_kl_div: 35548.1027\n",
            "Validation loss decreased (7160.143707 --> 7057.397760).  Saving model ...\n",
            "Epoch: 34 \tTraining Loss: 6415.0069 \tTraining Accuracy: 0.9843 \tValidation Loss: 6866.7355 \tValidation Accuracy: 0.9822 \ttrain_kl_div: 33789.7703\n",
            "Validation loss decreased (7057.397760 --> 6866.735541).  Saving model ...\n",
            "Epoch: 35 \tTraining Loss: 6290.5326 \tTraining Accuracy: 0.9842 \tValidation Loss: 6682.7901 \tValidation Accuracy: 0.9813 \ttrain_kl_div: 32337.3617\n",
            "Validation loss decreased (6866.735541 --> 6682.790112).  Saving model ...\n",
            "Epoch: 36 \tTraining Loss: 6171.7322 \tTraining Accuracy: 0.9846 \tValidation Loss: 6878.6378 \tValidation Accuracy: 0.9809 \ttrain_kl_div: 31208.4554\n",
            "Epoch: 37 \tTraining Loss: 6131.4679 \tTraining Accuracy: 0.9845 \tValidation Loss: 6197.2324 \tValidation Accuracy: 0.9832 \ttrain_kl_div: 30288.1375\n",
            "Validation loss decreased (6682.790112 --> 6197.232410).  Saving model ...\n",
            "Epoch: 38 \tTraining Loss: 5966.4782 \tTraining Accuracy: 0.9846 \tValidation Loss: 6396.0075 \tValidation Accuracy: 0.9828 \ttrain_kl_div: 29482.0615\n",
            "Epoch: 39 \tTraining Loss: 5645.9720 \tTraining Accuracy: 0.9852 \tValidation Loss: 6161.8711 \tValidation Accuracy: 0.9842 \ttrain_kl_div: 28713.1124\n",
            "Validation loss decreased (6197.232410 --> 6161.871106).  Saving model ...\n",
            "Epoch: 40 \tTraining Loss: 5660.2700 \tTraining Accuracy: 0.9857 \tValidation Loss: 5864.4920 \tValidation Accuracy: 0.9839 \ttrain_kl_div: 28121.6592\n",
            "Validation loss decreased (6161.871106 --> 5864.492017).  Saving model ...\n",
            "Epoch: 41 \tTraining Loss: 5527.4250 \tTraining Accuracy: 0.9857 \tValidation Loss: 6231.7190 \tValidation Accuracy: 0.9802 \ttrain_kl_div: 27552.6964\n",
            "Epoch: 42 \tTraining Loss: 5608.6499 \tTraining Accuracy: 0.9851 \tValidation Loss: 6054.9694 \tValidation Accuracy: 0.9846 \ttrain_kl_div: 27146.6798\n",
            "Epoch: 43 \tTraining Loss: 5460.2920 \tTraining Accuracy: 0.9860 \tValidation Loss: 6816.9810 \tValidation Accuracy: 0.9801 \ttrain_kl_div: 26916.2916\n",
            "Epoch: 44 \tTraining Loss: 5295.4793 \tTraining Accuracy: 0.9862 \tValidation Loss: 5862.4771 \tValidation Accuracy: 0.9863 \ttrain_kl_div: 26506.0166\n",
            "Validation loss decreased (5864.492017 --> 5862.477057).  Saving model ...\n",
            "Epoch: 45 \tTraining Loss: 5269.3925 \tTraining Accuracy: 0.9866 \tValidation Loss: 6097.7722 \tValidation Accuracy: 0.9831 \ttrain_kl_div: 26210.0209\n",
            "Epoch: 46 \tTraining Loss: 5116.7165 \tTraining Accuracy: 0.9866 \tValidation Loss: 6308.0253 \tValidation Accuracy: 0.9820 \ttrain_kl_div: 25904.6341\n",
            "Epoch: 47 \tTraining Loss: 5116.3988 \tTraining Accuracy: 0.9869 \tValidation Loss: 6061.6602 \tValidation Accuracy: 0.9836 \ttrain_kl_div: 25745.7892\n",
            "Epoch: 48 \tTraining Loss: 5082.3645 \tTraining Accuracy: 0.9869 \tValidation Loss: 6010.6742 \tValidation Accuracy: 0.9829 \ttrain_kl_div: 25581.7489\n",
            "Epoch: 49 \tTraining Loss: 5077.2299 \tTraining Accuracy: 0.9872 \tValidation Loss: 5435.1326 \tValidation Accuracy: 0.9858 \ttrain_kl_div: 25489.4627\n",
            "Validation loss decreased (5862.477057 --> 5435.132562).  Saving model ...\n",
            "Epoch: 50 \tTraining Loss: 4917.2067 \tTraining Accuracy: 0.9878 \tValidation Loss: 5849.2860 \tValidation Accuracy: 0.9825 \ttrain_kl_div: 25317.4530\n",
            "Epoch: 51 \tTraining Loss: 5012.8244 \tTraining Accuracy: 0.9868 \tValidation Loss: 5722.3276 \tValidation Accuracy: 0.9848 \ttrain_kl_div: 25259.4497\n",
            "Epoch: 52 \tTraining Loss: 5001.5420 \tTraining Accuracy: 0.9873 \tValidation Loss: 5637.0700 \tValidation Accuracy: 0.9840 \ttrain_kl_div: 25248.0441\n",
            "Epoch: 53 \tTraining Loss: 4963.0786 \tTraining Accuracy: 0.9873 \tValidation Loss: 5608.0055 \tValidation Accuracy: 0.9839 \ttrain_kl_div: 25133.6823\n",
            "Epoch: 54 \tTraining Loss: 4911.5595 \tTraining Accuracy: 0.9875 \tValidation Loss: 5481.2008 \tValidation Accuracy: 0.9858 \ttrain_kl_div: 25064.0501\n",
            "Epoch: 55 \tTraining Loss: 4844.9505 \tTraining Accuracy: 0.9880 \tValidation Loss: 5681.4468 \tValidation Accuracy: 0.9844 \ttrain_kl_div: 25013.0436\n",
            "Epoch    57: reducing learning rate of group 0 to 1.0000e-04.\n",
            "Epoch: 56 \tTraining Loss: 4676.6359 \tTraining Accuracy: 0.9889 \tValidation Loss: 5846.1773 \tValidation Accuracy: 0.9838 \ttrain_kl_div: 24791.5507\n",
            "Epoch: 57 \tTraining Loss: 4518.9827 \tTraining Accuracy: 0.9896 \tValidation Loss: 5522.3840 \tValidation Accuracy: 0.9852 \ttrain_kl_div: 24677.2989\n",
            "Epoch: 58 \tTraining Loss: 4415.6203 \tTraining Accuracy: 0.9898 \tValidation Loss: 5430.7056 \tValidation Accuracy: 0.9849 \ttrain_kl_div: 24578.0076\n",
            "Validation loss decreased (5435.132562 --> 5430.705621).  Saving model ...\n",
            "Epoch: 59 \tTraining Loss: 4375.6419 \tTraining Accuracy: 0.9899 \tValidation Loss: 5432.6342 \tValidation Accuracy: 0.9847 \ttrain_kl_div: 24485.0738\n",
            "Epoch: 60 \tTraining Loss: 4239.0829 \tTraining Accuracy: 0.9905 \tValidation Loss: 5515.6867 \tValidation Accuracy: 0.9855 \ttrain_kl_div: 24393.4962\n",
            "Epoch: 61 \tTraining Loss: 4330.8965 \tTraining Accuracy: 0.9901 \tValidation Loss: 5715.1788 \tValidation Accuracy: 0.9833 \ttrain_kl_div: 24303.1934\n",
            "Epoch: 62 \tTraining Loss: 4256.0208 \tTraining Accuracy: 0.9902 \tValidation Loss: 5791.1678 \tValidation Accuracy: 0.9847 \ttrain_kl_div: 24210.8948\n",
            "Epoch: 63 \tTraining Loss: 4371.8455 \tTraining Accuracy: 0.9902 \tValidation Loss: 5097.6350 \tValidation Accuracy: 0.9862 \ttrain_kl_div: 24125.9738\n",
            "Validation loss decreased (5430.705621 --> 5097.635040).  Saving model ...\n",
            "Epoch: 64 \tTraining Loss: 4230.8418 \tTraining Accuracy: 0.9906 \tValidation Loss: 5375.6348 \tValidation Accuracy: 0.9872 \ttrain_kl_div: 24047.8398\n",
            "Epoch: 65 \tTraining Loss: 4266.9316 \tTraining Accuracy: 0.9905 \tValidation Loss: 5467.8404 \tValidation Accuracy: 0.9860 \ttrain_kl_div: 23963.3010\n",
            "Epoch: 66 \tTraining Loss: 4219.8614 \tTraining Accuracy: 0.9906 \tValidation Loss: 5356.5928 \tValidation Accuracy: 0.9851 \ttrain_kl_div: 23882.9304\n",
            "Epoch: 67 \tTraining Loss: 4311.5655 \tTraining Accuracy: 0.9901 \tValidation Loss: 5120.9740 \tValidation Accuracy: 0.9861 \ttrain_kl_div: 23817.1629\n",
            "Epoch: 68 \tTraining Loss: 4215.9198 \tTraining Accuracy: 0.9904 \tValidation Loss: 5235.5193 \tValidation Accuracy: 0.9866 \ttrain_kl_div: 23765.3142\n",
            "Epoch: 69 \tTraining Loss: 4226.6358 \tTraining Accuracy: 0.9902 \tValidation Loss: 5364.8786 \tValidation Accuracy: 0.9860 \ttrain_kl_div: 23708.4903\n",
            "Epoch    71: reducing learning rate of group 0 to 1.0000e-05.\n",
            "Epoch: 70 \tTraining Loss: 4241.3507 \tTraining Accuracy: 0.9908 \tValidation Loss: 5171.7427 \tValidation Accuracy: 0.9865 \ttrain_kl_div: 23658.1488\n"
          ]
        },
        {
          "output_type": "stream",
          "name": "stderr",
          "text": [
            "Exception ignored in: <function _MultiProcessingDataLoaderIter.__del__ at 0x7fc2bd463290>\n",
            "Traceback (most recent call last):\n",
            "  File \"/usr/local/lib/python3.7/dist-packages/torch/utils/data/dataloader.py\", line 1328, in __del__\n",
            "    self._shutdown_workers()\n",
            "  File \"/usr/local/lib/python3.7/dist-packages/torch/utils/data/dataloader.py\", line 1320, in _shutdown_workers\n",
            "    if w.is_alive():\n",
            "  File \"/usr/lib/python3.7/multiprocessing/process.py\", line 151, in is_alive\n",
            "    assert self._parent_pid == os.getpid(), 'can only test a child process'\n",
            "AssertionError: can only test a child process\n",
            "Exception ignored in: <function _MultiProcessingDataLoaderIter.__del__ at 0x7fc2bd463290>\n",
            "Traceback (most recent call last):\n",
            "  File \"/usr/local/lib/python3.7/dist-packages/torch/utils/data/dataloader.py\", line 1328, in __del__\n",
            "    self._shutdown_workers()\n",
            "  File \"/usr/local/lib/python3.7/dist-packages/torch/utils/data/dataloader.py\", line 1320, in _shutdown_workers\n",
            "    if w.is_alive():\n",
            "  File \"/usr/lib/python3.7/multiprocessing/process.py\", line 151, in is_alive\n",
            "    assert self._parent_pid == os.getpid(), 'can only test a child process'\n",
            "AssertionError: can only test a child process\n"
          ]
        },
        {
          "output_type": "stream",
          "name": "stdout",
          "text": [
            "Epoch: 71 \tTraining Loss: 4246.6791 \tTraining Accuracy: 0.9902 \tValidation Loss: 5293.0136 \tValidation Accuracy: 0.9850 \ttrain_kl_div: 23630.2118\n",
            "Epoch: 72 \tTraining Loss: 4169.1652 \tTraining Accuracy: 0.9907 \tValidation Loss: 5468.9588 \tValidation Accuracy: 0.9858 \ttrain_kl_div: 23624.1475\n",
            "Epoch: 73 \tTraining Loss: 4221.0554 \tTraining Accuracy: 0.9906 \tValidation Loss: 5327.8705 \tValidation Accuracy: 0.9861 \ttrain_kl_div: 23617.0051\n"
          ]
        },
        {
          "output_type": "stream",
          "name": "stderr",
          "text": [
            "Exception ignored in: <function _MultiProcessingDataLoaderIter.__del__ at 0x7fc2bd463290>\n",
            "Traceback (most recent call last):\n",
            "  File \"/usr/local/lib/python3.7/dist-packages/torch/utils/data/dataloader.py\", line 1328, in __del__\n",
            "    self._shutdown_workers()\n",
            "  File \"/usr/local/lib/python3.7/dist-packages/torch/utils/data/dataloader.py\", line 1320, in _shutdown_workers\n",
            "    if w.is_alive():\n",
            "  File \"/usr/lib/python3.7/multiprocessing/process.py\", line 151, in is_alive\n",
            "    assert self._parent_pid == os.getpid(), 'can only test a child process'\n",
            "AssertionError: can only test a child process\n",
            "Exception ignored in: <function _MultiProcessingDataLoaderIter.__del__ at 0x7fc2bd463290>\n",
            "Traceback (most recent call last):\n",
            "  File \"/usr/local/lib/python3.7/dist-packages/torch/utils/data/dataloader.py\", line 1328, in __del__\n",
            "    self._shutdown_workers()\n",
            "  File \"/usr/local/lib/python3.7/dist-packages/torch/utils/data/dataloader.py\", line 1320, in _shutdown_workers\n",
            "    if w.is_alive():\n",
            "  File \"/usr/lib/python3.7/multiprocessing/process.py\", line 151, in is_alive\n",
            "    assert self._parent_pid == os.getpid(), 'can only test a child process'\n",
            "AssertionError: can only test a child process\n"
          ]
        },
        {
          "output_type": "stream",
          "name": "stdout",
          "text": [
            "Epoch: 74 \tTraining Loss: 4274.3699 \tTraining Accuracy: 0.9902 \tValidation Loss: 5237.4375 \tValidation Accuracy: 0.9876 \ttrain_kl_div: 23610.8296\n"
          ]
        },
        {
          "output_type": "stream",
          "name": "stderr",
          "text": [
            "Exception ignored in: <function _MultiProcessingDataLoaderIter.__del__ at 0x7fc2bd463290>\n",
            "Traceback (most recent call last):\n",
            "  File \"/usr/local/lib/python3.7/dist-packages/torch/utils/data/dataloader.py\", line 1328, in __del__\n",
            "    self._shutdown_workers()\n",
            "  File \"/usr/local/lib/python3.7/dist-packages/torch/utils/data/dataloader.py\", line 1320, in _shutdown_workers\n",
            "    if w.is_alive():\n",
            "  File \"/usr/lib/python3.7/multiprocessing/process.py\", line 151, in is_alive\n",
            "    assert self._parent_pid == os.getpid(), 'can only test a child process'\n",
            "AssertionError: can only test a child process\n",
            "Exception ignored in: <function _MultiProcessingDataLoaderIter.__del__ at 0x7fc2bd463290>\n",
            "Traceback (most recent call last):\n",
            "  File \"/usr/local/lib/python3.7/dist-packages/torch/utils/data/dataloader.py\", line 1328, in __del__\n",
            "    self._shutdown_workers()\n",
            "  File \"/usr/local/lib/python3.7/dist-packages/torch/utils/data/dataloader.py\", line 1320, in _shutdown_workers\n",
            "    if w.is_alive():\n",
            "  File \"/usr/lib/python3.7/multiprocessing/process.py\", line 151, in is_alive\n",
            "    assert self._parent_pid == os.getpid(), 'can only test a child process'\n",
            "AssertionError: can only test a child process\n"
          ]
        },
        {
          "output_type": "stream",
          "name": "stdout",
          "text": [
            "Epoch: 75 \tTraining Loss: 4206.2453 \tTraining Accuracy: 0.9905 \tValidation Loss: 5283.9434 \tValidation Accuracy: 0.9863 \ttrain_kl_div: 23604.0426\n"
          ]
        },
        {
          "output_type": "stream",
          "name": "stderr",
          "text": [
            "Exception ignored in: <function _MultiProcessingDataLoaderIter.__del__ at 0x7fc2bd463290>\n",
            "Traceback (most recent call last):\n",
            "  File \"/usr/local/lib/python3.7/dist-packages/torch/utils/data/dataloader.py\", line 1328, in __del__\n",
            "    self._shutdown_workers()\n",
            "  File \"/usr/local/lib/python3.7/dist-packages/torch/utils/data/dataloader.py\", line 1320, in _shutdown_workers\n",
            "    if w.is_alive():\n",
            "  File \"/usr/lib/python3.7/multiprocessing/process.py\", line 151, in is_alive\n",
            "    assert self._parent_pid == os.getpid(), 'can only test a child process'\n",
            "AssertionError: can only test a child process\n",
            "Exception ignored in: <function _MultiProcessingDataLoaderIter.__del__ at 0x7fc2bd463290>\n",
            "Traceback (most recent call last):\n",
            "  File \"/usr/local/lib/python3.7/dist-packages/torch/utils/data/dataloader.py\", line 1328, in __del__\n",
            "    self._shutdown_workers()\n",
            "  File \"/usr/local/lib/python3.7/dist-packages/torch/utils/data/dataloader.py\", line 1320, in _shutdown_workers\n",
            "    if w.is_alive():\n",
            "  File \"/usr/lib/python3.7/multiprocessing/process.py\", line 151, in is_alive\n",
            "    assert self._parent_pid == os.getpid(), 'can only test a child process'\n",
            "AssertionError: can only test a child process\n",
            "Exception ignored in: <function _MultiProcessingDataLoaderIter.__del__ at 0x7fc2bd463290>\n",
            "Traceback (most recent call last):\n",
            "  File \"/usr/local/lib/python3.7/dist-packages/torch/utils/data/dataloader.py\", line 1328, in __del__\n",
            "    self._shutdown_workers()\n",
            "Exception ignored in: <function _MultiProcessingDataLoaderIter.__del__ at 0x7fc2bd463290>\n",
            "Traceback (most recent call last):\n",
            "  File \"/usr/local/lib/python3.7/dist-packages/torch/utils/data/dataloader.py\", line 1328, in __del__\n",
            "  File \"/usr/local/lib/python3.7/dist-packages/torch/utils/data/dataloader.py\", line 1320, in _shutdown_workers\n",
            "    self._shutdown_workers()\n",
            "    if w.is_alive():\n",
            "  File \"/usr/lib/python3.7/multiprocessing/process.py\", line 151, in is_alive\n",
            "    assert self._parent_pid == os.getpid(), 'can only test a child process'\n",
            "  File \"/usr/local/lib/python3.7/dist-packages/torch/utils/data/dataloader.py\", line 1320, in _shutdown_workers\n",
            "AssertionError: can only test a child process\n",
            "    if w.is_alive():\n",
            "  File \"/usr/lib/python3.7/multiprocessing/process.py\", line 151, in is_alive\n",
            "    assert self._parent_pid == os.getpid(), 'can only test a child process'\n",
            "AssertionError: can only test a child process\n"
          ]
        },
        {
          "output_type": "stream",
          "name": "stdout",
          "text": [
            "Epoch: 76 \tTraining Loss: 4129.0919 \tTraining Accuracy: 0.9908 \tValidation Loss: 5183.2296 \tValidation Accuracy: 0.9858 \ttrain_kl_div: 23596.9844\n"
          ]
        },
        {
          "output_type": "stream",
          "name": "stderr",
          "text": [
            "Exception ignored in: <function _MultiProcessingDataLoaderIter.__del__ at 0x7fc2bd463290>\n",
            "Exception ignored in: <function _MultiProcessingDataLoaderIter.__del__ at 0x7fc2bd463290>\n",
            "Traceback (most recent call last):\n",
            "Traceback (most recent call last):\n",
            "  File \"/usr/local/lib/python3.7/dist-packages/torch/utils/data/dataloader.py\", line 1328, in __del__\n",
            "  File \"/usr/local/lib/python3.7/dist-packages/torch/utils/data/dataloader.py\", line 1328, in __del__\n",
            "    self._shutdown_workers()\n",
            "    self._shutdown_workers()\n",
            "  File \"/usr/local/lib/python3.7/dist-packages/torch/utils/data/dataloader.py\", line 1320, in _shutdown_workers\n",
            "  File \"/usr/local/lib/python3.7/dist-packages/torch/utils/data/dataloader.py\", line 1320, in _shutdown_workers\n",
            "    if w.is_alive():\n",
            "    if w.is_alive():\n",
            "  File \"/usr/lib/python3.7/multiprocessing/process.py\", line 151, in is_alive\n",
            "  File \"/usr/lib/python3.7/multiprocessing/process.py\", line 151, in is_alive\n",
            "    assert self._parent_pid == os.getpid(), 'can only test a child process'\n",
            "    assert self._parent_pid == os.getpid(), 'can only test a child process'\n",
            "AssertionError: can only test a child process\n",
            "AssertionError: can only test a child process\n",
            "Exception ignored in: <function _MultiProcessingDataLoaderIter.__del__ at 0x7fc2bd463290>\n",
            "Exception ignored in: <function _MultiProcessingDataLoaderIter.__del__ at 0x7fc2bd463290>\n",
            "Traceback (most recent call last):\n",
            "  File \"/usr/local/lib/python3.7/dist-packages/torch/utils/data/dataloader.py\", line 1328, in __del__\n",
            "    self._shutdown_workers()\n",
            "  File \"/usr/local/lib/python3.7/dist-packages/torch/utils/data/dataloader.py\", line 1320, in _shutdown_workers\n",
            "Traceback (most recent call last):\n",
            "    if w.is_alive():\n",
            "  File \"/usr/local/lib/python3.7/dist-packages/torch/utils/data/dataloader.py\", line 1328, in __del__\n",
            "  File \"/usr/lib/python3.7/multiprocessing/process.py\", line 151, in is_alive\n",
            "    self._shutdown_workers()\n",
            "  File \"/usr/local/lib/python3.7/dist-packages/torch/utils/data/dataloader.py\", line 1320, in _shutdown_workers\n",
            "    if w.is_alive():\n",
            "    assert self._parent_pid == os.getpid(), 'can only test a child process'\n",
            "  File \"/usr/lib/python3.7/multiprocessing/process.py\", line 151, in is_alive\n",
            "    assert self._parent_pid == os.getpid(), 'can only test a child process'\n",
            "AssertionError: can only test a child process\n",
            "AssertionError: can only test a child process\n"
          ]
        },
        {
          "output_type": "stream",
          "name": "stdout",
          "text": [
            "Epoch    78: reducing learning rate of group 0 to 1.0000e-06.\n",
            "Epoch: 77 \tTraining Loss: 4227.1355 \tTraining Accuracy: 0.9902 \tValidation Loss: 5635.8038 \tValidation Accuracy: 0.9859 \ttrain_kl_div: 23590.3351\n"
          ]
        },
        {
          "output_type": "stream",
          "name": "stderr",
          "text": [
            "Exception ignored in: <function _MultiProcessingDataLoaderIter.__del__ at 0x7fc2bd463290>\n",
            "Traceback (most recent call last):\n",
            "  File \"/usr/local/lib/python3.7/dist-packages/torch/utils/data/dataloader.py\", line 1328, in __del__\n",
            "    self._shutdown_workers()\n",
            "Exception ignored in: <function _MultiProcessingDataLoaderIter.__del__ at 0x7fc2bd463290>\n",
            "  File \"/usr/local/lib/python3.7/dist-packages/torch/utils/data/dataloader.py\", line 1320, in _shutdown_workers\n",
            "Traceback (most recent call last):\n",
            "    if w.is_alive():\n",
            "  File \"/usr/local/lib/python3.7/dist-packages/torch/utils/data/dataloader.py\", line 1328, in __del__\n",
            "  File \"/usr/lib/python3.7/multiprocessing/process.py\", line 151, in is_alive\n",
            "    self._shutdown_workers()\n",
            "    assert self._parent_pid == os.getpid(), 'can only test a child process'\n",
            "AssertionError: can only test a child process\n",
            "  File \"/usr/local/lib/python3.7/dist-packages/torch/utils/data/dataloader.py\", line 1320, in _shutdown_workers\n",
            "    if w.is_alive():\n",
            "  File \"/usr/lib/python3.7/multiprocessing/process.py\", line 151, in is_alive\n",
            "    assert self._parent_pid == os.getpid(), 'can only test a child process'\n",
            "AssertionError: can only test a child process\n",
            "Exception ignored in: <function _MultiProcessingDataLoaderIter.__del__ at 0x7fc2bd463290>\n",
            "Traceback (most recent call last):\n",
            "  File \"/usr/local/lib/python3.7/dist-packages/torch/utils/data/dataloader.py\", line 1328, in __del__\n",
            "    self._shutdown_workers()\n",
            "  File \"/usr/local/lib/python3.7/dist-packages/torch/utils/data/dataloader.py\", line 1320, in _shutdown_workers\n",
            "Exception ignored in: <function _MultiProcessingDataLoaderIter.__del__ at 0x7fc2bd463290>\n",
            "    if w.is_alive():\n",
            "Traceback (most recent call last):\n",
            "  File \"/usr/local/lib/python3.7/dist-packages/torch/utils/data/dataloader.py\", line 1328, in __del__\n",
            "  File \"/usr/lib/python3.7/multiprocessing/process.py\", line 151, in is_alive\n",
            "    self._shutdown_workers()\n",
            "  File \"/usr/local/lib/python3.7/dist-packages/torch/utils/data/dataloader.py\", line 1320, in _shutdown_workers\n",
            "    if w.is_alive():\n",
            "    assert self._parent_pid == os.getpid(), 'can only test a child process'\n",
            "  File \"/usr/lib/python3.7/multiprocessing/process.py\", line 151, in is_alive\n",
            "    assert self._parent_pid == os.getpid(), 'can only test a child process'\n",
            "AssertionError: can only test a child process\n",
            "AssertionError: can only test a child process\n"
          ]
        },
        {
          "output_type": "stream",
          "name": "stdout",
          "text": [
            "Epoch: 78 \tTraining Loss: 4177.9565 \tTraining Accuracy: 0.9903 \tValidation Loss: 5215.8106 \tValidation Accuracy: 0.9856 \ttrain_kl_div: 23587.0993\n"
          ]
        },
        {
          "output_type": "stream",
          "name": "stderr",
          "text": [
            "Exception ignored in: <function _MultiProcessingDataLoaderIter.__del__ at 0x7fc2bd463290>\n",
            "Traceback (most recent call last):\n",
            "  File \"/usr/local/lib/python3.7/dist-packages/torch/utils/data/dataloader.py\", line 1328, in __del__\n",
            "    self._shutdown_workers()\n",
            "Exception ignored in: <function _MultiProcessingDataLoaderIter.__del__ at 0x7fc2bd463290>\n",
            "  File \"/usr/local/lib/python3.7/dist-packages/torch/utils/data/dataloader.py\", line 1320, in _shutdown_workers\n",
            "Traceback (most recent call last):\n",
            "  File \"/usr/local/lib/python3.7/dist-packages/torch/utils/data/dataloader.py\", line 1328, in __del__\n",
            "    if w.is_alive():\n",
            "    self._shutdown_workers()\n",
            "  File \"/usr/lib/python3.7/multiprocessing/process.py\", line 151, in is_alive\n",
            "  File \"/usr/local/lib/python3.7/dist-packages/torch/utils/data/dataloader.py\", line 1320, in _shutdown_workers\n",
            "    if w.is_alive():\n",
            "  File \"/usr/lib/python3.7/multiprocessing/process.py\", line 151, in is_alive\n",
            "    assert self._parent_pid == os.getpid(), 'can only test a child process'\n",
            "    assert self._parent_pid == os.getpid(), 'can only test a child process'\n",
            "AssertionError: can only test a child process\n",
            "AssertionError: can only test a child process\n",
            "Exception ignored in: <function _MultiProcessingDataLoaderIter.__del__ at 0x7fc2bd463290>\n",
            "Traceback (most recent call last):\n",
            "  File \"/usr/local/lib/python3.7/dist-packages/torch/utils/data/dataloader.py\", line 1328, in __del__\n",
            "    self._shutdown_workers()\n",
            "  File \"/usr/local/lib/python3.7/dist-packages/torch/utils/data/dataloader.py\", line 1320, in _shutdown_workers\n",
            "    if w.is_alive():\n",
            "  File \"/usr/lib/python3.7/multiprocessing/process.py\", line 151, in is_alive\n",
            "    assert self._parent_pid == os.getpid(), 'can only test a child process'\n",
            "AssertionError: can only test a child process\n",
            "Exception ignored in: <function _MultiProcessingDataLoaderIter.__del__ at 0x7fc2bd463290>\n",
            "Traceback (most recent call last):\n",
            "  File \"/usr/local/lib/python3.7/dist-packages/torch/utils/data/dataloader.py\", line 1328, in __del__\n",
            "    self._shutdown_workers()\n",
            "  File \"/usr/local/lib/python3.7/dist-packages/torch/utils/data/dataloader.py\", line 1320, in _shutdown_workers\n",
            "    if w.is_alive():\n",
            "  File \"/usr/lib/python3.7/multiprocessing/process.py\", line 151, in is_alive\n",
            "    assert self._parent_pid == os.getpid(), 'can only test a child process'\n",
            "AssertionError: can only test a child process\n"
          ]
        },
        {
          "output_type": "stream",
          "name": "stdout",
          "text": [
            "Epoch: 79 \tTraining Loss: 4229.0388 \tTraining Accuracy: 0.9906 \tValidation Loss: 5505.5276 \tValidation Accuracy: 0.9852 \ttrain_kl_div: 23586.4398\n"
          ]
        },
        {
          "output_type": "stream",
          "name": "stderr",
          "text": [
            "Exception ignored in: <function _MultiProcessingDataLoaderIter.__del__ at 0x7fc2bd463290>\n",
            "Traceback (most recent call last):\n",
            "  File \"/usr/local/lib/python3.7/dist-packages/torch/utils/data/dataloader.py\", line 1328, in __del__\n",
            "    self._shutdown_workers()\n",
            "  File \"/usr/local/lib/python3.7/dist-packages/torch/utils/data/dataloader.py\", line 1320, in _shutdown_workers\n",
            "Exception ignored in: <function _MultiProcessingDataLoaderIter.__del__ at 0x7fc2bd463290>\n",
            "    if w.is_alive():\n",
            "Traceback (most recent call last):\n",
            "  File \"/usr/lib/python3.7/multiprocessing/process.py\", line 151, in is_alive\n",
            "  File \"/usr/local/lib/python3.7/dist-packages/torch/utils/data/dataloader.py\", line 1328, in __del__\n",
            "    assert self._parent_pid == os.getpid(), 'can only test a child process'\n",
            "AssertionError: can only test a child process\n",
            "    self._shutdown_workers()\n",
            "  File \"/usr/local/lib/python3.7/dist-packages/torch/utils/data/dataloader.py\", line 1320, in _shutdown_workers\n",
            "    if w.is_alive():\n",
            "  File \"/usr/lib/python3.7/multiprocessing/process.py\", line 151, in is_alive\n",
            "    assert self._parent_pid == os.getpid(), 'can only test a child process'\n",
            "AssertionError: can only test a child process\n",
            "Exception ignored in: <function _MultiProcessingDataLoaderIter.__del__ at 0x7fc2bd463290>\n",
            "Traceback (most recent call last):\n",
            "  File \"/usr/local/lib/python3.7/dist-packages/torch/utils/data/dataloader.py\", line 1328, in __del__\n",
            "    self._shutdown_workers()\n",
            "  File \"/usr/local/lib/python3.7/dist-packages/torch/utils/data/dataloader.py\", line 1320, in _shutdown_workers\n",
            "Exception ignored in: <function _MultiProcessingDataLoaderIter.__del__ at 0x7fc2bd463290>\n",
            "Traceback (most recent call last):\n",
            "    if w.is_alive():\n",
            "  File \"/usr/local/lib/python3.7/dist-packages/torch/utils/data/dataloader.py\", line 1328, in __del__\n",
            "    self._shutdown_workers()\n",
            "  File \"/usr/local/lib/python3.7/dist-packages/torch/utils/data/dataloader.py\", line 1320, in _shutdown_workers\n",
            "    if w.is_alive():\n",
            "  File \"/usr/lib/python3.7/multiprocessing/process.py\", line 151, in is_alive\n",
            "  File \"/usr/lib/python3.7/multiprocessing/process.py\", line 151, in is_alive\n",
            "    assert self._parent_pid == os.getpid(), 'can only test a child process'\n",
            "    assert self._parent_pid == os.getpid(), 'can only test a child process'\n",
            "AssertionError: can only test a child process\n",
            "AssertionError: can only test a child process\n"
          ]
        },
        {
          "output_type": "stream",
          "name": "stdout",
          "text": [
            "Epoch: 80 \tTraining Loss: 4165.9278 \tTraining Accuracy: 0.9904 \tValidation Loss: 4973.6767 \tValidation Accuracy: 0.9870 \ttrain_kl_div: 23585.7249\n",
            "Validation loss decreased (5097.635040 --> 4973.676697).  Saving model ...\n"
          ]
        },
        {
          "output_type": "stream",
          "name": "stderr",
          "text": [
            "Exception ignored in: <function _MultiProcessingDataLoaderIter.__del__ at 0x7fc2bd463290>\n",
            "Traceback (most recent call last):\n",
            "  File \"/usr/local/lib/python3.7/dist-packages/torch/utils/data/dataloader.py\", line 1328, in __del__\n",
            "    self._shutdown_workers()\n",
            "  File \"/usr/local/lib/python3.7/dist-packages/torch/utils/data/dataloader.py\", line 1320, in _shutdown_workers\n",
            "Exception ignored in: <function _MultiProcessingDataLoaderIter.__del__ at 0x7fc2bd463290>\n",
            "    if w.is_alive():\n",
            "  File \"/usr/lib/python3.7/multiprocessing/process.py\", line 151, in is_alive\n",
            "    assert self._parent_pid == os.getpid(), 'can only test a child process'\n",
            "AssertionError: can only test a child process\n",
            "Traceback (most recent call last):\n",
            "  File \"/usr/local/lib/python3.7/dist-packages/torch/utils/data/dataloader.py\", line 1328, in __del__\n",
            "    self._shutdown_workers()\n",
            "  File \"/usr/local/lib/python3.7/dist-packages/torch/utils/data/dataloader.py\", line 1320, in _shutdown_workers\n",
            "    if w.is_alive():\n",
            "  File \"/usr/lib/python3.7/multiprocessing/process.py\", line 151, in is_alive\n",
            "    assert self._parent_pid == os.getpid(), 'can only test a child process'\n",
            "AssertionError: can only test a child process\n",
            "Exception ignored in: <function _MultiProcessingDataLoaderIter.__del__ at 0x7fc2bd463290>\n",
            "Traceback (most recent call last):\n",
            "  File \"/usr/local/lib/python3.7/dist-packages/torch/utils/data/dataloader.py\", line 1328, in __del__\n",
            "    self._shutdown_workers()\n",
            "  File \"/usr/local/lib/python3.7/dist-packages/torch/utils/data/dataloader.py\", line 1320, in _shutdown_workers\n",
            "Exception ignored in: <function _MultiProcessingDataLoaderIter.__del__ at 0x7fc2bd463290>\n",
            "    if w.is_alive():\n",
            "Traceback (most recent call last):\n",
            "  File \"/usr/lib/python3.7/multiprocessing/process.py\", line 151, in is_alive\n",
            "  File \"/usr/local/lib/python3.7/dist-packages/torch/utils/data/dataloader.py\", line 1328, in __del__\n",
            "    assert self._parent_pid == os.getpid(), 'can only test a child process'\n",
            "    self._shutdown_workers()\n",
            "AssertionError: can only test a child process\n",
            "  File \"/usr/local/lib/python3.7/dist-packages/torch/utils/data/dataloader.py\", line 1320, in _shutdown_workers\n",
            "    if w.is_alive():\n",
            "  File \"/usr/lib/python3.7/multiprocessing/process.py\", line 151, in is_alive\n",
            "    assert self._parent_pid == os.getpid(), 'can only test a child process'\n",
            "AssertionError: can only test a child process\n"
          ]
        },
        {
          "output_type": "stream",
          "name": "stdout",
          "text": [
            "Epoch: 81 \tTraining Loss: 4203.7125 \tTraining Accuracy: 0.9910 \tValidation Loss: 5716.6169 \tValidation Accuracy: 0.9835 \ttrain_kl_div: 23585.1264\n"
          ]
        },
        {
          "output_type": "stream",
          "name": "stderr",
          "text": [
            "Exception ignored in: <function _MultiProcessingDataLoaderIter.__del__ at 0x7fc2bd463290>\n",
            "Traceback (most recent call last):\n",
            "  File \"/usr/local/lib/python3.7/dist-packages/torch/utils/data/dataloader.py\", line 1328, in __del__\n",
            "    self._shutdown_workers()\n",
            "  File \"/usr/local/lib/python3.7/dist-packages/torch/utils/data/dataloader.py\", line 1320, in _shutdown_workers\n",
            "    if w.is_alive():\n",
            "  File \"/usr/lib/python3.7/multiprocessing/process.py\", line 151, in is_alive\n",
            "Exception ignored in: <function _MultiProcessingDataLoaderIter.__del__ at 0x7fc2bd463290>\n",
            "    assert self._parent_pid == os.getpid(), 'can only test a child process'\n",
            "Traceback (most recent call last):\n",
            "AssertionError: can only test a child process\n",
            "  File \"/usr/local/lib/python3.7/dist-packages/torch/utils/data/dataloader.py\", line 1328, in __del__\n",
            "    self._shutdown_workers()\n",
            "  File \"/usr/local/lib/python3.7/dist-packages/torch/utils/data/dataloader.py\", line 1320, in _shutdown_workers\n",
            "    if w.is_alive():\n",
            "  File \"/usr/lib/python3.7/multiprocessing/process.py\", line 151, in is_alive\n",
            "    assert self._parent_pid == os.getpid(), 'can only test a child process'\n",
            "AssertionError: can only test a child process\n",
            "Exception ignored in: <function _MultiProcessingDataLoaderIter.__del__ at 0x7fc2bd463290>\n",
            "Traceback (most recent call last):\n",
            "  File \"/usr/local/lib/python3.7/dist-packages/torch/utils/data/dataloader.py\", line 1328, in __del__\n",
            "    self._shutdown_workers()\n",
            "  File \"/usr/local/lib/python3.7/dist-packages/torch/utils/data/dataloader.py\", line 1320, in _shutdown_workers\n",
            "    if w.is_alive():\n",
            "  File \"/usr/lib/python3.7/multiprocessing/process.py\", line 151, in is_alive\n",
            "Exception ignored in: <function _MultiProcessingDataLoaderIter.__del__ at 0x7fc2bd463290>\n",
            "    assert self._parent_pid == os.getpid(), 'can only test a child process'\n",
            "Traceback (most recent call last):\n",
            "  File \"/usr/local/lib/python3.7/dist-packages/torch/utils/data/dataloader.py\", line 1328, in __del__\n",
            "AssertionError: can only test a child process\n",
            "    self._shutdown_workers()\n",
            "  File \"/usr/local/lib/python3.7/dist-packages/torch/utils/data/dataloader.py\", line 1320, in _shutdown_workers\n",
            "    if w.is_alive():\n",
            "  File \"/usr/lib/python3.7/multiprocessing/process.py\", line 151, in is_alive\n",
            "    assert self._parent_pid == os.getpid(), 'can only test a child process'\n",
            "AssertionError: can only test a child process\n"
          ]
        },
        {
          "output_type": "stream",
          "name": "stdout",
          "text": [
            "Epoch: 82 \tTraining Loss: 4219.2637 \tTraining Accuracy: 0.9901 \tValidation Loss: 5375.5309 \tValidation Accuracy: 0.9863 \ttrain_kl_div: 23584.4574\n"
          ]
        },
        {
          "output_type": "stream",
          "name": "stderr",
          "text": [
            "Exception ignored in: <function _MultiProcessingDataLoaderIter.__del__ at 0x7fc2bd463290>\n",
            "Exception ignored in: <function _MultiProcessingDataLoaderIter.__del__ at 0x7fc2bd463290>\n",
            "Traceback (most recent call last):\n",
            "Traceback (most recent call last):\n",
            "  File \"/usr/local/lib/python3.7/dist-packages/torch/utils/data/dataloader.py\", line 1328, in __del__\n",
            "    self._shutdown_workers()\n",
            "  File \"/usr/local/lib/python3.7/dist-packages/torch/utils/data/dataloader.py\", line 1320, in _shutdown_workers\n",
            "  File \"/usr/local/lib/python3.7/dist-packages/torch/utils/data/dataloader.py\", line 1328, in __del__\n",
            "    self._shutdown_workers()\n",
            "    if w.is_alive():\n",
            "  File \"/usr/local/lib/python3.7/dist-packages/torch/utils/data/dataloader.py\", line 1320, in _shutdown_workers\n",
            "  File \"/usr/lib/python3.7/multiprocessing/process.py\", line 151, in is_alive\n",
            "    assert self._parent_pid == os.getpid(), 'can only test a child process'\n",
            "    if w.is_alive():\n",
            "  File \"/usr/lib/python3.7/multiprocessing/process.py\", line 151, in is_alive\n",
            "AssertionError: can only test a child process\n",
            "    assert self._parent_pid == os.getpid(), 'can only test a child process'\n",
            "AssertionError: can only test a child process\n",
            "Exception ignored in: <function _MultiProcessingDataLoaderIter.__del__ at 0x7fc2bd463290>\n",
            "Traceback (most recent call last):\n",
            "  File \"/usr/local/lib/python3.7/dist-packages/torch/utils/data/dataloader.py\", line 1328, in __del__\n",
            "    self._shutdown_workers()\n",
            "  File \"/usr/local/lib/python3.7/dist-packages/torch/utils/data/dataloader.py\", line 1320, in _shutdown_workers\n",
            "Exception ignored in: <function _MultiProcessingDataLoaderIter.__del__ at 0x7fc2bd463290>\n",
            "    if w.is_alive():\n",
            "Traceback (most recent call last):\n",
            "  File \"/usr/local/lib/python3.7/dist-packages/torch/utils/data/dataloader.py\", line 1328, in __del__\n",
            "  File \"/usr/lib/python3.7/multiprocessing/process.py\", line 151, in is_alive\n",
            "    self._shutdown_workers()\n",
            "    assert self._parent_pid == os.getpid(), 'can only test a child process'\n",
            "  File \"/usr/local/lib/python3.7/dist-packages/torch/utils/data/dataloader.py\", line 1320, in _shutdown_workers\n",
            "    if w.is_alive():\n",
            "AssertionError: can only test a child process\n",
            "  File \"/usr/lib/python3.7/multiprocessing/process.py\", line 151, in is_alive\n",
            "    assert self._parent_pid == os.getpid(), 'can only test a child process'\n",
            "AssertionError: can only test a child process\n"
          ]
        },
        {
          "output_type": "stream",
          "name": "stdout",
          "text": [
            "Epoch: 83 \tTraining Loss: 4120.5411 \tTraining Accuracy: 0.9906 \tValidation Loss: 5302.7652 \tValidation Accuracy: 0.9860 \ttrain_kl_div: 23583.7820\n"
          ]
        },
        {
          "output_type": "stream",
          "name": "stderr",
          "text": [
            "Exception ignored in: <function _MultiProcessingDataLoaderIter.__del__ at 0x7fc2bd463290>\n",
            "Traceback (most recent call last):\n",
            "  File \"/usr/local/lib/python3.7/dist-packages/torch/utils/data/dataloader.py\", line 1328, in __del__\n",
            "    self._shutdown_workers()\n",
            "  File \"/usr/local/lib/python3.7/dist-packages/torch/utils/data/dataloader.py\", line 1320, in _shutdown_workers\n",
            "    if w.is_alive():\n",
            "  File \"/usr/lib/python3.7/multiprocessing/process.py\", line 151, in is_alive\n",
            "    assert self._parent_pid == os.getpid(), 'can only test a child process'\n",
            "Exception ignored in: <function _MultiProcessingDataLoaderIter.__del__ at 0x7fc2bd463290>\n",
            "AssertionError: can only test a child process\n",
            "Traceback (most recent call last):\n",
            "  File \"/usr/local/lib/python3.7/dist-packages/torch/utils/data/dataloader.py\", line 1328, in __del__\n",
            "    self._shutdown_workers()\n",
            "  File \"/usr/local/lib/python3.7/dist-packages/torch/utils/data/dataloader.py\", line 1320, in _shutdown_workers\n",
            "    if w.is_alive():\n",
            "  File \"/usr/lib/python3.7/multiprocessing/process.py\", line 151, in is_alive\n",
            "    assert self._parent_pid == os.getpid(), 'can only test a child process'\n",
            "AssertionError: can only test a child process\n"
          ]
        },
        {
          "output_type": "stream",
          "name": "stdout",
          "text": [
            "Epoch: 84 \tTraining Loss: 4222.7927 \tTraining Accuracy: 0.9905 \tValidation Loss: 5252.2748 \tValidation Accuracy: 0.9859 \ttrain_kl_div: 23583.2059\n",
            "Epoch: 85 \tTraining Loss: 4234.5921 \tTraining Accuracy: 0.9901 \tValidation Loss: 5280.7486 \tValidation Accuracy: 0.9864 \ttrain_kl_div: 23582.6483\n",
            "Epoch: 86 \tTraining Loss: 4195.0163 \tTraining Accuracy: 0.9902 \tValidation Loss: 5428.1092 \tValidation Accuracy: 0.9859 \ttrain_kl_div: 23581.9723\n",
            "Epoch    88: reducing learning rate of group 0 to 1.0000e-07.\n",
            "Epoch: 87 \tTraining Loss: 4135.0442 \tTraining Accuracy: 0.9912 \tValidation Loss: 5247.3477 \tValidation Accuracy: 0.9861 \ttrain_kl_div: 23581.2438\n",
            "Epoch: 88 \tTraining Loss: 4193.8434 \tTraining Accuracy: 0.9906 \tValidation Loss: 5622.1333 \tValidation Accuracy: 0.9849 \ttrain_kl_div: 23580.8368\n",
            "Epoch: 89 \tTraining Loss: 4263.4675 \tTraining Accuracy: 0.9896 \tValidation Loss: 5272.4618 \tValidation Accuracy: 0.9843 \ttrain_kl_div: 23580.8399\n",
            "Epoch: 90 \tTraining Loss: 4171.3965 \tTraining Accuracy: 0.9907 \tValidation Loss: 5248.1389 \tValidation Accuracy: 0.9853 \ttrain_kl_div: 23580.8328\n",
            "Epoch: 91 \tTraining Loss: 4217.8810 \tTraining Accuracy: 0.9905 \tValidation Loss: 5366.4091 \tValidation Accuracy: 0.9860 \ttrain_kl_div: 23580.8286\n",
            "Epoch: 92 \tTraining Loss: 4225.8204 \tTraining Accuracy: 0.9902 \tValidation Loss: 5552.1851 \tValidation Accuracy: 0.9844 \ttrain_kl_div: 23580.8255\n",
            "Epoch: 93 \tTraining Loss: 4150.3635 \tTraining Accuracy: 0.9908 \tValidation Loss: 5375.7818 \tValidation Accuracy: 0.9847 \ttrain_kl_div: 23580.8109\n",
            "Epoch    95: reducing learning rate of group 0 to 1.0000e-08.\n",
            "Epoch: 94 \tTraining Loss: 4163.8668 \tTraining Accuracy: 0.9906 \tValidation Loss: 5239.6529 \tValidation Accuracy: 0.9865 \ttrain_kl_div: 23580.7949\n",
            "Epoch: 95 \tTraining Loss: 4225.3229 \tTraining Accuracy: 0.9904 \tValidation Loss: 5250.4913 \tValidation Accuracy: 0.9861 \ttrain_kl_div: 23580.7891\n",
            "Epoch: 96 \tTraining Loss: 4171.6735 \tTraining Accuracy: 0.9902 \tValidation Loss: 5403.8659 \tValidation Accuracy: 0.9861 \ttrain_kl_div: 23580.7891\n",
            "Epoch: 97 \tTraining Loss: 4170.3203 \tTraining Accuracy: 0.9905 \tValidation Loss: 5163.4658 \tValidation Accuracy: 0.9861 \ttrain_kl_div: 23580.7884\n",
            "Epoch: 98 \tTraining Loss: 4181.6131 \tTraining Accuracy: 0.9904 \tValidation Loss: 5445.2418 \tValidation Accuracy: 0.9850 \ttrain_kl_div: 23580.7880\n",
            "Epoch: 99 \tTraining Loss: 4158.5086 \tTraining Accuracy: 0.9902 \tValidation Loss: 5457.9865 \tValidation Accuracy: 0.9854 \ttrain_kl_div: 23580.7871\n",
            "Epoch: 100 \tTraining Loss: 4248.0951 \tTraining Accuracy: 0.9902 \tValidation Loss: 5230.9304 \tValidation Accuracy: 0.9850 \ttrain_kl_div: 23580.7871\n",
            "Epoch: 101 \tTraining Loss: 4199.2479 \tTraining Accuracy: 0.9904 \tValidation Loss: 5555.3126 \tValidation Accuracy: 0.9861 \ttrain_kl_div: 23580.7886\n",
            "Epoch: 102 \tTraining Loss: 4208.5449 \tTraining Accuracy: 0.9902 \tValidation Loss: 5237.5520 \tValidation Accuracy: 0.9854 \ttrain_kl_div: 23580.7883\n",
            "Epoch: 103 \tTraining Loss: 4198.3093 \tTraining Accuracy: 0.9903 \tValidation Loss: 5049.7619 \tValidation Accuracy: 0.9877 \ttrain_kl_div: 23580.7883\n",
            "Epoch: 104 \tTraining Loss: 4198.3674 \tTraining Accuracy: 0.9905 \tValidation Loss: 5211.1660 \tValidation Accuracy: 0.9855 \ttrain_kl_div: 23580.7866\n",
            "Epoch: 105 \tTraining Loss: 4200.3580 \tTraining Accuracy: 0.9905 \tValidation Loss: 5236.8076 \tValidation Accuracy: 0.9854 \ttrain_kl_div: 23580.7871\n",
            "Epoch: 106 \tTraining Loss: 4180.3090 \tTraining Accuracy: 0.9907 \tValidation Loss: 5524.5187 \tValidation Accuracy: 0.9857 \ttrain_kl_div: 23580.7850\n",
            "Epoch: 107 \tTraining Loss: 4220.1402 \tTraining Accuracy: 0.9907 \tValidation Loss: 5327.9407 \tValidation Accuracy: 0.9846 \ttrain_kl_div: 23580.7847\n",
            "Epoch: 108 \tTraining Loss: 4175.7506 \tTraining Accuracy: 0.9904 \tValidation Loss: 5256.6559 \tValidation Accuracy: 0.9870 \ttrain_kl_div: 23580.7849\n",
            "Epoch: 109 \tTraining Loss: 4240.6277 \tTraining Accuracy: 0.9902 \tValidation Loss: 5162.5415 \tValidation Accuracy: 0.9857 \ttrain_kl_div: 23580.7851\n",
            "Epoch: 110 \tTraining Loss: 4253.7087 \tTraining Accuracy: 0.9899 \tValidation Loss: 5361.1085 \tValidation Accuracy: 0.9851 \ttrain_kl_div: 23580.7853\n",
            "Epoch: 111 \tTraining Loss: 4211.1606 \tTraining Accuracy: 0.9906 \tValidation Loss: 5488.9411 \tValidation Accuracy: 0.9852 \ttrain_kl_div: 23580.7851\n",
            "Epoch: 112 \tTraining Loss: 4092.1526 \tTraining Accuracy: 0.9908 \tValidation Loss: 5072.0395 \tValidation Accuracy: 0.9859 \ttrain_kl_div: 23580.7852\n",
            "Epoch: 113 \tTraining Loss: 4208.8227 \tTraining Accuracy: 0.9904 \tValidation Loss: 5080.8058 \tValidation Accuracy: 0.9855 \ttrain_kl_div: 23580.7852\n",
            "Epoch: 114 \tTraining Loss: 4220.8202 \tTraining Accuracy: 0.9906 \tValidation Loss: 5362.7947 \tValidation Accuracy: 0.9856 \ttrain_kl_div: 23580.7833\n",
            "Epoch: 115 \tTraining Loss: 4164.1210 \tTraining Accuracy: 0.9905 \tValidation Loss: 5492.0840 \tValidation Accuracy: 0.9845 \ttrain_kl_div: 23580.7830\n",
            "Epoch: 116 \tTraining Loss: 4140.4302 \tTraining Accuracy: 0.9908 \tValidation Loss: 5417.3391 \tValidation Accuracy: 0.9858 \ttrain_kl_div: 23580.7820\n",
            "Epoch: 117 \tTraining Loss: 4211.5606 \tTraining Accuracy: 0.9902 \tValidation Loss: 5130.6730 \tValidation Accuracy: 0.9872 \ttrain_kl_div: 23580.7819\n",
            "Epoch: 118 \tTraining Loss: 4215.9600 \tTraining Accuracy: 0.9902 \tValidation Loss: 5521.2131 \tValidation Accuracy: 0.9855 \ttrain_kl_div: 23580.7815\n",
            "Epoch: 119 \tTraining Loss: 4215.9511 \tTraining Accuracy: 0.9902 \tValidation Loss: 5289.9922 \tValidation Accuracy: 0.9860 \ttrain_kl_div: 23580.7836\n",
            "Epoch: 120 \tTraining Loss: 4141.2744 \tTraining Accuracy: 0.9908 \tValidation Loss: 5534.1933 \tValidation Accuracy: 0.9852 \ttrain_kl_div: 23580.7844\n",
            "Epoch: 121 \tTraining Loss: 4231.9969 \tTraining Accuracy: 0.9902 \tValidation Loss: 5124.0536 \tValidation Accuracy: 0.9861 \ttrain_kl_div: 23580.7843\n",
            "Epoch: 122 \tTraining Loss: 4217.7095 \tTraining Accuracy: 0.9905 \tValidation Loss: 5437.6206 \tValidation Accuracy: 0.9854 \ttrain_kl_div: 23580.7830\n",
            "Epoch: 123 \tTraining Loss: 4137.6907 \tTraining Accuracy: 0.9906 \tValidation Loss: 5439.9340 \tValidation Accuracy: 0.9859 \ttrain_kl_div: 23580.7814\n",
            "Epoch: 124 \tTraining Loss: 4176.4620 \tTraining Accuracy: 0.9904 \tValidation Loss: 5495.8351 \tValidation Accuracy: 0.9850 \ttrain_kl_div: 23580.7808\n",
            "Epoch: 125 \tTraining Loss: 4089.7524 \tTraining Accuracy: 0.9909 \tValidation Loss: 5324.7377 \tValidation Accuracy: 0.9867 \ttrain_kl_div: 23580.7810\n",
            "Epoch: 126 \tTraining Loss: 4238.7080 \tTraining Accuracy: 0.9901 \tValidation Loss: 5100.2791 \tValidation Accuracy: 0.9872 \ttrain_kl_div: 23580.7812\n",
            "Epoch: 127 \tTraining Loss: 4285.4596 \tTraining Accuracy: 0.9901 \tValidation Loss: 5353.7457 \tValidation Accuracy: 0.9854 \ttrain_kl_div: 23580.7809\n",
            "Epoch: 128 \tTraining Loss: 4191.7383 \tTraining Accuracy: 0.9904 \tValidation Loss: 5453.4945 \tValidation Accuracy: 0.9859 \ttrain_kl_div: 23580.7812\n",
            "Epoch: 129 \tTraining Loss: 4252.2187 \tTraining Accuracy: 0.9903 \tValidation Loss: 5202.3920 \tValidation Accuracy: 0.9872 \ttrain_kl_div: 23580.7795\n",
            "Epoch: 130 \tTraining Loss: 4195.7912 \tTraining Accuracy: 0.9906 \tValidation Loss: 5337.3224 \tValidation Accuracy: 0.9866 \ttrain_kl_div: 23580.7789\n",
            "Epoch: 131 \tTraining Loss: 4302.8325 \tTraining Accuracy: 0.9899 \tValidation Loss: 5133.3107 \tValidation Accuracy: 0.9872 \ttrain_kl_div: 23580.7808\n",
            "Epoch: 132 \tTraining Loss: 4244.4634 \tTraining Accuracy: 0.9904 \tValidation Loss: 5407.4340 \tValidation Accuracy: 0.9853 \ttrain_kl_div: 23580.7789\n",
            "Epoch: 133 \tTraining Loss: 4218.3204 \tTraining Accuracy: 0.9898 \tValidation Loss: 5399.8073 \tValidation Accuracy: 0.9850 \ttrain_kl_div: 23580.7790\n",
            "Epoch: 134 \tTraining Loss: 4247.5898 \tTraining Accuracy: 0.9901 \tValidation Loss: 5518.4638 \tValidation Accuracy: 0.9851 \ttrain_kl_div: 23580.7793\n",
            "Epoch: 135 \tTraining Loss: 4212.6017 \tTraining Accuracy: 0.9906 \tValidation Loss: 5341.2872 \tValidation Accuracy: 0.9858 \ttrain_kl_div: 23580.7793\n",
            "Epoch: 136 \tTraining Loss: 4193.7923 \tTraining Accuracy: 0.9904 \tValidation Loss: 5373.8167 \tValidation Accuracy: 0.9854 \ttrain_kl_div: 23580.7793\n",
            "Epoch: 137 \tTraining Loss: 4120.5718 \tTraining Accuracy: 0.9908 \tValidation Loss: 5552.2507 \tValidation Accuracy: 0.9852 \ttrain_kl_div: 23580.7792\n",
            "Epoch: 138 \tTraining Loss: 4260.8869 \tTraining Accuracy: 0.9903 \tValidation Loss: 5653.7186 \tValidation Accuracy: 0.9842 \ttrain_kl_div: 23580.7789\n",
            "Epoch: 139 \tTraining Loss: 4126.3843 \tTraining Accuracy: 0.9905 \tValidation Loss: 5380.9190 \tValidation Accuracy: 0.9852 \ttrain_kl_div: 23580.7787\n",
            "Epoch: 140 \tTraining Loss: 4123.7654 \tTraining Accuracy: 0.9904 \tValidation Loss: 5088.3336 \tValidation Accuracy: 0.9871 \ttrain_kl_div: 23580.7776\n",
            "Epoch: 141 \tTraining Loss: 4065.4420 \tTraining Accuracy: 0.9910 \tValidation Loss: 5164.2882 \tValidation Accuracy: 0.9853 \ttrain_kl_div: 23580.7773\n",
            "Epoch: 142 \tTraining Loss: 4145.3694 \tTraining Accuracy: 0.9905 \tValidation Loss: 5448.5992 \tValidation Accuracy: 0.9849 \ttrain_kl_div: 23580.7764\n",
            "Epoch: 143 \tTraining Loss: 4240.8304 \tTraining Accuracy: 0.9901 \tValidation Loss: 5244.2161 \tValidation Accuracy: 0.9859 \ttrain_kl_div: 23580.7754\n",
            "Epoch: 144 \tTraining Loss: 4222.9115 \tTraining Accuracy: 0.9903 \tValidation Loss: 5478.1365 \tValidation Accuracy: 0.9851 \ttrain_kl_div: 23580.7753\n",
            "Epoch: 145 \tTraining Loss: 4094.0212 \tTraining Accuracy: 0.9907 \tValidation Loss: 5401.2359 \tValidation Accuracy: 0.9859 \ttrain_kl_div: 23580.7754\n",
            "Epoch: 146 \tTraining Loss: 4292.3553 \tTraining Accuracy: 0.9899 \tValidation Loss: 5149.0157 \tValidation Accuracy: 0.9860 \ttrain_kl_div: 23580.7754\n",
            "Epoch: 147 \tTraining Loss: 4244.6758 \tTraining Accuracy: 0.9902 \tValidation Loss: 5149.7239 \tValidation Accuracy: 0.9866 \ttrain_kl_div: 23580.7755\n",
            "Epoch: 148 \tTraining Loss: 4197.9369 \tTraining Accuracy: 0.9907 \tValidation Loss: 5463.5580 \tValidation Accuracy: 0.9844 \ttrain_kl_div: 23580.7736\n",
            "Epoch: 149 \tTraining Loss: 4140.5388 \tTraining Accuracy: 0.9910 \tValidation Loss: 5239.4054 \tValidation Accuracy: 0.9854 \ttrain_kl_div: 23580.7734\n",
            "Epoch: 150 \tTraining Loss: 4157.1977 \tTraining Accuracy: 0.9902 \tValidation Loss: 5295.1172 \tValidation Accuracy: 0.9861 \ttrain_kl_div: 23580.7732\n",
            "Epoch: 151 \tTraining Loss: 4145.4459 \tTraining Accuracy: 0.9906 \tValidation Loss: 5478.6422 \tValidation Accuracy: 0.9854 \ttrain_kl_div: 23580.7721\n",
            "Epoch: 152 \tTraining Loss: 4198.6533 \tTraining Accuracy: 0.9903 \tValidation Loss: 5115.6975 \tValidation Accuracy: 0.9865 \ttrain_kl_div: 23580.7715\n",
            "Epoch: 153 \tTraining Loss: 4276.3128 \tTraining Accuracy: 0.9905 \tValidation Loss: 5146.6490 \tValidation Accuracy: 0.9861 \ttrain_kl_div: 23580.7723\n",
            "Epoch: 154 \tTraining Loss: 4234.2333 \tTraining Accuracy: 0.9903 \tValidation Loss: 5226.7159 \tValidation Accuracy: 0.9862 \ttrain_kl_div: 23580.7719\n",
            "Epoch: 155 \tTraining Loss: 4153.9989 \tTraining Accuracy: 0.9905 \tValidation Loss: 5386.5872 \tValidation Accuracy: 0.9855 \ttrain_kl_div: 23580.7723\n",
            "Epoch: 156 \tTraining Loss: 4246.7095 \tTraining Accuracy: 0.9898 \tValidation Loss: 5580.2428 \tValidation Accuracy: 0.9846 \ttrain_kl_div: 23580.7743\n",
            "Epoch: 157 \tTraining Loss: 4299.6532 \tTraining Accuracy: 0.9897 \tValidation Loss: 5405.2797 \tValidation Accuracy: 0.9847 \ttrain_kl_div: 23580.7734\n",
            "Epoch: 158 \tTraining Loss: 4282.5299 \tTraining Accuracy: 0.9901 \tValidation Loss: 5398.6533 \tValidation Accuracy: 0.9866 \ttrain_kl_div: 23580.7734\n",
            "Epoch: 159 \tTraining Loss: 4086.6865 \tTraining Accuracy: 0.9911 \tValidation Loss: 5134.4728 \tValidation Accuracy: 0.9859 \ttrain_kl_div: 23580.7722\n",
            "Epoch: 160 \tTraining Loss: 4264.7893 \tTraining Accuracy: 0.9903 \tValidation Loss: 5373.7687 \tValidation Accuracy: 0.9856 \ttrain_kl_div: 23580.7715\n",
            "Epoch: 161 \tTraining Loss: 4257.8801 \tTraining Accuracy: 0.9902 \tValidation Loss: 5286.0840 \tValidation Accuracy: 0.9860 \ttrain_kl_div: 23580.7715\n",
            "Epoch: 162 \tTraining Loss: 4134.5078 \tTraining Accuracy: 0.9904 \tValidation Loss: 5234.1283 \tValidation Accuracy: 0.9859 \ttrain_kl_div: 23580.7715\n",
            "Epoch: 163 \tTraining Loss: 4178.0304 \tTraining Accuracy: 0.9903 \tValidation Loss: 5480.1459 \tValidation Accuracy: 0.9857 \ttrain_kl_div: 23580.7715\n",
            "Epoch: 164 \tTraining Loss: 4178.7418 \tTraining Accuracy: 0.9908 \tValidation Loss: 5356.0865 \tValidation Accuracy: 0.9853 \ttrain_kl_div: 23580.7712\n",
            "Epoch: 165 \tTraining Loss: 4132.8237 \tTraining Accuracy: 0.9909 \tValidation Loss: 5342.4580 \tValidation Accuracy: 0.9843 \ttrain_kl_div: 23580.7703\n",
            "Epoch: 166 \tTraining Loss: 4227.0741 \tTraining Accuracy: 0.9903 \tValidation Loss: 5351.4573 \tValidation Accuracy: 0.9861 \ttrain_kl_div: 23580.7691\n",
            "Epoch: 167 \tTraining Loss: 4218.0589 \tTraining Accuracy: 0.9900 \tValidation Loss: 5323.6410 \tValidation Accuracy: 0.9871 \ttrain_kl_div: 23580.7667\n",
            "Epoch: 168 \tTraining Loss: 4285.6327 \tTraining Accuracy: 0.9903 \tValidation Loss: 5304.5212 \tValidation Accuracy: 0.9869 \ttrain_kl_div: 23580.7664\n",
            "Epoch: 169 \tTraining Loss: 4189.1941 \tTraining Accuracy: 0.9910 \tValidation Loss: 5377.2738 \tValidation Accuracy: 0.9852 \ttrain_kl_div: 23580.7675\n",
            "Epoch: 170 \tTraining Loss: 4154.8843 \tTraining Accuracy: 0.9907 \tValidation Loss: 5380.1499 \tValidation Accuracy: 0.9848 \ttrain_kl_div: 23580.7675\n",
            "Epoch: 171 \tTraining Loss: 4159.3536 \tTraining Accuracy: 0.9905 \tValidation Loss: 5089.6369 \tValidation Accuracy: 0.9857 \ttrain_kl_div: 23580.7676\n",
            "Epoch: 172 \tTraining Loss: 4292.2641 \tTraining Accuracy: 0.9902 \tValidation Loss: 5653.2262 \tValidation Accuracy: 0.9841 \ttrain_kl_div: 23580.7676\n",
            "Epoch: 173 \tTraining Loss: 4136.5886 \tTraining Accuracy: 0.9904 \tValidation Loss: 5077.1709 \tValidation Accuracy: 0.9857 \ttrain_kl_div: 23580.7676\n",
            "Epoch: 174 \tTraining Loss: 4156.9556 \tTraining Accuracy: 0.9907 \tValidation Loss: 5338.6752 \tValidation Accuracy: 0.9872 \ttrain_kl_div: 23580.7676\n",
            "Epoch: 175 \tTraining Loss: 4189.9414 \tTraining Accuracy: 0.9906 \tValidation Loss: 5471.3948 \tValidation Accuracy: 0.9852 \ttrain_kl_div: 23580.7663\n",
            "Epoch: 176 \tTraining Loss: 4182.9613 \tTraining Accuracy: 0.9908 \tValidation Loss: 5277.0036 \tValidation Accuracy: 0.9854 \ttrain_kl_div: 23580.7655\n",
            "Epoch: 177 \tTraining Loss: 4154.2732 \tTraining Accuracy: 0.9907 \tValidation Loss: 4959.5950 \tValidation Accuracy: 0.9866 \ttrain_kl_div: 23580.7628\n",
            "Validation loss decreased (4973.676697 --> 4959.595020).  Saving model ...\n",
            "Epoch: 178 \tTraining Loss: 4340.8759 \tTraining Accuracy: 0.9897 \tValidation Loss: 5654.6763 \tValidation Accuracy: 0.9848 \ttrain_kl_div: 23580.7637\n",
            "Epoch: 179 \tTraining Loss: 4233.5427 \tTraining Accuracy: 0.9904 \tValidation Loss: 5333.8408 \tValidation Accuracy: 0.9859 \ttrain_kl_div: 23580.7637\n",
            "Epoch: 180 \tTraining Loss: 4079.0237 \tTraining Accuracy: 0.9908 \tValidation Loss: 5247.5149 \tValidation Accuracy: 0.9851 \ttrain_kl_div: 23580.7634\n",
            "Epoch: 181 \tTraining Loss: 4059.9388 \tTraining Accuracy: 0.9910 \tValidation Loss: 5394.3668 \tValidation Accuracy: 0.9856 \ttrain_kl_div: 23580.7633\n",
            "Epoch: 182 \tTraining Loss: 4219.7977 \tTraining Accuracy: 0.9905 \tValidation Loss: 5526.7710 \tValidation Accuracy: 0.9852 \ttrain_kl_div: 23580.7625\n",
            "Epoch: 183 \tTraining Loss: 4207.4406 \tTraining Accuracy: 0.9902 \tValidation Loss: 5198.0042 \tValidation Accuracy: 0.9866 \ttrain_kl_div: 23580.7618\n",
            "Epoch: 184 \tTraining Loss: 4277.0296 \tTraining Accuracy: 0.9898 \tValidation Loss: 5306.8802 \tValidation Accuracy: 0.9850 \ttrain_kl_div: 23580.7604\n",
            "Epoch: 185 \tTraining Loss: 4216.8023 \tTraining Accuracy: 0.9904 \tValidation Loss: 5117.9855 \tValidation Accuracy: 0.9861 \ttrain_kl_div: 23580.7603\n",
            "Epoch: 186 \tTraining Loss: 4128.5552 \tTraining Accuracy: 0.9910 \tValidation Loss: 5440.2700 \tValidation Accuracy: 0.9870 \ttrain_kl_div: 23580.7599\n",
            "Epoch: 187 \tTraining Loss: 4266.2682 \tTraining Accuracy: 0.9903 \tValidation Loss: 5235.5775 \tValidation Accuracy: 0.9854 \ttrain_kl_div: 23580.7598\n",
            "Epoch: 188 \tTraining Loss: 4188.3267 \tTraining Accuracy: 0.9904 \tValidation Loss: 5281.6867 \tValidation Accuracy: 0.9850 \ttrain_kl_div: 23580.7598\n",
            "Epoch: 189 \tTraining Loss: 4205.6009 \tTraining Accuracy: 0.9907 \tValidation Loss: 5381.0316 \tValidation Accuracy: 0.9850 \ttrain_kl_div: 23580.7598\n",
            "Epoch: 190 \tTraining Loss: 4158.9486 \tTraining Accuracy: 0.9908 \tValidation Loss: 5356.2272 \tValidation Accuracy: 0.9852 \ttrain_kl_div: 23580.7595\n",
            "Epoch: 191 \tTraining Loss: 4091.5377 \tTraining Accuracy: 0.9910 \tValidation Loss: 5267.1184 \tValidation Accuracy: 0.9856 \ttrain_kl_div: 23580.7581\n",
            "Epoch: 192 \tTraining Loss: 4172.8804 \tTraining Accuracy: 0.9905 \tValidation Loss: 5306.7022 \tValidation Accuracy: 0.9852 \ttrain_kl_div: 23580.7575\n",
            "Epoch: 193 \tTraining Loss: 4252.3162 \tTraining Accuracy: 0.9902 \tValidation Loss: 5130.9274 \tValidation Accuracy: 0.9864 \ttrain_kl_div: 23580.7564\n",
            "Epoch: 194 \tTraining Loss: 4177.9325 \tTraining Accuracy: 0.9902 \tValidation Loss: 5779.2494 \tValidation Accuracy: 0.9845 \ttrain_kl_div: 23580.7560\n",
            "Epoch: 195 \tTraining Loss: 4203.9164 \tTraining Accuracy: 0.9904 \tValidation Loss: 5414.5208 \tValidation Accuracy: 0.9854 \ttrain_kl_div: 23580.7555\n",
            "Epoch: 196 \tTraining Loss: 4261.5173 \tTraining Accuracy: 0.9899 \tValidation Loss: 5273.9760 \tValidation Accuracy: 0.9862 \ttrain_kl_div: 23580.7558\n",
            "Epoch: 197 \tTraining Loss: 4137.7534 \tTraining Accuracy: 0.9911 \tValidation Loss: 5277.4956 \tValidation Accuracy: 0.9865 \ttrain_kl_div: 23580.7559\n",
            "Epoch: 198 \tTraining Loss: 4144.3028 \tTraining Accuracy: 0.9906 \tValidation Loss: 5122.7156 \tValidation Accuracy: 0.9868 \ttrain_kl_div: 23580.7548\n",
            "Epoch: 199 \tTraining Loss: 4134.0572 \tTraining Accuracy: 0.9909 \tValidation Loss: 5441.8186 \tValidation Accuracy: 0.9849 \ttrain_kl_div: 23580.7547\n"
          ]
        }
      ]
    },
    {
      "cell_type": "code",
      "metadata": {
        "id": "MIFqBCHOVaLN"
      },
      "source": [
        ""
      ],
      "execution_count": null,
      "outputs": []
    },
    {
      "cell_type": "code",
      "metadata": {
        "id": "6BMoCxAYVaPW"
      },
      "source": [
        "import matplotlib.pyplot as plt"
      ],
      "execution_count": 59,
      "outputs": []
    },
    {
      "cell_type": "code",
      "metadata": {
        "colab": {
          "base_uri": "https://localhost:8080/",
          "height": 282
        },
        "id": "c8p0xV_0Vcai",
        "outputId": "0dfe50a1-6e14-48bc-f371-1cab39993947"
      },
      "source": [
        "plt.plot(range(200), ELBO)"
      ],
      "execution_count": 60,
      "outputs": [
        {
          "output_type": "execute_result",
          "data": {
            "text/plain": [
              "[<matplotlib.lines.Line2D at 0x7fc3b14fbdd0>]"
            ]
          },
          "metadata": {},
          "execution_count": 60
        },
        {
          "output_type": "display_data",
          "data": {
            "image/png": "[encoded data removed]",
            "text/plain": [
              "<Figure size 432x288 with 1 Axes>"
            ]
          },
          "metadata": {
            "needs_background": "light"
          }
        }
      ]
    },
    {
      "cell_type": "code",
      "metadata": {
        "colab": {
          "base_uri": "https://localhost:8080/",
          "height": 282
        },
        "id": "gPd_zjdqVj1U",
        "outputId": "f9b5629b-4036-4895-a8e0-c97f38c3e7b4"
      },
      "source": [
        "plt.plot(range(200), test_acc)"
      ],
      "execution_count": 61,
      "outputs": [
        {
          "output_type": "execute_result",
          "data": {
            "text/plain": [
              "[<matplotlib.lines.Line2D at 0x7fc3b0fece10>]"
            ]
          },
          "metadata": {},
          "execution_count": 61
        },
        {
          "output_type": "display_data",
          "data": {
            "image/png": "[encoded data removed]",
            "text/plain": [
              "<Figure size 432x288 with 1 Axes>"
            ]
          },
          "metadata": {
            "needs_background": "light"
          }
        }
      ]
    },
    {
      "cell_type": "code",
      "metadata": {
        "colab": {
          "base_uri": "https://localhost:8080/",
          "height": 282
        },
        "id": "h6ubhMKaVkFp",
        "outputId": "a52bc179-b4d4-43c4-ad3a-5cd55a014698"
      },
      "source": [
        "plt.plot(range(200), train_acc)"
      ],
      "execution_count": 62,
      "outputs": [
        {
          "output_type": "execute_result",
          "data": {
            "text/plain": [
              "[<matplotlib.lines.Line2D at 0x7fc3b0f69950>]"
            ]
          },
          "metadata": {},
          "execution_count": 62
        },
        {
          "output_type": "display_data",
          "data": {
            "image/png": "[encoded data removed]",
            "text/plain": [
              "<Figure size 432x288 with 1 Axes>"
            ]
          },
          "metadata": {
            "needs_background": "light"
          }
        }
      ]
    },
    {
      "cell_type": "code",
      "metadata": {
        "id": "KjufA9vRVhkY"
      },
      "source": [
        "ELBO, train_acc, test_acc"
      ],
      "execution_count": null,
      "outputs": []
    },
    {
      "cell_type": "code",
      "metadata": {
        "id": "orLiIvH6YuH-"
      },
      "source": [
        "%cd /content"
      ],
      "execution_count": null,
      "outputs": []
    },
    {
      "cell_type": "code",
      "metadata": {
        "colab": {
          "base_uri": "https://localhost:8080/"
        },
        "id": "bClL78cKWGf-",
        "outputId": "fe7c0c58-0d0a-4097-b3b9-3c4ab561ba23"
      },
      "source": [
        "from google.colab import drive\n",
        "device = torch.device('cuda' if torch.cuda.is_available() else 'cpu')\n",
        "drive.mount('/content/gdrive')\n",
        "root_path = 'gdrive/My Drive/Colab Notebooks/'\n",
        "PATH = 'gdrive/MyDrive/Colab Notebooks/Project_StatML_Module2/'"
      ],
      "execution_count": 87,
      "outputs": [
        {
          "output_type": "stream",
          "name": "stdout",
          "text": [
            "Drive already mounted at /content/gdrive; to attempt to forcibly remount, call drive.mount(\"/content/gdrive\", force_remount=True).\n"
          ]
        }
      ]
    },
    {
      "cell_type": "code",
      "metadata": {
        "id": "b5VSkHHSWteR"
      },
      "source": [
        "import pickle"
      ],
      "execution_count": 66,
      "outputs": []
    },
    {
      "cell_type": "code",
      "metadata": {
        "id": "08HIXGwuW-E7"
      },
      "source": [
        "with open(PATH + \"LeNET_ELBO_evolution.pickle\", 'wb') as f:\n",
        "    pickle.dump(ELBO, f)"
      ],
      "execution_count": 88,
      "outputs": []
    },
    {
      "cell_type": "code",
      "metadata": {
        "id": "INOYI9S5Ysxo"
      },
      "source": [
        "with open(PATH + \"LeNET_train_acc_evolution.pickle\", 'wb') as f:\n",
        "    pickle.dump(train_acc, f)"
      ],
      "execution_count": 89,
      "outputs": []
    },
    {
      "cell_type": "code",
      "metadata": {
        "id": "aXRCHdutYxk5"
      },
      "source": [
        "with open(PATH + \"LeNET_test_acc_evolution.pickle\", 'wb') as f:\n",
        "    pickle.dump(test_acc, f)"
      ],
      "execution_count": 91,
      "outputs": []
    },
    {
      "cell_type": "code",
      "metadata": {
        "id": "aPT5YUS9fNxx"
      },
      "source": [
        "plt.plot(range(200), test_acc)\n",
        "plt.lines()"
      ],
      "execution_count": null,
      "outputs": []
    },
    {
      "cell_type": "code",
      "metadata": {
        "id": "8fUVcBthgRZV"
      },
      "source": [
        "plt.style.use('seaborn-whitegrid')\n",
        "from matplotlib.ticker import PercentFormatter"
      ],
      "execution_count": 114,
      "outputs": []
    },
    {
      "cell_type": "code",
      "metadata": {
        "colab": {
          "base_uri": "https://localhost:8080/",
          "height": 280
        },
        "id": "oWfD2rXDfZ-C",
        "outputId": "6a946fa8-611c-4dcc-d93e-aa366e1adb08"
      },
      "source": [
        "fig = plt.figure()\n",
        "ax = plt.axes()\n",
        "\n",
        "ax.plot(range(10, 201), train_acc[9:], label = 'training data');\n",
        "ax.plot(range(10, 201), test_acc[9:], label = 'test data');\n",
        "plt.ylim(0.97, 1);\n",
        "# plt.axis('tight');\n",
        "plt.xlabel(\"Epochs\")\n",
        "plt.ylabel(\"Accuracy\");\n",
        "plt.legend();\n",
        "#ax.yaxis.set_major_formatter(mtick.PercentFormatter())\n",
        "ax.yaxis.set_major_formatter(PercentFormatter(1.0, 2)) \n",
        "\n",
        "plt.savefig('Bayesian_LeNet_Accuracy_during_training.png', bbox_inches='tight', dpi=1200)"
      ],
      "execution_count": 126,
      "outputs": [
        {
          "output_type": "display_data",
          "data": {
            "image/png": "[encoded data removed]",
            "text/plain": [
              "<Figure size 432x288 with 1 Axes>"
            ]
          },
          "metadata": {}
        }
      ]
    }
  ]
}