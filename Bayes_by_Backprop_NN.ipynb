{
  "nbformat": 4,
  "nbformat_minor": 0,
  "metadata": {
    "colab": {
      "name": "Bayes by Backprop NN.ipynb",
      "provenance": [],
      "authorship_tag": "ABX9TyMN0m78F+03bxBmsuX14+7c"
    },
    "kernelspec": {
      "name": "python3",
      "display_name": "Python 3"
    },
    "language_info": {
      "name": "python"
    }
  },
  "cells": [
    {
      "cell_type": "code",
      "metadata": {
        "id": "E2WO8hv44mYS"
      },
      "source": [
        "from __future__ import print_function\n",
        "import collections\n",
        "import mxnet as mx\n",
        "import numpy as np\n",
        "from mxnet import nd, autograd\n",
        "from matplotlib import pyplot as plt"
      ],
      "execution_count": 3,
      "outputs": []
    },
    {
      "cell_type": "code",
      "metadata": {
        "colab": {
          "base_uri": "https://localhost:8080/"
        },
        "id": "sek4etsU4ofF",
        "outputId": "c185556f-e34e-45e1-ed41-8f443e3668d6"
      },
      "source": [
        "!pip install mxnet"
      ],
      "execution_count": 2,
      "outputs": [
        {
          "output_type": "stream",
          "name": "stdout",
          "text": [
            "Collecting mxnet\n",
            "  Downloading mxnet-1.8.0.post0-py2.py3-none-manylinux2014_x86_64.whl (46.9 MB)\n",
            "\u001b[K     |████████████████████████████████| 46.9 MB 45 kB/s \n",
            "\u001b[?25hRequirement already satisfied: numpy<2.0.0,>1.16.0 in /usr/local/lib/python3.7/dist-packages (from mxnet) (1.19.5)\n",
            "Requirement already satisfied: requests<3,>=2.20.0 in /usr/local/lib/python3.7/dist-packages (from mxnet) (2.23.0)\n",
            "Collecting graphviz<0.9.0,>=0.8.1\n",
            "  Downloading graphviz-0.8.4-py2.py3-none-any.whl (16 kB)\n",
            "Requirement already satisfied: idna<3,>=2.5 in /usr/local/lib/python3.7/dist-packages (from requests<3,>=2.20.0->mxnet) (2.10)\n",
            "Requirement already satisfied: urllib3!=1.25.0,!=1.25.1,<1.26,>=1.21.1 in /usr/local/lib/python3.7/dist-packages (from requests<3,>=2.20.0->mxnet) (1.24.3)\n",
            "Requirement already satisfied: certifi>=2017.4.17 in /usr/local/lib/python3.7/dist-packages (from requests<3,>=2.20.0->mxnet) (2021.5.30)\n",
            "Requirement already satisfied: chardet<4,>=3.0.2 in /usr/local/lib/python3.7/dist-packages (from requests<3,>=2.20.0->mxnet) (3.0.4)\n",
            "Installing collected packages: graphviz, mxnet\n",
            "  Attempting uninstall: graphviz\n",
            "    Found existing installation: graphviz 0.10.1\n",
            "    Uninstalling graphviz-0.10.1:\n",
            "      Successfully uninstalled graphviz-0.10.1\n",
            "Successfully installed graphviz-0.8.4 mxnet-1.8.0.post0\n"
          ]
        }
      ]
    },
    {
      "cell_type": "code",
      "metadata": {
        "id": "WYI6Y_cx4wLP"
      },
      "source": [
        "config = {\n",
        "    \"num_hidden_layers\": 2,\n",
        "    \"num_hidden_units\": 1200,\n",
        "    \"batch_size\": 128,\n",
        "    \"epochs\": 10,\n",
        "    \"learning_rate\": 0.001,\n",
        "    \"num_samples\": 1,\n",
        "    \"pi\": 0.25,\n",
        "    \"sigma_p\": 1.0,\n",
        "    \"sigma_p1\": 0.75,\n",
        "    \"sigma_p2\": 0.1,\n",
        "}"
      ],
      "execution_count": 22,
      "outputs": []
    },
    {
      "cell_type": "code",
      "metadata": {
        "id": "WL4Z54eq49mk"
      },
      "source": [
        "ctx = mx.cpu()"
      ],
      "execution_count": 23,
      "outputs": []
    },
    {
      "cell_type": "code",
      "metadata": {
        "id": "qGFDHmY44_Yd"
      },
      "source": [
        "# load mnist data \n",
        "# process the pixels by dividing by 126\n",
        "def transform(data, label):\n",
        "    return data.astype(np.float32)/126.0, label.astype(np.float32)\n",
        "\n",
        "mnist = mx.test_utils.get_mnist()\n",
        "num_inputs = 784\n",
        "num_outputs = 10\n",
        "batch_size = config['batch_size']\n",
        "\n",
        "train_data = mx.gluon.data.DataLoader(mx.gluon.data.vision.MNIST(train=True, transform=transform),\n",
        "                                      batch_size, shuffle=True)\n",
        "test_data = mx.gluon.data.DataLoader(mx.gluon.data.vision.MNIST(train=False, transform=transform),\n",
        "                                     batch_size, shuffle=False)\n",
        "\n",
        "num_train = sum([batch_size for i in train_data])\n",
        "num_batches = num_train / batch_size"
      ],
      "execution_count": 24,
      "outputs": []
    },
    {
      "cell_type": "code",
      "metadata": {
        "id": "9IQZ1vmx5NBe"
      },
      "source": [
        "#relu activation function\n",
        "def relu(X):\n",
        "    return nd.maximum(X, nd.zeros_like(X))"
      ],
      "execution_count": 25,
      "outputs": []
    },
    {
      "cell_type": "code",
      "metadata": {
        "id": "V0_dkkpf5dpA"
      },
      "source": [
        "# MLP\n",
        "\n",
        "num_layers = config['num_hidden_layers']\n",
        "\n",
        "# define function for evaluating MLP\n",
        "def net(X, layer_params):\n",
        "    layer_input = X\n",
        "    for i in range(len(layer_params) // 2 - 2):\n",
        "        h_linear = nd.dot(layer_input, layer_params[2*i]) + layer_params[2*i + 1]\n",
        "        layer_input = relu(h_linear)\n",
        "    # last layer without ReLU\n",
        "    output = nd.dot(layer_input, layer_params[-2]) + layer_params[-1]\n",
        "    return output\n",
        "\n",
        "# define network weight shapes\n",
        "layer_param_shapes = []\n",
        "num_hidden = config['num_hidden_units']\n",
        "for i in range(num_layers + 1):\n",
        "    if i == 0: # input layer\n",
        "        W_shape = (num_inputs, num_hidden)\n",
        "        b_shape = (num_hidden,)\n",
        "    elif i == num_layers: # last layer\n",
        "        W_shape = (num_hidden, num_outputs)\n",
        "        b_shape = (num_outputs,)\n",
        "    else: # hidden layers\n",
        "        W_shape = (num_hidden, num_hidden)\n",
        "        b_shape = (num_hidden,)\n",
        "    layer_param_shapes.extend([W_shape, b_shape])"
      ],
      "execution_count": 26,
      "outputs": []
    },
    {
      "cell_type": "code",
      "metadata": {
        "id": "vGXL08VY6UUn"
      },
      "source": [
        "def log_softmax_likelihood(yhat_linear, y):\n",
        "    return nd.nansum(y * nd.log_softmax(yhat_linear), axis=0, exclude=True)"
      ],
      "execution_count": 27,
      "outputs": []
    },
    {
      "cell_type": "code",
      "metadata": {
        "id": "_BxB-33S61xi"
      },
      "source": [
        "LOG2PI = np.log(2.0 * np.pi)\n",
        "\n",
        "def log_gaussian(x, mu, sigma):\n",
        "    return -0.5 * LOG2PI - nd.log(sigma) - (x - mu) ** 2 / (2 * sigma ** 2)\n",
        "\n",
        "def gaussian_prior(x):\n",
        "    sigma_p = nd.array([config['sigma_p']], ctx=ctx)\n",
        "\n",
        "    return nd.sum(log_gaussian(x, 0., sigma_p))"
      ],
      "execution_count": 28,
      "outputs": []
    },
    {
      "cell_type": "code",
      "metadata": {
        "id": "RgyU3IDA64Ke"
      },
      "source": [
        "def gaussian(x, mu, sigma):\n",
        "    scaling = 1.0 / nd.sqrt(2.0 * np.pi * (sigma ** 2))\n",
        "    bell = nd.exp(- (x - mu) ** 2 / (2.0 * sigma ** 2))\n",
        "\n",
        "    return scaling * bell\n",
        "\n",
        "def scale_mixture_prior(x):\n",
        "    sigma_p1 = nd.array([config['sigma_p1']], ctx=ctx)\n",
        "    sigma_p2 = nd.array([config['sigma_p2']], ctx=ctx)\n",
        "    pi = config['pi']\n",
        "\n",
        "    first_gaussian = pi * gaussian(x, 0., sigma_p1)\n",
        "    second_gaussian = (1 - pi) * gaussian(x, 0., sigma_p2)\n",
        "\n",
        "    return nd.log(first_gaussian + second_gaussian)"
      ],
      "execution_count": 29,
      "outputs": []
    },
    {
      "cell_type": "code",
      "metadata": {
        "id": "23KV6LF767oN"
      },
      "source": [
        "# combined loss function i.e. expected lower bound\n",
        "def combined_loss(output, label_one_hot, params, mus, sigmas, log_prior, log_likelihood):\n",
        "\n",
        "    # Calculate data likelihood\n",
        "    log_likelihood_sum = nd.sum(log_likelihood(output, label_one_hot))\n",
        "\n",
        "    # Calculate prior\n",
        "    log_prior_sum = sum([nd.sum(log_prior(param)) for param in params])\n",
        "\n",
        "    # Calculate variational posterior\n",
        "    log_var_posterior_sum = sum([nd.sum(log_gaussian(params[i], mus[i], sigmas[i])) for i in range(len(params))])\n",
        "\n",
        "    # Calculate total loss\n",
        "    return 1.0 / num_batches * (log_var_posterior_sum - log_prior_sum) - log_likelihood_sum"
      ],
      "execution_count": 31,
      "outputs": []
    },
    {
      "cell_type": "code",
      "metadata": {
        "id": "pqH78TfS7UO9"
      },
      "source": [
        "# Optimizer using vanilla stochastic gradient descent\n",
        "def SGD(params, lr):\n",
        "    for param in params:\n",
        "        param[:] = param - lr * param.grad"
      ],
      "execution_count": 32,
      "outputs": []
    },
    {
      "cell_type": "code",
      "metadata": {
        "id": "EsKn2RS-7YbU"
      },
      "source": [
        "def evaluate_accuracy(data_iterator, net, layer_params):\n",
        "    numerator = 0.\n",
        "    denominator = 0.\n",
        "    for i, (data, label) in enumerate(data_iterator):\n",
        "        data = data.as_in_context(ctx).reshape((-1, 784))\n",
        "        label = label.as_in_context(ctx)\n",
        "        output = net(data, layer_params)\n",
        "        predictions = nd.argmax(output, axis=1)\n",
        "        numerator += nd.sum(predictions == label)\n",
        "        denominator += data.shape[0]\n",
        "    return (numerator / denominator).asscalar()"
      ],
      "execution_count": 33,
      "outputs": []
    },
    {
      "cell_type": "code",
      "metadata": {
        "id": "tuibFmUt7dZ5"
      },
      "source": [
        "weight_scale = .1 \n",
        "rho_offset = -3  \n",
        "\n",
        "# initialize variational parameters; mean and variance for each weight\n",
        "mus = []\n",
        "rhos = []\n",
        "\n",
        "for shape in layer_param_shapes:\n",
        "    mu = nd.random_normal(shape=shape, ctx=ctx, scale=weight_scale)\n",
        "    rho = rho_offset + nd.zeros(shape=shape, ctx=ctx)\n",
        "    mus.append(mu)\n",
        "    rhos.append(rho)\n",
        "\n",
        "variational_params = mus + rhos"
      ],
      "execution_count": 34,
      "outputs": []
    },
    {
      "cell_type": "code",
      "metadata": {
        "id": "vMwATAan7lEI"
      },
      "source": [
        "for param in variational_params:\n",
        "    param.attach_grad()"
      ],
      "execution_count": 35,
      "outputs": []
    },
    {
      "cell_type": "code",
      "metadata": {
        "id": "ODwJTEsZ7pFv"
      },
      "source": [
        "# main training loop\n",
        "# sample epsilon from standard multivariate normal\n",
        "def sample_epsilons(param_shapes):\n",
        "    epsilons = [nd.random_normal(shape=shape, loc=0., scale=1.0, ctx=ctx) for shape in param_shapes]\n",
        "    return epsilons"
      ],
      "execution_count": 36,
      "outputs": []
    },
    {
      "cell_type": "code",
      "metadata": {
        "id": "RhoxEFYH7vr3"
      },
      "source": [
        "def softplus(x):\n",
        "    return nd.log(1. + nd.exp(x))\n",
        "\n",
        "def transform_rhos(rhos):\n",
        "    return [softplus(rho) for rho in rhos]"
      ],
      "execution_count": 37,
      "outputs": []
    },
    {
      "cell_type": "code",
      "metadata": {
        "id": "hSyIkIzV7yt2"
      },
      "source": [
        "def transform_gaussian_samples(mus, sigmas, epsilons):\n",
        "    samples = []\n",
        "    for j in range(len(mus)):\n",
        "        samples.append(mus[j] + sigmas[j] * epsilons[j])\n",
        "    return samples"
      ],
      "execution_count": 38,
      "outputs": []
    },
    {
      "cell_type": "code",
      "metadata": {
        "colab": {
          "base_uri": "https://localhost:8080/",
          "height": 501
        },
        "id": "dSxwUxOb70rO",
        "outputId": "edaf997b-113c-4ba6-bee7-78df2dafbedd"
      },
      "source": [
        "epochs = config['epochs']\n",
        "learning_rate = config['learning_rate']\n",
        "smoothing_constant = .01\n",
        "train_acc = []\n",
        "test_acc = []\n",
        "losses = []\n",
        "\n",
        "for e in range(epochs):\n",
        "    for i, (data, label) in enumerate(train_data):\n",
        "        data = data.as_in_context(ctx).reshape((-1, 784))\n",
        "        label = label.as_in_context(ctx)\n",
        "        label_one_hot = nd.one_hot(label, 10)\n",
        "\n",
        "        with autograd.record():\n",
        "            # sample epsilons from standard normal\n",
        "            epsilons = sample_epsilons(layer_param_shapes)\n",
        "\n",
        "            # compute softplus for variance\n",
        "            sigmas = transform_rhos(rhos)\n",
        "\n",
        "            # obtain a sample from q(w|theta) by transforming the epsilons\n",
        "            layer_params = transform_gaussian_samples(mus, sigmas, epsilons)\n",
        "\n",
        "            # forward-propagate the batch\n",
        "            output = net(data, layer_params)\n",
        "\n",
        "            # calculate the loss\n",
        "            loss = combined_loss(output, label_one_hot, layer_params, mus, sigmas, gaussian_prior, log_softmax_likelihood)\n",
        "\n",
        "        # backpropagate for gradient calculation\n",
        "        loss.backward()\n",
        "\n",
        "        # apply stochastic gradient descent to variational parameters\n",
        "        SGD(variational_params, learning_rate)\n",
        "\n",
        "        # calculate moving loss for monitoring convergence\n",
        "        curr_loss = nd.mean(loss).asscalar()\n",
        "        moving_loss = (curr_loss if ((i == 0) and (e == 0))\n",
        "                       else (1 - smoothing_constant) * moving_loss + (smoothing_constant) * curr_loss)\n",
        "\n",
        "\n",
        "    test_accuracy = evaluate_accuracy(test_data, net, mus)\n",
        "    train_accuracy = evaluate_accuracy(train_data, net, mus)\n",
        "    train_acc.append(np.asscalar(train_accuracy))\n",
        "    test_acc.append(np.asscalar(test_accuracy))\n",
        "    losses.append(np.asscalar(moving_loss))\n",
        "    print(\"Epoch %s. Loss: %s, Train_acc %s, Test_acc %s\" %\n",
        "          (e, moving_loss, train_accuracy, test_accuracy))\n",
        "\n",
        "plt.plot(train_acc)\n",
        "plt.plot(test_acc)\n",
        "plt.show()"
      ],
      "execution_count": 39,
      "outputs": [
        {
          "output_type": "stream",
          "name": "stderr",
          "text": [
            "/usr/local/lib/python3.7/dist-packages/ipykernel_launcher.py:44: DeprecationWarning: np.asscalar(a) is deprecated since NumPy v1.16, use a.item() instead\n",
            "/usr/local/lib/python3.7/dist-packages/ipykernel_launcher.py:45: DeprecationWarning: np.asscalar(a) is deprecated since NumPy v1.16, use a.item() instead\n",
            "/usr/local/lib/python3.7/dist-packages/ipykernel_launcher.py:46: DeprecationWarning: np.asscalar(a) is deprecated since NumPy v1.16, use a.item() instead\n"
          ]
        },
        {
          "output_type": "stream",
          "name": "stdout",
          "text": [
            "Epoch 0. Loss: 12969.159654945288, Train_acc 0.95753336, Test_acc 0.9562\n",
            "Epoch 1. Loss: 12939.27437858649, Train_acc 0.96965, Test_acc 0.9656\n",
            "Epoch 2. Loss: 12930.008294334277, Train_acc 0.9763167, Test_acc 0.9712\n",
            "Epoch 3. Loss: 12921.092213981665, Train_acc 0.98003334, Test_acc 0.9714\n",
            "Epoch 4. Loss: 12915.27612438075, Train_acc 0.983, Test_acc 0.9757\n",
            "Epoch 5. Loss: 12907.24484807865, Train_acc 0.98578334, Test_acc 0.9766\n",
            "Epoch 6. Loss: 12901.624205139342, Train_acc 0.9870333, Test_acc 0.9788\n",
            "Epoch 7. Loss: 12895.657805616007, Train_acc 0.98931664, Test_acc 0.9796\n",
            "Epoch 8. Loss: 12889.804193604035, Train_acc 0.9903333, Test_acc 0.9799\n",
            "Epoch 9. Loss: 12883.81643559353, Train_acc 0.99193335, Test_acc 0.98\n"
          ]
        },
        {
          "output_type": "display_data",
          "data": {
            "image/png": "[encoded data removed]",
            "text/plain": [
              "<Figure size 432x288 with 1 Axes>"
            ]
          },
          "metadata": {
            "needs_background": "light"
          }
        }
      ]
    },
    {
      "cell_type": "code",
      "metadata": {
        "id": "P3jmbVIm77Ff",
        "colab": {
          "base_uri": "https://localhost:8080/",
          "height": 265
        },
        "outputId": "b6fc38ad-0bea-40e4-b6cd-8e467994d5a5"
      },
      "source": [
        "plt.plot(losses)\n",
        "plt.show()"
      ],
      "execution_count": 40,
      "outputs": [
        {
          "output_type": "display_data",
          "data": {
            "image/png": "[encoded data removed]",
            "text/plain": [
              "<Figure size 432x288 with 1 Axes>"
            ]
          },
          "metadata": {
            "needs_background": "light"
          }
        }
      ]
    }
  ]
}