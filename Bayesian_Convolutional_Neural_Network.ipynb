{
  "nbformat": 4,
  "nbformat_minor": 0,
  "metadata": {
    "colab": {
      "name": "Bayesian Convolutional Neural Network.ipynb",
      "provenance": [],
      "authorship_tag": "ABX9TyMAf1A9q6O2W3HJukzx0pNt",
      "include_colab_link": true
    },
    "kernelspec": {
      "name": "python3",
      "display_name": "Python 3"
    },
    "language_info": {
      "name": "python"
    }
  },
  "cells": [
    {
      "cell_type": "markdown",
      "metadata": {
        "id": "view-in-github",
        "colab_type": "text"
      },
      "source": [
        "<a href=\"https://colab.research.google.com/github/EfthymiosCosta/Neural-Networks-Weight-Uncertainty/blob/main/Bayesian_Convolutional_Neural_Network.ipynb\" target=\"_parent\"><img src=\"https://colab.research.google.com/assets/colab-badge.svg\" alt=\"Open In Colab\"/></a>"
      ]
    },
    {
      "cell_type": "code",
      "metadata": {
        "id": "XeXNYLRhnqWj"
      },
      "source": [
        "import tensorflow as tf\n",
        "import tensorflow_probability as tfp\n",
        "\n",
        "from tensorflow.keras.models import Sequential\n",
        "from tensorflow.keras.layers import Dense, Flatten, Conv2D, MaxPooling2D\n",
        "from tensorflow.keras.losses import SparseCategoricalCrossentropy\n",
        "from tensorflow.keras.optimizers import RMSprop\n",
        "\n",
        "import numpy as np\n",
        "import os\n",
        "import matplotlib.pyplot as plt\n",
        "\n",
        "tfd = tfp.distributions\n",
        "tfpl = tfp.layers\n",
        "\n",
        "plt.rcParams['figure.figsize'] = (10, 6)"
      ],
      "execution_count": 1,
      "outputs": []
    },
    {
      "cell_type": "code",
      "metadata": {
        "colab": {
          "base_uri": "https://localhost:8080/"
        },
        "id": "8Xi2bSutF3jk",
        "outputId": "47893292-d8f3-4b4f-9283-1e126f7234e0"
      },
      "source": [
        "(x_train, y_train), (x_test, y_test) = tf.keras.datasets.mnist.load_data()\n"
      ],
      "execution_count": 2,
      "outputs": [
        {
          "output_type": "stream",
          "name": "stdout",
          "text": [
            "Downloading data from https://storage.googleapis.com/tensorflow/tf-keras-datasets/mnist.npz\n",
            "11493376/11490434 [==============================] - 0s 0us/step\n",
            "11501568/11490434 [==============================] - 0s 0us/step\n"
          ]
        }
      ]
    },
    {
      "cell_type": "code",
      "metadata": {
        "id": "-HbsPQu8F3mQ"
      },
      "source": [
        "x_train=x_train/126\n",
        "x_test=x_test/126\n",
        "x_train=x_train.astype(np.float32)\n",
        "x_test=x_test.astype(np.float32)\n",
        "y_train_oh = tf.keras.utils.to_categorical(y_train)\n",
        "y_test_oh = tf.keras.utils.to_categorical(y_test)"
      ],
      "execution_count": 3,
      "outputs": []
    },
    {
      "cell_type": "code",
      "metadata": {
        "colab": {
          "base_uri": "https://localhost:8080/"
        },
        "id": "gcaueXJuJ0Hx",
        "outputId": "a9c10f91-d654-4e1c-d61a-ade4b192d613"
      },
      "source": [
        "x_train.shape"
      ],
      "execution_count": 13,
      "outputs": [
        {
          "output_type": "execute_result",
          "data": {
            "text/plain": [
              "(60000, 28, 28)"
            ]
          },
          "metadata": {},
          "execution_count": 13
        }
      ]
    },
    {
      "cell_type": "code",
      "metadata": {
        "id": "zv1zBwjpF3oq"
      },
      "source": [
        "def get_deterministic_model(input_shape, loss, optimizer, metrics):\n",
        "    \"\"\"\n",
        "    This function should build and compile a CNN model according to the above specification. \n",
        "    The function takes input_shape, loss, optimizer and metrics as arguments, which should be\n",
        "    used to define and compile the model.\n",
        "    Your function should return the compiled model.\n",
        "    \"\"\"\n",
        "    model = Sequential([\n",
        "        Conv2D(kernel_size=(5, 5), filters=8, activation='relu', padding='VALID', input_shape=input_shape),\n",
        "        MaxPooling2D(pool_size=(6, 6)),\n",
        "        Flatten(),\n",
        "        Dense(units=10, activation='softmax')\n",
        "    ])\n",
        "    \n",
        "    model.compile(loss=loss, optimizer=optimizer, metrics=metrics)\n",
        "    return model"
      ],
      "execution_count": 20,
      "outputs": []
    },
    {
      "cell_type": "code",
      "metadata": {
        "id": "nsjJyqu8J3X4"
      },
      "source": [
        "import tensorflow_datasets as tfds\n",
        "x_data=tfds.image_classification.MNIST\n"
      ],
      "execution_count": 15,
      "outputs": []
    },
    {
      "cell_type": "code",
      "metadata": {
        "id": "cCSlBDx3J3a0"
      },
      "source": [
        ""
      ],
      "execution_count": 19,
      "outputs": []
    },
    {
      "cell_type": "code",
      "metadata": {
        "id": "2laJO-4-J3eV"
      },
      "source": [
        ""
      ],
      "execution_count": null,
      "outputs": []
    },
    {
      "cell_type": "code",
      "metadata": {
        "id": "gZqA_GZvF3rJ"
      },
      "source": [
        "tf.random.set_seed(0)\n",
        "deterministic_model = get_deterministic_model(\n",
        "    input_shape=(28, 28,1), \n",
        "    loss=SparseCategoricalCrossentropy(), \n",
        "    optimizer=RMSprop(), \n",
        "    metrics=['accuracy']\n",
        ")"
      ],
      "execution_count": 12,
      "outputs": []
    },
    {
      "cell_type": "code",
      "metadata": {
        "colab": {
          "base_uri": "https://localhost:8080/"
        },
        "id": "w3OzrY_GF3tj",
        "outputId": "2d77ca20-20fb-4b91-93ea-2a4169b1717a"
      },
      "source": [
        "deterministic_model.summary()"
      ],
      "execution_count": 6,
      "outputs": [
        {
          "output_type": "stream",
          "name": "stdout",
          "text": [
            "Model: \"sequential\"\n",
            "_________________________________________________________________\n",
            "Layer (type)                 Output Shape              Param #   \n",
            "=================================================================\n",
            "conv2d (Conv2D)              (None, 24, 24, 8)         208       \n",
            "_________________________________________________________________\n",
            "max_pooling2d (MaxPooling2D) (None, 4, 4, 8)           0         \n",
            "_________________________________________________________________\n",
            "flatten (Flatten)            (None, 128)               0         \n",
            "_________________________________________________________________\n",
            "dense (Dense)                (None, 10)                1290      \n",
            "=================================================================\n",
            "Total params: 1,498\n",
            "Trainable params: 1,498\n",
            "Non-trainable params: 0\n",
            "_________________________________________________________________\n"
          ]
        }
      ]
    },
    {
      "cell_type": "code",
      "metadata": {
        "id": "Y9cI_lvQLaj4"
      },
      "source": [
        "img_rows=x_train[0].shape[0]\n",
        "img_cols=x_test[0].shape[1]\n",
        "\n",
        "X_train=x_train.reshape(x_train.shape[0],img_rows,img_cols,1)\n",
        "\n",
        "X_test=x_test.reshape(x_test.shape[0],img_rows,img_cols,1)\n",
        "Input_shape=(img_rows,img_cols,1)"
      ],
      "execution_count": 21,
      "outputs": []
    },
    {
      "cell_type": "code",
      "metadata": {
        "colab": {
          "base_uri": "https://localhost:8080/"
        },
        "id": "myGRnM99F3wA",
        "outputId": "c45d039a-bdd2-486b-e729-426c0bfa328b"
      },
      "source": [
        "deterministic_model.fit(X_train, y_train, epochs=5)"
      ],
      "execution_count": 22,
      "outputs": [
        {
          "output_type": "stream",
          "name": "stdout",
          "text": [
            "Epoch 1/5\n",
            "1875/1875 [==============================] - 20s 10ms/step - loss: 0.3798 - accuracy: 0.8905\n",
            "Epoch 2/5\n",
            "1875/1875 [==============================] - 20s 10ms/step - loss: 0.1290 - accuracy: 0.9603\n",
            "Epoch 3/5\n",
            "1875/1875 [==============================] - 19s 10ms/step - loss: 0.1066 - accuracy: 0.9671\n",
            "Epoch 4/5\n",
            "1875/1875 [==============================] - 19s 10ms/step - loss: 0.0960 - accuracy: 0.9700\n",
            "Epoch 5/5\n",
            "1875/1875 [==============================] - 19s 10ms/step - loss: 0.0887 - accuracy: 0.9724\n"
          ]
        },
        {
          "output_type": "execute_result",
          "data": {
            "text/plain": [
              "<keras.callbacks.History at 0x7f11c355ad50>"
            ]
          },
          "metadata": {},
          "execution_count": 22
        }
      ]
    },
    {
      "cell_type": "code",
      "metadata": {
        "colab": {
          "base_uri": "https://localhost:8080/"
        },
        "id": "YfTucfRjF3yl",
        "outputId": "5be0a6ce-3dc5-4977-cd11-a928ae86a2c4"
      },
      "source": [
        "print('Accuracy on MNIST test set: ',\n",
        "      str(deterministic_model.evaluate(X_test, y_test, verbose=False)[1]))"
      ],
      "execution_count": 23,
      "outputs": [
        {
          "output_type": "stream",
          "name": "stdout",
          "text": [
            "Accuracy on MNIST test set:  0.9754999876022339\n"
          ]
        }
      ]
    },
    {
      "cell_type": "code",
      "metadata": {
        "id": "LwQVfVffF31E"
      },
      "source": [
        "def nll(y_true, y_pred):\n",
        "    \"\"\"\n",
        "    This function should return the negative log-likelihood of each sample\n",
        "    in y_true given the predicted distribution y_pred. If y_true is of shape \n",
        "    [B, E] and y_pred has batch shape [B] and event_shape [E], the output \n",
        "    should be a Tensor of shape [B].\n",
        "    \"\"\"\n",
        "    return -y_pred.log_prob(y_true)"
      ],
      "execution_count": 25,
      "outputs": []
    },
    {
      "cell_type": "code",
      "metadata": {
        "id": "7HSx8hy-F33o"
      },
      "source": [
        "## Bayesian CNN model"
      ],
      "execution_count": 26,
      "outputs": []
    },
    {
      "cell_type": "code",
      "metadata": {
        "id": "K0VHft5KMBD8"
      },
      "source": [
        "def get_convolutional_reparameterization_layer(input_shape, divergence_fn):\n",
        "    \"\"\"\n",
        "    This function should create an instance of a Convolution2DReparameterization \n",
        "    layer according to the above specification. \n",
        "    The function takes the input_shape and divergence_fn as arguments, which should \n",
        "    be used to define the layer.\n",
        "    Your function should then return the layer instance.\n",
        "    \"\"\"\n",
        "    \n",
        "    layer = tfpl.Convolution2DReparameterization(\n",
        "                input_shape=input_shape, filters=8, kernel_size=(5, 5),\n",
        "                activation='relu', padding='VALID',\n",
        "                kernel_prior_fn=tfpl.default_multivariate_normal_fn,\n",
        "                kernel_posterior_fn=tfpl.default_mean_field_normal_fn(is_singular=False),\n",
        "                kernel_divergence_fn=divergence_fn,\n",
        "                bias_prior_fn=tfpl.default_multivariate_normal_fn,\n",
        "                bias_posterior_fn=tfpl.default_mean_field_normal_fn(is_singular=False),\n",
        "                bias_divergence_fn=divergence_fn\n",
        "            )\n",
        "    return layer"
      ],
      "execution_count": 27,
      "outputs": []
    },
    {
      "cell_type": "code",
      "metadata": {
        "id": "L4Dtj7ZzF36g"
      },
      "source": [
        "#we will use a custom prior: the \"spike and slab\" (also called a scale \n",
        "#mixture prior) distribution. This distribution has a density that is the \n",
        "#weighted sum of two normally distributed ones: one with a standard \n",
        "#deviation of 1 and one with a standard deviation of 10. In this way, \n",
        "#it has a sharp spike around 0\n",
        "\n",
        "\n",
        "def spike_and_slab(event_shape, dtype):\n",
        "    distribution = tfd.Mixture(\n",
        "        cat=tfd.Categorical(probs=[0.5, 0.5]),\n",
        "        components=[\n",
        "            tfd.Independent(tfd.Normal(\n",
        "                loc=tf.zeros(event_shape, dtype=dtype), \n",
        "                scale=0.1*tf.ones(event_shape, dtype=dtype)),\n",
        "                            reinterpreted_batch_ndims=1),\n",
        "            tfd.Independent(tfd.Normal(\n",
        "                loc=tf.zeros(event_shape, dtype=dtype), \n",
        "                scale=0.75*tf.ones(event_shape, dtype=dtype)),\n",
        "                            reinterpreted_batch_ndims=1)],\n",
        "    name='spike_and_slab')\n",
        "    return distribution"
      ],
      "execution_count": 38,
      "outputs": []
    },
    {
      "cell_type": "code",
      "metadata": {
        "colab": {
          "base_uri": "https://localhost:8080/",
          "height": 279
        },
        "id": "eivu6CWPF3-v",
        "outputId": "2a76601d-768e-4838-b91e-c29786321f6e"
      },
      "source": [
        "x_plot = np.linspace(-5, 5, 1000)[:, np.newaxis]\n",
        "plt.plot(x_plot, tfd.Normal(loc=0, scale=1).prob(x_plot).numpy(), label='unit normal', linestyle='--')\n",
        "plt.plot(x_plot, spike_and_slab(1, dtype=tf.float32).prob(x_plot).numpy(), label='spike and slab')\n",
        "plt.xlabel('x')\n",
        "plt.ylabel('Density')\n",
        "plt.legend()\n",
        "plt.show()"
      ],
      "execution_count": 39,
      "outputs": [
        {
          "output_type": "display_data",
          "data": {
            "image/png": "[encoded data removed]",
            "text/plain": [
              "<Figure size 432x288 with 1 Axes>"
            ]
          },
          "metadata": {
            "needs_background": "light"
          }
        }
      ]
    },
    {
      "cell_type": "code",
      "metadata": {
        "id": "eCNq7QT8F4Bc"
      },
      "source": [
        "def get_prior(kernel_size, bias_size, dtype=None):\n",
        "    \"\"\"\n",
        "    This function should create the prior distribution, consisting of the \n",
        "    \"spike and slab\" distribution that is described above. \n",
        "    The distribution should be created using the kernel_size, bias_size and dtype\n",
        "    function arguments above.\n",
        "    The function should then return a callable, that returns the prior distribution.\n",
        "    \"\"\"\n",
        "    n = kernel_size+bias_size  \n",
        "    prior_model = Sequential([tfpl.DistributionLambda(lambda t : spike_and_slab(n, dtype))])\n",
        "    return prior_model"
      ],
      "execution_count": 40,
      "outputs": []
    },
    {
      "cell_type": "code",
      "metadata": {
        "id": "irWyK9PMMfFF"
      },
      "source": [
        "def get_posterior(kernel_size, bias_size, dtype=None):\n",
        "    \"\"\"\n",
        "    This function should create the posterior distribution as specified above.\n",
        "    The distribution should be created using the kernel_size, bias_size and dtype\n",
        "    function arguments above.\n",
        "    The function should then return a callable, that returns the posterior distribution.\n",
        "    \"\"\"\n",
        "    n = kernel_size + bias_size\n",
        "    return Sequential([\n",
        "        tfpl.VariableLayer(tfpl.IndependentNormal.params_size(n), dtype=dtype),\n",
        "        tfpl.IndependentNormal(n)\n",
        "    ])"
      ],
      "execution_count": 41,
      "outputs": []
    },
    {
      "cell_type": "code",
      "metadata": {
        "id": "NY0uV7IqMfHh"
      },
      "source": [
        "def get_dense_variational_layer(prior_fn, posterior_fn, kl_weight):\n",
        "    \"\"\"\n",
        "    This function should create an instance of a DenseVariational layer according \n",
        "    to the above specification. \n",
        "    The function takes the prior_fn, posterior_fn and kl_weight as arguments, which should \n",
        "    be used to define the layer.\n",
        "    Your function should then return the layer instance.\n",
        "    \"\"\"\n",
        "    return tfpl.DenseVariational(\n",
        "        units=10, make_posterior_fn=posterior_fn, make_prior_fn=prior_fn, kl_weight=kl_weight\n",
        "    )"
      ],
      "execution_count": 43,
      "outputs": []
    },
    {
      "cell_type": "code",
      "metadata": {
        "id": "HlH89S8nMfKC"
      },
      "source": [
        "tf.random.set_seed(0)\n",
        "divergence_fn = lambda q, p, _ : tfd.kl_divergence(q, p) / X_train.shape[0]\n",
        "convolutional_reparameterization_layer = get_convolutional_reparameterization_layer(\n",
        "    input_shape=(28, 28, 1), divergence_fn=divergence_fn\n",
        ")\n",
        "dense_variational_layer = get_dense_variational_layer(\n",
        "    get_prior, get_posterior, kl_weight=1/X_train.shape[0]\n",
        ")"
      ],
      "execution_count": 44,
      "outputs": []
    },
    {
      "cell_type": "code",
      "metadata": {
        "colab": {
          "base_uri": "https://localhost:8080/"
        },
        "id": "imBxh5ZFMfMi",
        "outputId": "e3baa86f-2b9b-4026-974c-a512755e0724"
      },
      "source": [
        "bayesian_model = Sequential([\n",
        "    convolutional_reparameterization_layer,\n",
        "    MaxPooling2D(pool_size=(6, 6)),\n",
        "    Flatten(),\n",
        "    dense_variational_layer,\n",
        "    tfpl.OneHotCategorical(10, convert_to_tensor_fn=tfd.Distribution.mode)\n",
        "])\n",
        "bayesian_model.compile(loss=nll,\n",
        "              optimizer=RMSprop(),\n",
        "              metrics=['accuracy'],\n",
        "              experimental_run_tf_function=False)"
      ],
      "execution_count": 45,
      "outputs": [
        {
          "output_type": "stream",
          "name": "stderr",
          "text": [
            "/usr/local/lib/python3.7/dist-packages/keras/engine/base_layer.py:2223: UserWarning: `layer.add_variable` is deprecated and will be removed in a future version. Please use `layer.add_weight` method instead.\n",
            "  warnings.warn('`layer.add_variable` is deprecated and '\n"
          ]
        }
      ]
    },
    {
      "cell_type": "code",
      "metadata": {
        "colab": {
          "base_uri": "https://localhost:8080/"
        },
        "id": "5IvFYTEXMfOz",
        "outputId": "0bba618a-defc-43c2-f6eb-d2e84e4d3793"
      },
      "source": [
        "bayesian_model.summary()"
      ],
      "execution_count": 46,
      "outputs": [
        {
          "output_type": "stream",
          "name": "stdout",
          "text": [
            "Model: \"sequential_6\"\n",
            "_________________________________________________________________\n",
            "Layer (type)                 Output Shape              Param #   \n",
            "=================================================================\n",
            "conv2d_reparameterization_1  (None, 24, 24, 8)         416       \n",
            "_________________________________________________________________\n",
            "max_pooling2d_6 (MaxPooling2 (None, 4, 4, 8)           0         \n",
            "_________________________________________________________________\n",
            "flatten_6 (Flatten)          (None, 128)               0         \n",
            "_________________________________________________________________\n",
            "dense_variational_1 (DenseVa (None, 10)                2580      \n",
            "_________________________________________________________________\n",
            "one_hot_categorical_1 (OneHo multiple                  0         \n",
            "=================================================================\n",
            "Total params: 2,996\n",
            "Trainable params: 2,996\n",
            "Non-trainable params: 0\n",
            "_________________________________________________________________\n"
          ]
        }
      ]
    },
    {
      "cell_type": "code",
      "metadata": {
        "colab": {
          "base_uri": "https://localhost:8080/"
        },
        "id": "-wji1njyMfRD",
        "outputId": "2e66ab6e-3c1b-45fe-fb7e-281eaa4d139c"
      },
      "source": [
        "bayesian_model.fit(x=X_train, y=y_train_oh, epochs=10, verbose=True)"
      ],
      "execution_count": 47,
      "outputs": [
        {
          "output_type": "stream",
          "name": "stdout",
          "text": [
            "Epoch 1/10\n",
            "1875/1875 [==============================] - 21s 10ms/step - loss: 2.1192 - accuracy: 0.2952\n",
            "Epoch 2/10\n",
            "1875/1875 [==============================] - 20s 11ms/step - loss: 0.8441 - accuracy: 0.7272\n",
            "Epoch 3/10\n",
            "1875/1875 [==============================] - 20s 11ms/step - loss: 0.4637 - accuracy: 0.8580\n",
            "Epoch 4/10\n",
            "1875/1875 [==============================] - 20s 11ms/step - loss: 0.3351 - accuracy: 0.9019\n",
            "Epoch 5/10\n",
            "1875/1875 [==============================] - 20s 11ms/step - loss: 0.2812 - accuracy: 0.9214\n",
            "Epoch 6/10\n",
            "1875/1875 [==============================] - 20s 11ms/step - loss: 0.2418 - accuracy: 0.9333\n",
            "Epoch 7/10\n",
            "1875/1875 [==============================] - 20s 11ms/step - loss: 0.2217 - accuracy: 0.9405\n",
            "Epoch 8/10\n",
            "1875/1875 [==============================] - 20s 11ms/step - loss: 0.2068 - accuracy: 0.9460\n",
            "Epoch 9/10\n",
            "1875/1875 [==============================] - 20s 11ms/step - loss: 0.1961 - accuracy: 0.9495\n",
            "Epoch 10/10\n",
            "1875/1875 [==============================] - 20s 11ms/step - loss: 0.1875 - accuracy: 0.9531\n"
          ]
        },
        {
          "output_type": "execute_result",
          "data": {
            "text/plain": [
              "<keras.callbacks.History at 0x7f11bb523990>"
            ]
          },
          "metadata": {},
          "execution_count": 47
        }
      ]
    },
    {
      "cell_type": "code",
      "metadata": {
        "colab": {
          "base_uri": "https://localhost:8080/"
        },
        "id": "NWHR4fk9MfTR",
        "outputId": "333ebea5-f524-4464-d900-c0dbab621b5b"
      },
      "source": [
        "print('Accuracy on MNIST test set: ',\n",
        "      str(bayesian_model.evaluate(X_test, y_test_oh, verbose=False)[1]))"
      ],
      "execution_count": 48,
      "outputs": [
        {
          "output_type": "stream",
          "name": "stdout",
          "text": [
            "Accuracy on MNIST test set:  0.957099974155426\n"
          ]
        }
      ]
    },
    {
      "cell_type": "code",
      "metadata": {
        "id": "9nA1bb_oMfVh"
      },
      "source": [
        ""
      ],
      "execution_count": null,
      "outputs": []
    },
    {
      "cell_type": "code",
      "metadata": {
        "id": "kxssCy-mMfYI"
      },
      "source": [
        ""
      ],
      "execution_count": null,
      "outputs": []
    }
  ]
}