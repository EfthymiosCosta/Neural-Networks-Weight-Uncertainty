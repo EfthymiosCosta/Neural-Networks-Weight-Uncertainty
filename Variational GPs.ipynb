{
 "cells": [
  {
   "cell_type": "code",
   "execution_count": 5,
   "metadata": {},
   "outputs": [],
   "source": [
    "from scipy.cluster.vq import kmeans2\n",
    "from pyro.infer import MCMC, NUTS, Predictive, SVI, TraceMeanField_ELBO\n",
    "import pyro\n",
    "import pyro.contrib.gp as gp\n",
    "from pyro.contrib.examples.util import get_data_directory, get_data_loader\n",
    "import pyro.distributions as dist\n",
    "import numpy as np\n",
    "import matplotlib.pyplot as plt\n",
    "import torch\n",
    "import torch.nn as nn\n",
    "import torch.nn.functional as F"
   ]
  },
  {
   "cell_type": "code",
   "execution_count": 19,
   "metadata": {},
   "outputs": [
    {
     "name": "stdout",
     "output_type": "stream",
     "text": [
      "downloading data\n",
      "Downloading https://d2hg8soec8ck9v.cloudfront.net/datasets/mnist/train-images-idx3-ubyte.gz\n",
      "Downloading https://d2hg8soec8ck9v.cloudfront.net/datasets/mnist/train-images-idx3-ubyte.gz to C:\\Users\\Efthymios/.data\\MNIST\\raw\\train-images-idx3-ubyte.gz\n"
     ]
    },
    {
     "data": {
      "application/vnd.jupyter.widget-view+json": {
       "model_id": "13127c6c511e4e83adc5c3a9f5ab869d",
       "version_major": 2,
       "version_minor": 0
      },
      "text/plain": [
       "HBox(children=(IntProgress(value=0, max=9912422), HTML(value='')))"
      ]
     },
     "metadata": {},
     "output_type": "display_data"
    },
    {
     "name": "stdout",
     "output_type": "stream",
     "text": [
      "\n",
      "Extracting C:\\Users\\Efthymios/.data\\MNIST\\raw\\train-images-idx3-ubyte.gz to C:\\Users\\Efthymios/.data\\MNIST\\raw\n",
      "\n",
      "Downloading https://d2hg8soec8ck9v.cloudfront.net/datasets/mnist/train-labels-idx1-ubyte.gz\n",
      "Downloading https://d2hg8soec8ck9v.cloudfront.net/datasets/mnist/train-labels-idx1-ubyte.gz to C:\\Users\\Efthymios/.data\\MNIST\\raw\\train-labels-idx1-ubyte.gz\n"
     ]
    },
    {
     "data": {
      "application/vnd.jupyter.widget-view+json": {
       "model_id": "0fa8def6ff664327ac8b60e7d601e19f",
       "version_major": 2,
       "version_minor": 0
      },
      "text/plain": [
       "HBox(children=(IntProgress(value=0, max=28881), HTML(value='')))"
      ]
     },
     "metadata": {},
     "output_type": "display_data"
    },
    {
     "name": "stdout",
     "output_type": "stream",
     "text": [
      "\n",
      "Extracting C:\\Users\\Efthymios/.data\\MNIST\\raw\\train-labels-idx1-ubyte.gz to C:\\Users\\Efthymios/.data\\MNIST\\raw\n",
      "\n",
      "Downloading https://d2hg8soec8ck9v.cloudfront.net/datasets/mnist/t10k-images-idx3-ubyte.gz\n",
      "Downloading https://d2hg8soec8ck9v.cloudfront.net/datasets/mnist/t10k-images-idx3-ubyte.gz to C:\\Users\\Efthymios/.data\\MNIST\\raw\\t10k-images-idx3-ubyte.gz\n"
     ]
    },
    {
     "data": {
      "application/vnd.jupyter.widget-view+json": {
       "model_id": "f17b74e50c5943fdbef1c91c20ec384b",
       "version_major": 2,
       "version_minor": 0
      },
      "text/plain": [
       "HBox(children=(IntProgress(value=0, max=1648877), HTML(value='')))"
      ]
     },
     "metadata": {},
     "output_type": "display_data"
    },
    {
     "name": "stdout",
     "output_type": "stream",
     "text": [
      "\n",
      "Extracting C:\\Users\\Efthymios/.data\\MNIST\\raw\\t10k-images-idx3-ubyte.gz to C:\\Users\\Efthymios/.data\\MNIST\\raw\n",
      "\n",
      "Downloading https://d2hg8soec8ck9v.cloudfront.net/datasets/mnist/t10k-labels-idx1-ubyte.gz\n",
      "Downloading https://d2hg8soec8ck9v.cloudfront.net/datasets/mnist/t10k-labels-idx1-ubyte.gz to C:\\Users\\Efthymios/.data\\MNIST\\raw\\t10k-labels-idx1-ubyte.gz\n"
     ]
    },
    {
     "data": {
      "application/vnd.jupyter.widget-view+json": {
       "model_id": "353bf5f1d2aa4aba880f31a6632a3359",
       "version_major": 2,
       "version_minor": 0
      },
      "text/plain": [
       "HBox(children=(IntProgress(value=0, max=4542), HTML(value='')))"
      ]
     },
     "metadata": {},
     "output_type": "display_data"
    },
    {
     "name": "stdout",
     "output_type": "stream",
     "text": [
      "\n",
      "Extracting C:\\Users\\Efthymios/.data\\MNIST\\raw\\t10k-labels-idx1-ubyte.gz to C:\\Users\\Efthymios/.data\\MNIST\\raw\n",
      "\n",
      "download complete.\n",
      "downloading data\n",
      "download complete.\n"
     ]
    }
   ],
   "source": [
    "train_loader = get_data_loader(dataset_name='MNIST',\n",
    "                               data_dir='~/.data',\n",
    "                               batch_size=1000,\n",
    "                               is_training_set=True,\n",
    "                               shuffle=True)\n",
    "test_loader = get_data_loader(dataset_name='MNIST',\n",
    "                              data_dir='~/.data',\n",
    "                              batch_size=1000,\n",
    "                              is_training_set=False,\n",
    "                              shuffle=False)"
   ]
  },
  {
   "cell_type": "code",
   "execution_count": 26,
   "metadata": {},
   "outputs": [
    {
     "data": {
      "image/png": "[encoded data removed]",
      "text/plain": [
       "<Figure size 1008x576 with 15 Axes>"
      ]
     },
     "metadata": {
      "needs_background": "light"
     },
     "output_type": "display_data"
    }
   ],
   "source": [
    "X = train_loader.dataset.data.float()/126\n",
    "y = train_loader.dataset.targets\n",
    "class_names = np.array(['0', '1', '2', '3', '4', '5', '6', '7', '8', '9'])\n",
    "\n",
    "n_rows, n_cols = 3, 5\n",
    "fig, axes = plt.subplots(n_rows, n_cols, figsize=(14, 8))\n",
    "inx = np.random.choice(X.shape[0], n_rows*n_cols, replace=False)\n",
    "fig.subplots_adjust(hspace=0.3, wspace=0.1)\n",
    "\n",
    "for n, (image, label) in enumerate(zip(X[inx], y[inx])):\n",
    "    row = n // n_cols\n",
    "    col = n % n_cols\n",
    "    axes[row, col].imshow(image, cmap='binary')\n",
    "    axes[row, col].get_xaxis().set_visible(False)\n",
    "    axes[row, col].get_yaxis().set_visible(False)\n",
    "    axes[row, col].text(10., -2.5, f'{class_names[label]}')\n",
    "plt.show()"
   ]
  },
  {
   "cell_type": "code",
   "execution_count": 28,
   "metadata": {},
   "outputs": [],
   "source": [
    "X = train_loader.dataset.data.reshape(-1, 784).float() / 126\n",
    "y = train_loader.dataset.targets"
   ]
  },
  {
   "cell_type": "code",
   "execution_count": 33,
   "metadata": {},
   "outputs": [],
   "source": [
    "class LinearT(nn.Module):\n",
    "    \"\"\"Linear transform and transpose\"\"\"\n",
    "    def __init__(self, dim_in, dim_out):\n",
    "        super().__init__()\n",
    "        self.linear = nn.Linear(dim_in, dim_out, bias=False)\n",
    "\n",
    "    def forward(self, x):\n",
    "        return self.linear(x).t()\n",
    "\n",
    "# computes the weight for mean function of the first layer;\n",
    "# it is PCA of X (from 784D to 30D).\n",
    "_, _, V = np.linalg.svd(X.numpy(), full_matrices=False)\n",
    "W = torch.from_numpy(V[:30, :])\n",
    "\n",
    "mean_fn = LinearT(784, 30)\n",
    "mean_fn.linear.weight.data = W\n",
    "mean_fn.linear.weight.requires_grad_(False);"
   ]
  },
  {
   "cell_type": "code",
   "execution_count": 34,
   "metadata": {},
   "outputs": [],
   "source": [
    "class DeepGP(pyro.nn.PyroModule):\n",
    "    def __init__(self, X, y, Xu, mean_fn):\n",
    "        super(DeepGP, self).__init__()\n",
    "        self.layer1 = gp.models.VariationalSparseGP(\n",
    "            X,\n",
    "            None,\n",
    "            gp.kernels.RBF(784, variance=torch.tensor(2.), lengthscale=torch.tensor(2.)),\n",
    "            Xu=Xu,\n",
    "            likelihood=None,\n",
    "            mean_function=mean_fn,\n",
    "            latent_shape=torch.Size([30]))\n",
    "        # make sure that the input for next layer is batch_size x 30\n",
    "        h = mean_fn(X).t()\n",
    "        hu = mean_fn(Xu).t()\n",
    "        self.layer2 = gp.models.VariationalSparseGP(\n",
    "            h,\n",
    "            y,\n",
    "            gp.kernels.RBF(30, variance=torch.tensor(2.), lengthscale=torch.tensor(2.)),\n",
    "            Xu=hu,\n",
    "            likelihood=gp.likelihoods.MultiClass(num_classes=10),\n",
    "            latent_shape=torch.Size([10]))\n",
    "\n",
    "    def model(self, X, y):\n",
    "        self.layer1.set_data(X, None)\n",
    "        h_loc, h_var = self.layer1.model()\n",
    "        # approximate with a Monte Carlo sample (formula 15 of [1])\n",
    "        h = dist.Normal(h_loc, h_var.sqrt())()\n",
    "        self.layer2.set_data(h.t(), y)\n",
    "        self.layer2.model()\n",
    "\n",
    "    def guide(self, X, y):\n",
    "        self.layer1.guide()\n",
    "        self.layer2.guide()\n",
    "\n",
    "    # make prediction\n",
    "    def forward(self, X_new):\n",
    "        # because prediction is stochastic (due to Monte Carlo sample of hidden layer),\n",
    "        # we make 100 prediction and take the most common one (as in [4])\n",
    "        pred = []\n",
    "        for _ in range(100):\n",
    "            h_loc, h_var = self.layer1(X_new)\n",
    "            h = dist.Normal(h_loc, h_var.sqrt())()\n",
    "            f_loc, f_var = self.layer2(h.t())\n",
    "            pred.append(f_loc.argmax(dim=0))\n",
    "        return torch.stack(pred).mode(dim=0)[0]"
   ]
  },
  {
   "cell_type": "code",
   "execution_count": 37,
   "metadata": {},
   "outputs": [],
   "source": [
    "from scipy.cluster.vq import kmeans2\n",
    "from pyro.infer import MCMC, NUTS, Predictive, SVI, TraceMeanField_ELBO\n",
    "Xu = torch.from_numpy(kmeans2(X.numpy(), 100, minit='points')[0])\n",
    "deepgp = DeepGP(X, y, Xu, mean_fn)\n",
    "deepgp.layer1.u_scale_tril = deepgp.layer1.u_scale_tril * 1e-5\n",
    "#deepgp.cuda()\n",
    "\n",
    "optimizer = torch.optim.Adam(deepgp.parameters(), lr=0.01)\n",
    "loss_fn = TraceMeanField_ELBO().differentiable_loss"
   ]
  },
  {
   "cell_type": "code",
   "execution_count": 40,
   "metadata": {},
   "outputs": [],
   "source": [
    "def train(train_loader, gpmodule, optimizer, loss_fn, epoch):\n",
    "    for batch_idx, (data, target) in enumerate(train_loader):\n",
    "        data, target = data, target\n",
    "        data = data.reshape(-1, 784)\n",
    "        optimizer.zero_grad()\n",
    "        loss = loss_fn(gpmodule.model, gpmodule.guide, data, target)\n",
    "        loss.backward()\n",
    "        optimizer.step()\n",
    "        idx = batch_idx + 1\n",
    "        if idx % 10 == 0:\n",
    "            print(\"Train Epoch: {:2d} [{:5d}/{} ({:2.0f}%)]\\tLoss: {:.6f}\"\n",
    "                  .format(epoch, idx * len(data), len(train_loader.dataset),\n",
    "                          100. * idx / len(train_loader), loss))\n",
    "\n",
    "def test(test_loader, gpmodule):\n",
    "    correct = 0\n",
    "    for data, target in test_loader:\n",
    "        data, target = data, target\n",
    "        data = data.reshape(-1, 784)\n",
    "        pred = gpmodule(data)\n",
    "        # compare prediction and target to count accuaracy\n",
    "        correct += pred.eq(target).long().cpu().sum().item()\n",
    "\n",
    "    print(\"\\nTest set: Accuracy: {}/{} ({:.2f}%)\\n\"\n",
    "          .format(correct, len(test_loader.dataset), 100. * correct / len(test_loader.dataset)))"
   ]
  },
  {
   "cell_type": "code",
   "execution_count": 41,
   "metadata": {},
   "outputs": [
    {
     "name": "stderr",
     "output_type": "stream",
     "text": [
      "D:\\Anaconda3\\lib\\site-packages\\pyro\\primitives.py:441: UserWarning: linear.weight was not registered in the param store because requires_grad=False. You can silence this warning by calling my_module.train(False)\n",
      "  f\"{param_name} was not registered in the param store \"\n",
      "D:\\Anaconda3\\lib\\site-packages\\pyro\\poutine\\trace_struct.py:286: UserWarning: Encountered NaN: log_prob_sum at site 'layer1.u'\n",
      "  site[\"log_prob_sum\"], \"log_prob_sum at site '{}'\".format(name)\n",
      "D:\\Anaconda3\\lib\\site-packages\\pyro\\poutine\\trace_struct.py:286: UserWarning: Encountered NaN: log_prob_sum at site 'layer1.u'\n",
      "  site[\"log_prob_sum\"], \"log_prob_sum at site '{}'\".format(name)\n",
      "D:\\Anaconda3\\lib\\site-packages\\pyro\\poutine\\trace_struct.py:286: UserWarning: Encountered NaN: log_prob_sum at site 'layer1.u'\n",
      "  site[\"log_prob_sum\"], \"log_prob_sum at site '{}'\".format(name)\n",
      "D:\\Anaconda3\\lib\\site-packages\\pyro\\poutine\\trace_struct.py:286: UserWarning: Encountered NaN: log_prob_sum at site 'layer1.u'\n",
      "  site[\"log_prob_sum\"], \"log_prob_sum at site '{}'\".format(name)\n",
      "D:\\Anaconda3\\lib\\site-packages\\pyro\\poutine\\trace_struct.py:286: UserWarning: Encountered NaN: log_prob_sum at site 'layer1.u'\n",
      "  site[\"log_prob_sum\"], \"log_prob_sum at site '{}'\".format(name)\n",
      "D:\\Anaconda3\\lib\\site-packages\\pyro\\poutine\\trace_struct.py:286: UserWarning: Encountered NaN: log_prob_sum at site 'layer1.u'\n",
      "  site[\"log_prob_sum\"], \"log_prob_sum at site '{}'\".format(name)\n",
      "D:\\Anaconda3\\lib\\site-packages\\pyro\\poutine\\trace_struct.py:286: UserWarning: Encountered NaN: log_prob_sum at site 'layer1.u'\n",
      "  site[\"log_prob_sum\"], \"log_prob_sum at site '{}'\".format(name)\n",
      "D:\\Anaconda3\\lib\\site-packages\\pyro\\poutine\\trace_struct.py:286: UserWarning: Encountered NaN: log_prob_sum at site 'layer1.u'\n",
      "  site[\"log_prob_sum\"], \"log_prob_sum at site '{}'\".format(name)\n"
     ]
    },
    {
     "name": "stdout",
     "output_type": "stream",
     "text": [
      "Train Epoch:  0 [10000/60000 (17%)]\tLoss: 217891.859375\n"
     ]
    },
    {
     "name": "stderr",
     "output_type": "stream",
     "text": [
      "D:\\Anaconda3\\lib\\site-packages\\pyro\\poutine\\trace_struct.py:286: UserWarning: Encountered NaN: log_prob_sum at site 'layer1.u'\n",
      "  site[\"log_prob_sum\"], \"log_prob_sum at site '{}'\".format(name)\n",
      "D:\\Anaconda3\\lib\\site-packages\\pyro\\poutine\\trace_struct.py:286: UserWarning: Encountered NaN: log_prob_sum at site 'layer1.u'\n",
      "  site[\"log_prob_sum\"], \"log_prob_sum at site '{}'\".format(name)\n",
      "D:\\Anaconda3\\lib\\site-packages\\pyro\\poutine\\trace_struct.py:286: UserWarning: Encountered NaN: log_prob_sum at site 'layer1.u'\n",
      "  site[\"log_prob_sum\"], \"log_prob_sum at site '{}'\".format(name)\n",
      "D:\\Anaconda3\\lib\\site-packages\\pyro\\poutine\\trace_struct.py:286: UserWarning: Encountered NaN: log_prob_sum at site 'layer1.u'\n",
      "  site[\"log_prob_sum\"], \"log_prob_sum at site '{}'\".format(name)\n",
      "D:\\Anaconda3\\lib\\site-packages\\pyro\\poutine\\trace_struct.py:286: UserWarning: Encountered NaN: log_prob_sum at site 'layer1.u'\n",
      "  site[\"log_prob_sum\"], \"log_prob_sum at site '{}'\".format(name)\n",
      "D:\\Anaconda3\\lib\\site-packages\\pyro\\poutine\\trace_struct.py:286: UserWarning: Encountered NaN: log_prob_sum at site 'layer1.u'\n",
      "  site[\"log_prob_sum\"], \"log_prob_sum at site '{}'\".format(name)\n",
      "D:\\Anaconda3\\lib\\site-packages\\pyro\\poutine\\trace_struct.py:286: UserWarning: Encountered NaN: log_prob_sum at site 'layer1.u'\n",
      "  site[\"log_prob_sum\"], \"log_prob_sum at site '{}'\".format(name)\n",
      "D:\\Anaconda3\\lib\\site-packages\\pyro\\poutine\\trace_struct.py:286: UserWarning: Encountered NaN: log_prob_sum at site 'layer1.u'\n",
      "  site[\"log_prob_sum\"], \"log_prob_sum at site '{}'\".format(name)\n",
      "D:\\Anaconda3\\lib\\site-packages\\pyro\\poutine\\trace_struct.py:286: UserWarning: Encountered NaN: log_prob_sum at site 'layer1.u'\n",
      "  site[\"log_prob_sum\"], \"log_prob_sum at site '{}'\".format(name)\n",
      "D:\\Anaconda3\\lib\\site-packages\\pyro\\poutine\\trace_struct.py:286: UserWarning: Encountered NaN: log_prob_sum at site 'layer1.u'\n",
      "  site[\"log_prob_sum\"], \"log_prob_sum at site '{}'\".format(name)\n"
     ]
    },
    {
     "name": "stdout",
     "output_type": "stream",
     "text": [
      "Train Epoch:  0 [20000/60000 (33%)]\tLoss: 210645.312500\n"
     ]
    },
    {
     "name": "stderr",
     "output_type": "stream",
     "text": [
      "D:\\Anaconda3\\lib\\site-packages\\pyro\\poutine\\trace_struct.py:286: UserWarning: Encountered NaN: log_prob_sum at site 'layer1.u'\n",
      "  site[\"log_prob_sum\"], \"log_prob_sum at site '{}'\".format(name)\n",
      "D:\\Anaconda3\\lib\\site-packages\\pyro\\poutine\\trace_struct.py:286: UserWarning: Encountered NaN: log_prob_sum at site 'layer1.u'\n",
      "  site[\"log_prob_sum\"], \"log_prob_sum at site '{}'\".format(name)\n",
      "D:\\Anaconda3\\lib\\site-packages\\pyro\\poutine\\trace_struct.py:286: UserWarning: Encountered NaN: log_prob_sum at site 'layer1.u'\n",
      "  site[\"log_prob_sum\"], \"log_prob_sum at site '{}'\".format(name)\n",
      "D:\\Anaconda3\\lib\\site-packages\\pyro\\poutine\\trace_struct.py:286: UserWarning: Encountered NaN: log_prob_sum at site 'layer1.u'\n",
      "  site[\"log_prob_sum\"], \"log_prob_sum at site '{}'\".format(name)\n",
      "D:\\Anaconda3\\lib\\site-packages\\pyro\\poutine\\trace_struct.py:286: UserWarning: Encountered NaN: log_prob_sum at site 'layer1.u'\n",
      "  site[\"log_prob_sum\"], \"log_prob_sum at site '{}'\".format(name)\n",
      "D:\\Anaconda3\\lib\\site-packages\\pyro\\poutine\\trace_struct.py:286: UserWarning: Encountered NaN: log_prob_sum at site 'layer1.u'\n",
      "  site[\"log_prob_sum\"], \"log_prob_sum at site '{}'\".format(name)\n",
      "D:\\Anaconda3\\lib\\site-packages\\pyro\\poutine\\trace_struct.py:286: UserWarning: Encountered NaN: log_prob_sum at site 'layer1.u'\n",
      "  site[\"log_prob_sum\"], \"log_prob_sum at site '{}'\".format(name)\n",
      "D:\\Anaconda3\\lib\\site-packages\\pyro\\poutine\\trace_struct.py:286: UserWarning: Encountered NaN: log_prob_sum at site 'layer1.u'\n",
      "  site[\"log_prob_sum\"], \"log_prob_sum at site '{}'\".format(name)\n",
      "D:\\Anaconda3\\lib\\site-packages\\pyro\\poutine\\trace_struct.py:286: UserWarning: Encountered NaN: log_prob_sum at site 'layer1.u'\n",
      "  site[\"log_prob_sum\"], \"log_prob_sum at site '{}'\".format(name)\n",
      "D:\\Anaconda3\\lib\\site-packages\\pyro\\poutine\\trace_struct.py:286: UserWarning: Encountered NaN: log_prob_sum at site 'layer1.u'\n",
      "  site[\"log_prob_sum\"], \"log_prob_sum at site '{}'\".format(name)\n"
     ]
    },
    {
     "name": "stdout",
     "output_type": "stream",
     "text": [
      "Train Epoch:  0 [30000/60000 (50%)]\tLoss: 204135.906250\n"
     ]
    },
    {
     "name": "stderr",
     "output_type": "stream",
     "text": [
      "D:\\Anaconda3\\lib\\site-packages\\pyro\\poutine\\trace_struct.py:286: UserWarning: Encountered NaN: log_prob_sum at site 'layer1.u'\n",
      "  site[\"log_prob_sum\"], \"log_prob_sum at site '{}'\".format(name)\n",
      "D:\\Anaconda3\\lib\\site-packages\\pyro\\poutine\\trace_struct.py:286: UserWarning: Encountered NaN: log_prob_sum at site 'layer1.u'\n",
      "  site[\"log_prob_sum\"], \"log_prob_sum at site '{}'\".format(name)\n",
      "D:\\Anaconda3\\lib\\site-packages\\pyro\\poutine\\trace_struct.py:286: UserWarning: Encountered NaN: log_prob_sum at site 'layer1.u'\n",
      "  site[\"log_prob_sum\"], \"log_prob_sum at site '{}'\".format(name)\n",
      "D:\\Anaconda3\\lib\\site-packages\\pyro\\poutine\\trace_struct.py:286: UserWarning: Encountered NaN: log_prob_sum at site 'layer1.u'\n",
      "  site[\"log_prob_sum\"], \"log_prob_sum at site '{}'\".format(name)\n",
      "D:\\Anaconda3\\lib\\site-packages\\pyro\\poutine\\trace_struct.py:286: UserWarning: Encountered NaN: log_prob_sum at site 'layer1.u'\n",
      "  site[\"log_prob_sum\"], \"log_prob_sum at site '{}'\".format(name)\n",
      "D:\\Anaconda3\\lib\\site-packages\\pyro\\poutine\\trace_struct.py:286: UserWarning: Encountered NaN: log_prob_sum at site 'layer1.u'\n",
      "  site[\"log_prob_sum\"], \"log_prob_sum at site '{}'\".format(name)\n",
      "D:\\Anaconda3\\lib\\site-packages\\pyro\\poutine\\trace_struct.py:286: UserWarning: Encountered NaN: log_prob_sum at site 'layer1.u'\n",
      "  site[\"log_prob_sum\"], \"log_prob_sum at site '{}'\".format(name)\n",
      "D:\\Anaconda3\\lib\\site-packages\\pyro\\poutine\\trace_struct.py:286: UserWarning: Encountered NaN: log_prob_sum at site 'layer1.u'\n",
      "  site[\"log_prob_sum\"], \"log_prob_sum at site '{}'\".format(name)\n",
      "D:\\Anaconda3\\lib\\site-packages\\pyro\\poutine\\trace_struct.py:286: UserWarning: Encountered NaN: log_prob_sum at site 'layer1.u'\n",
      "  site[\"log_prob_sum\"], \"log_prob_sum at site '{}'\".format(name)\n",
      "D:\\Anaconda3\\lib\\site-packages\\pyro\\poutine\\trace_struct.py:286: UserWarning: Encountered NaN: log_prob_sum at site 'layer1.u'\n",
      "  site[\"log_prob_sum\"], \"log_prob_sum at site '{}'\".format(name)\n"
     ]
    },
    {
     "name": "stdout",
     "output_type": "stream",
     "text": [
      "Train Epoch:  0 [40000/60000 (67%)]\tLoss: 202971.250000\n"
     ]
    },
    {
     "name": "stderr",
     "output_type": "stream",
     "text": [
      "D:\\Anaconda3\\lib\\site-packages\\pyro\\poutine\\trace_struct.py:286: UserWarning: Encountered NaN: log_prob_sum at site 'layer1.u'\n",
      "  site[\"log_prob_sum\"], \"log_prob_sum at site '{}'\".format(name)\n",
      "D:\\Anaconda3\\lib\\site-packages\\pyro\\poutine\\trace_struct.py:286: UserWarning: Encountered NaN: log_prob_sum at site 'layer1.u'\n",
      "  site[\"log_prob_sum\"], \"log_prob_sum at site '{}'\".format(name)\n",
      "D:\\Anaconda3\\lib\\site-packages\\pyro\\poutine\\trace_struct.py:286: UserWarning: Encountered NaN: log_prob_sum at site 'layer1.u'\n",
      "  site[\"log_prob_sum\"], \"log_prob_sum at site '{}'\".format(name)\n",
      "D:\\Anaconda3\\lib\\site-packages\\pyro\\poutine\\trace_struct.py:286: UserWarning: Encountered NaN: log_prob_sum at site 'layer1.u'\n",
      "  site[\"log_prob_sum\"], \"log_prob_sum at site '{}'\".format(name)\n",
      "D:\\Anaconda3\\lib\\site-packages\\pyro\\poutine\\trace_struct.py:286: UserWarning: Encountered NaN: log_prob_sum at site 'layer1.u'\n",
      "  site[\"log_prob_sum\"], \"log_prob_sum at site '{}'\".format(name)\n",
      "D:\\Anaconda3\\lib\\site-packages\\pyro\\poutine\\trace_struct.py:286: UserWarning: Encountered NaN: log_prob_sum at site 'layer1.u'\n",
      "  site[\"log_prob_sum\"], \"log_prob_sum at site '{}'\".format(name)\n",
      "D:\\Anaconda3\\lib\\site-packages\\pyro\\poutine\\trace_struct.py:286: UserWarning: Encountered NaN: log_prob_sum at site 'layer1.u'\n",
      "  site[\"log_prob_sum\"], \"log_prob_sum at site '{}'\".format(name)\n",
      "D:\\Anaconda3\\lib\\site-packages\\pyro\\poutine\\trace_struct.py:286: UserWarning: Encountered NaN: log_prob_sum at site 'layer1.u'\n",
      "  site[\"log_prob_sum\"], \"log_prob_sum at site '{}'\".format(name)\n",
      "D:\\Anaconda3\\lib\\site-packages\\pyro\\poutine\\trace_struct.py:286: UserWarning: Encountered NaN: log_prob_sum at site 'layer1.u'\n",
      "  site[\"log_prob_sum\"], \"log_prob_sum at site '{}'\".format(name)\n",
      "D:\\Anaconda3\\lib\\site-packages\\pyro\\poutine\\trace_struct.py:286: UserWarning: Encountered NaN: log_prob_sum at site 'layer1.u'\n",
      "  site[\"log_prob_sum\"], \"log_prob_sum at site '{}'\".format(name)\n"
     ]
    },
    {
     "name": "stdout",
     "output_type": "stream",
     "text": [
      "Train Epoch:  0 [50000/60000 (83%)]\tLoss: 188790.203125\n"
     ]
    },
    {
     "name": "stderr",
     "output_type": "stream",
     "text": [
      "D:\\Anaconda3\\lib\\site-packages\\pyro\\poutine\\trace_struct.py:286: UserWarning: Encountered NaN: log_prob_sum at site 'layer1.u'\n",
      "  site[\"log_prob_sum\"], \"log_prob_sum at site '{}'\".format(name)\n",
      "D:\\Anaconda3\\lib\\site-packages\\pyro\\poutine\\trace_struct.py:286: UserWarning: Encountered NaN: log_prob_sum at site 'layer1.u'\n",
      "  site[\"log_prob_sum\"], \"log_prob_sum at site '{}'\".format(name)\n",
      "D:\\Anaconda3\\lib\\site-packages\\pyro\\poutine\\trace_struct.py:286: UserWarning: Encountered NaN: log_prob_sum at site 'layer1.u'\n",
      "  site[\"log_prob_sum\"], \"log_prob_sum at site '{}'\".format(name)\n",
      "D:\\Anaconda3\\lib\\site-packages\\pyro\\poutine\\trace_struct.py:286: UserWarning: Encountered NaN: log_prob_sum at site 'layer1.u'\n",
      "  site[\"log_prob_sum\"], \"log_prob_sum at site '{}'\".format(name)\n",
      "D:\\Anaconda3\\lib\\site-packages\\pyro\\poutine\\trace_struct.py:286: UserWarning: Encountered NaN: log_prob_sum at site 'layer1.u'\n",
      "  site[\"log_prob_sum\"], \"log_prob_sum at site '{}'\".format(name)\n",
      "D:\\Anaconda3\\lib\\site-packages\\pyro\\poutine\\trace_struct.py:286: UserWarning: Encountered NaN: log_prob_sum at site 'layer1.u'\n",
      "  site[\"log_prob_sum\"], \"log_prob_sum at site '{}'\".format(name)\n",
      "D:\\Anaconda3\\lib\\site-packages\\pyro\\poutine\\trace_struct.py:286: UserWarning: Encountered NaN: log_prob_sum at site 'layer1.u'\n",
      "  site[\"log_prob_sum\"], \"log_prob_sum at site '{}'\".format(name)\n",
      "D:\\Anaconda3\\lib\\site-packages\\pyro\\poutine\\trace_struct.py:286: UserWarning: Encountered NaN: log_prob_sum at site 'layer1.u'\n",
      "  site[\"log_prob_sum\"], \"log_prob_sum at site '{}'\".format(name)\n",
      "D:\\Anaconda3\\lib\\site-packages\\pyro\\poutine\\trace_struct.py:286: UserWarning: Encountered NaN: log_prob_sum at site 'layer1.u'\n",
      "  site[\"log_prob_sum\"], \"log_prob_sum at site '{}'\".format(name)\n",
      "D:\\Anaconda3\\lib\\site-packages\\pyro\\poutine\\trace_struct.py:286: UserWarning: Encountered NaN: log_prob_sum at site 'layer1.u'\n",
      "  site[\"log_prob_sum\"], \"log_prob_sum at site '{}'\".format(name)\n"
     ]
    },
    {
     "name": "stdout",
     "output_type": "stream",
     "text": [
      "Train Epoch:  0 [60000/60000 (100%)]\tLoss: 167092.281250\n",
      "\n",
      "Test set: Accuracy: 7613/10000 (76.13%)\n",
      "\n"
     ]
    },
    {
     "name": "stderr",
     "output_type": "stream",
     "text": [
      "D:\\Anaconda3\\lib\\site-packages\\pyro\\poutine\\trace_struct.py:286: UserWarning: Encountered NaN: log_prob_sum at site 'layer1.u'\n",
      "  site[\"log_prob_sum\"], \"log_prob_sum at site '{}'\".format(name)\n",
      "D:\\Anaconda3\\lib\\site-packages\\pyro\\poutine\\trace_struct.py:286: UserWarning: Encountered NaN: log_prob_sum at site 'layer1.u'\n",
      "  site[\"log_prob_sum\"], \"log_prob_sum at site '{}'\".format(name)\n",
      "D:\\Anaconda3\\lib\\site-packages\\pyro\\poutine\\trace_struct.py:286: UserWarning: Encountered NaN: log_prob_sum at site 'layer1.u'\n",
      "  site[\"log_prob_sum\"], \"log_prob_sum at site '{}'\".format(name)\n",
      "D:\\Anaconda3\\lib\\site-packages\\pyro\\poutine\\trace_struct.py:286: UserWarning: Encountered NaN: log_prob_sum at site 'layer1.u'\n",
      "  site[\"log_prob_sum\"], \"log_prob_sum at site '{}'\".format(name)\n",
      "D:\\Anaconda3\\lib\\site-packages\\pyro\\poutine\\trace_struct.py:286: UserWarning: Encountered NaN: log_prob_sum at site 'layer1.u'\n",
      "  site[\"log_prob_sum\"], \"log_prob_sum at site '{}'\".format(name)\n",
      "D:\\Anaconda3\\lib\\site-packages\\pyro\\poutine\\trace_struct.py:286: UserWarning: Encountered NaN: log_prob_sum at site 'layer1.u'\n",
      "  site[\"log_prob_sum\"], \"log_prob_sum at site '{}'\".format(name)\n",
      "D:\\Anaconda3\\lib\\site-packages\\pyro\\poutine\\trace_struct.py:286: UserWarning: Encountered NaN: log_prob_sum at site 'layer1.u'\n",
      "  site[\"log_prob_sum\"], \"log_prob_sum at site '{}'\".format(name)\n",
      "D:\\Anaconda3\\lib\\site-packages\\pyro\\poutine\\trace_struct.py:286: UserWarning: Encountered NaN: log_prob_sum at site 'layer1.u'\n",
      "  site[\"log_prob_sum\"], \"log_prob_sum at site '{}'\".format(name)\n",
      "D:\\Anaconda3\\lib\\site-packages\\pyro\\poutine\\trace_struct.py:286: UserWarning: Encountered NaN: log_prob_sum at site 'layer1.u'\n",
      "  site[\"log_prob_sum\"], \"log_prob_sum at site '{}'\".format(name)\n",
      "D:\\Anaconda3\\lib\\site-packages\\pyro\\poutine\\trace_struct.py:286: UserWarning: Encountered NaN: log_prob_sum at site 'layer1.u'\n",
      "  site[\"log_prob_sum\"], \"log_prob_sum at site '{}'\".format(name)\n"
     ]
    },
    {
     "name": "stdout",
     "output_type": "stream",
     "text": [
      "Train Epoch:  1 [10000/60000 (17%)]\tLoss: 125518.398438\n"
     ]
    },
    {
     "name": "stderr",
     "output_type": "stream",
     "text": [
      "D:\\Anaconda3\\lib\\site-packages\\pyro\\poutine\\trace_struct.py:286: UserWarning: Encountered NaN: log_prob_sum at site 'layer1.u'\n",
      "  site[\"log_prob_sum\"], \"log_prob_sum at site '{}'\".format(name)\n",
      "D:\\Anaconda3\\lib\\site-packages\\pyro\\poutine\\trace_struct.py:286: UserWarning: Encountered NaN: log_prob_sum at site 'layer1.u'\n",
      "  site[\"log_prob_sum\"], \"log_prob_sum at site '{}'\".format(name)\n",
      "D:\\Anaconda3\\lib\\site-packages\\pyro\\poutine\\trace_struct.py:286: UserWarning: Encountered NaN: log_prob_sum at site 'layer1.u'\n",
      "  site[\"log_prob_sum\"], \"log_prob_sum at site '{}'\".format(name)\n",
      "D:\\Anaconda3\\lib\\site-packages\\pyro\\poutine\\trace_struct.py:286: UserWarning: Encountered NaN: log_prob_sum at site 'layer1.u'\n",
      "  site[\"log_prob_sum\"], \"log_prob_sum at site '{}'\".format(name)\n",
      "D:\\Anaconda3\\lib\\site-packages\\pyro\\poutine\\trace_struct.py:286: UserWarning: Encountered NaN: log_prob_sum at site 'layer1.u'\n",
      "  site[\"log_prob_sum\"], \"log_prob_sum at site '{}'\".format(name)\n",
      "D:\\Anaconda3\\lib\\site-packages\\pyro\\poutine\\trace_struct.py:286: UserWarning: Encountered NaN: log_prob_sum at site 'layer1.u'\n",
      "  site[\"log_prob_sum\"], \"log_prob_sum at site '{}'\".format(name)\n",
      "D:\\Anaconda3\\lib\\site-packages\\pyro\\poutine\\trace_struct.py:286: UserWarning: Encountered NaN: log_prob_sum at site 'layer1.u'\n",
      "  site[\"log_prob_sum\"], \"log_prob_sum at site '{}'\".format(name)\n",
      "D:\\Anaconda3\\lib\\site-packages\\pyro\\poutine\\trace_struct.py:286: UserWarning: Encountered NaN: log_prob_sum at site 'layer1.u'\n",
      "  site[\"log_prob_sum\"], \"log_prob_sum at site '{}'\".format(name)\n",
      "D:\\Anaconda3\\lib\\site-packages\\pyro\\poutine\\trace_struct.py:286: UserWarning: Encountered NaN: log_prob_sum at site 'layer1.u'\n",
      "  site[\"log_prob_sum\"], \"log_prob_sum at site '{}'\".format(name)\n",
      "D:\\Anaconda3\\lib\\site-packages\\pyro\\poutine\\trace_struct.py:286: UserWarning: Encountered NaN: log_prob_sum at site 'layer1.u'\n",
      "  site[\"log_prob_sum\"], \"log_prob_sum at site '{}'\".format(name)\n"
     ]
    },
    {
     "name": "stdout",
     "output_type": "stream",
     "text": [
      "Train Epoch:  1 [20000/60000 (33%)]\tLoss: 88279.703125\n"
     ]
    },
    {
     "name": "stderr",
     "output_type": "stream",
     "text": [
      "D:\\Anaconda3\\lib\\site-packages\\pyro\\poutine\\trace_struct.py:286: UserWarning: Encountered NaN: log_prob_sum at site 'layer1.u'\n",
      "  site[\"log_prob_sum\"], \"log_prob_sum at site '{}'\".format(name)\n",
      "D:\\Anaconda3\\lib\\site-packages\\pyro\\poutine\\trace_struct.py:286: UserWarning: Encountered NaN: log_prob_sum at site 'layer1.u'\n",
      "  site[\"log_prob_sum\"], \"log_prob_sum at site '{}'\".format(name)\n",
      "D:\\Anaconda3\\lib\\site-packages\\pyro\\poutine\\trace_struct.py:286: UserWarning: Encountered NaN: log_prob_sum at site 'layer1.u'\n",
      "  site[\"log_prob_sum\"], \"log_prob_sum at site '{}'\".format(name)\n",
      "D:\\Anaconda3\\lib\\site-packages\\pyro\\poutine\\trace_struct.py:286: UserWarning: Encountered NaN: log_prob_sum at site 'layer1.u'\n",
      "  site[\"log_prob_sum\"], \"log_prob_sum at site '{}'\".format(name)\n",
      "D:\\Anaconda3\\lib\\site-packages\\pyro\\poutine\\trace_struct.py:286: UserWarning: Encountered NaN: log_prob_sum at site 'layer1.u'\n",
      "  site[\"log_prob_sum\"], \"log_prob_sum at site '{}'\".format(name)\n",
      "D:\\Anaconda3\\lib\\site-packages\\pyro\\poutine\\trace_struct.py:286: UserWarning: Encountered NaN: log_prob_sum at site 'layer1.u'\n",
      "  site[\"log_prob_sum\"], \"log_prob_sum at site '{}'\".format(name)\n",
      "D:\\Anaconda3\\lib\\site-packages\\pyro\\poutine\\trace_struct.py:286: UserWarning: Encountered NaN: log_prob_sum at site 'layer1.u'\n",
      "  site[\"log_prob_sum\"], \"log_prob_sum at site '{}'\".format(name)\n",
      "D:\\Anaconda3\\lib\\site-packages\\pyro\\poutine\\trace_struct.py:286: UserWarning: Encountered NaN: log_prob_sum at site 'layer1.u'\n",
      "  site[\"log_prob_sum\"], \"log_prob_sum at site '{}'\".format(name)\n",
      "D:\\Anaconda3\\lib\\site-packages\\pyro\\poutine\\trace_struct.py:286: UserWarning: Encountered NaN: log_prob_sum at site 'layer1.u'\n",
      "  site[\"log_prob_sum\"], \"log_prob_sum at site '{}'\".format(name)\n",
      "D:\\Anaconda3\\lib\\site-packages\\pyro\\poutine\\trace_struct.py:286: UserWarning: Encountered NaN: log_prob_sum at site 'layer1.u'\n",
      "  site[\"log_prob_sum\"], \"log_prob_sum at site '{}'\".format(name)\n"
     ]
    },
    {
     "name": "stdout",
     "output_type": "stream",
     "text": [
      "Train Epoch:  1 [30000/60000 (50%)]\tLoss: 68244.421875\n"
     ]
    },
    {
     "name": "stderr",
     "output_type": "stream",
     "text": [
      "D:\\Anaconda3\\lib\\site-packages\\pyro\\poutine\\trace_struct.py:286: UserWarning: Encountered NaN: log_prob_sum at site 'layer1.u'\n",
      "  site[\"log_prob_sum\"], \"log_prob_sum at site '{}'\".format(name)\n",
      "D:\\Anaconda3\\lib\\site-packages\\pyro\\poutine\\trace_struct.py:286: UserWarning: Encountered NaN: log_prob_sum at site 'layer1.u'\n",
      "  site[\"log_prob_sum\"], \"log_prob_sum at site '{}'\".format(name)\n",
      "D:\\Anaconda3\\lib\\site-packages\\pyro\\poutine\\trace_struct.py:286: UserWarning: Encountered NaN: log_prob_sum at site 'layer1.u'\n",
      "  site[\"log_prob_sum\"], \"log_prob_sum at site '{}'\".format(name)\n",
      "D:\\Anaconda3\\lib\\site-packages\\pyro\\poutine\\trace_struct.py:286: UserWarning: Encountered NaN: log_prob_sum at site 'layer1.u'\n",
      "  site[\"log_prob_sum\"], \"log_prob_sum at site '{}'\".format(name)\n",
      "D:\\Anaconda3\\lib\\site-packages\\pyro\\poutine\\trace_struct.py:286: UserWarning: Encountered NaN: log_prob_sum at site 'layer1.u'\n",
      "  site[\"log_prob_sum\"], \"log_prob_sum at site '{}'\".format(name)\n",
      "D:\\Anaconda3\\lib\\site-packages\\pyro\\poutine\\trace_struct.py:286: UserWarning: Encountered NaN: log_prob_sum at site 'layer1.u'\n",
      "  site[\"log_prob_sum\"], \"log_prob_sum at site '{}'\".format(name)\n",
      "D:\\Anaconda3\\lib\\site-packages\\pyro\\poutine\\trace_struct.py:286: UserWarning: Encountered NaN: log_prob_sum at site 'layer1.u'\n",
      "  site[\"log_prob_sum\"], \"log_prob_sum at site '{}'\".format(name)\n",
      "D:\\Anaconda3\\lib\\site-packages\\pyro\\poutine\\trace_struct.py:286: UserWarning: Encountered NaN: log_prob_sum at site 'layer1.u'\n",
      "  site[\"log_prob_sum\"], \"log_prob_sum at site '{}'\".format(name)\n",
      "D:\\Anaconda3\\lib\\site-packages\\pyro\\poutine\\trace_struct.py:286: UserWarning: Encountered NaN: log_prob_sum at site 'layer1.u'\n",
      "  site[\"log_prob_sum\"], \"log_prob_sum at site '{}'\".format(name)\n",
      "D:\\Anaconda3\\lib\\site-packages\\pyro\\poutine\\trace_struct.py:286: UserWarning: Encountered NaN: log_prob_sum at site 'layer1.u'\n",
      "  site[\"log_prob_sum\"], \"log_prob_sum at site '{}'\".format(name)\n"
     ]
    },
    {
     "name": "stdout",
     "output_type": "stream",
     "text": [
      "Train Epoch:  1 [40000/60000 (67%)]\tLoss: 58997.117188\n"
     ]
    },
    {
     "name": "stderr",
     "output_type": "stream",
     "text": [
      "D:\\Anaconda3\\lib\\site-packages\\pyro\\poutine\\trace_struct.py:286: UserWarning: Encountered NaN: log_prob_sum at site 'layer1.u'\n",
      "  site[\"log_prob_sum\"], \"log_prob_sum at site '{}'\".format(name)\n",
      "D:\\Anaconda3\\lib\\site-packages\\pyro\\poutine\\trace_struct.py:286: UserWarning: Encountered NaN: log_prob_sum at site 'layer1.u'\n",
      "  site[\"log_prob_sum\"], \"log_prob_sum at site '{}'\".format(name)\n",
      "D:\\Anaconda3\\lib\\site-packages\\pyro\\poutine\\trace_struct.py:286: UserWarning: Encountered NaN: log_prob_sum at site 'layer1.u'\n",
      "  site[\"log_prob_sum\"], \"log_prob_sum at site '{}'\".format(name)\n",
      "D:\\Anaconda3\\lib\\site-packages\\pyro\\poutine\\trace_struct.py:286: UserWarning: Encountered NaN: log_prob_sum at site 'layer1.u'\n",
      "  site[\"log_prob_sum\"], \"log_prob_sum at site '{}'\".format(name)\n",
      "D:\\Anaconda3\\lib\\site-packages\\pyro\\poutine\\trace_struct.py:286: UserWarning: Encountered NaN: log_prob_sum at site 'layer1.u'\n",
      "  site[\"log_prob_sum\"], \"log_prob_sum at site '{}'\".format(name)\n",
      "D:\\Anaconda3\\lib\\site-packages\\pyro\\poutine\\trace_struct.py:286: UserWarning: Encountered NaN: log_prob_sum at site 'layer1.u'\n",
      "  site[\"log_prob_sum\"], \"log_prob_sum at site '{}'\".format(name)\n",
      "D:\\Anaconda3\\lib\\site-packages\\pyro\\poutine\\trace_struct.py:286: UserWarning: Encountered NaN: log_prob_sum at site 'layer1.u'\n",
      "  site[\"log_prob_sum\"], \"log_prob_sum at site '{}'\".format(name)\n",
      "D:\\Anaconda3\\lib\\site-packages\\pyro\\poutine\\trace_struct.py:286: UserWarning: Encountered NaN: log_prob_sum at site 'layer1.u'\n",
      "  site[\"log_prob_sum\"], \"log_prob_sum at site '{}'\".format(name)\n",
      "D:\\Anaconda3\\lib\\site-packages\\pyro\\poutine\\trace_struct.py:286: UserWarning: Encountered NaN: log_prob_sum at site 'layer1.u'\n",
      "  site[\"log_prob_sum\"], \"log_prob_sum at site '{}'\".format(name)\n",
      "D:\\Anaconda3\\lib\\site-packages\\pyro\\poutine\\trace_struct.py:286: UserWarning: Encountered NaN: log_prob_sum at site 'layer1.u'\n",
      "  site[\"log_prob_sum\"], \"log_prob_sum at site '{}'\".format(name)\n"
     ]
    },
    {
     "name": "stdout",
     "output_type": "stream",
     "text": [
      "Train Epoch:  1 [50000/60000 (83%)]\tLoss: 57834.773438\n"
     ]
    },
    {
     "name": "stderr",
     "output_type": "stream",
     "text": [
      "D:\\Anaconda3\\lib\\site-packages\\pyro\\poutine\\trace_struct.py:286: UserWarning: Encountered NaN: log_prob_sum at site 'layer1.u'\n",
      "  site[\"log_prob_sum\"], \"log_prob_sum at site '{}'\".format(name)\n",
      "D:\\Anaconda3\\lib\\site-packages\\pyro\\poutine\\trace_struct.py:286: UserWarning: Encountered NaN: log_prob_sum at site 'layer1.u'\n",
      "  site[\"log_prob_sum\"], \"log_prob_sum at site '{}'\".format(name)\n",
      "D:\\Anaconda3\\lib\\site-packages\\pyro\\poutine\\trace_struct.py:286: UserWarning: Encountered NaN: log_prob_sum at site 'layer1.u'\n",
      "  site[\"log_prob_sum\"], \"log_prob_sum at site '{}'\".format(name)\n",
      "D:\\Anaconda3\\lib\\site-packages\\pyro\\poutine\\trace_struct.py:286: UserWarning: Encountered NaN: log_prob_sum at site 'layer1.u'\n",
      "  site[\"log_prob_sum\"], \"log_prob_sum at site '{}'\".format(name)\n",
      "D:\\Anaconda3\\lib\\site-packages\\pyro\\poutine\\trace_struct.py:286: UserWarning: Encountered NaN: log_prob_sum at site 'layer1.u'\n",
      "  site[\"log_prob_sum\"], \"log_prob_sum at site '{}'\".format(name)\n",
      "D:\\Anaconda3\\lib\\site-packages\\pyro\\poutine\\trace_struct.py:286: UserWarning: Encountered NaN: log_prob_sum at site 'layer1.u'\n",
      "  site[\"log_prob_sum\"], \"log_prob_sum at site '{}'\".format(name)\n",
      "D:\\Anaconda3\\lib\\site-packages\\pyro\\poutine\\trace_struct.py:286: UserWarning: Encountered NaN: log_prob_sum at site 'layer1.u'\n",
      "  site[\"log_prob_sum\"], \"log_prob_sum at site '{}'\".format(name)\n",
      "D:\\Anaconda3\\lib\\site-packages\\pyro\\poutine\\trace_struct.py:286: UserWarning: Encountered NaN: log_prob_sum at site 'layer1.u'\n",
      "  site[\"log_prob_sum\"], \"log_prob_sum at site '{}'\".format(name)\n",
      "D:\\Anaconda3\\lib\\site-packages\\pyro\\poutine\\trace_struct.py:286: UserWarning: Encountered NaN: log_prob_sum at site 'layer1.u'\n",
      "  site[\"log_prob_sum\"], \"log_prob_sum at site '{}'\".format(name)\n",
      "D:\\Anaconda3\\lib\\site-packages\\pyro\\poutine\\trace_struct.py:286: UserWarning: Encountered NaN: log_prob_sum at site 'layer1.u'\n",
      "  site[\"log_prob_sum\"], \"log_prob_sum at site '{}'\".format(name)\n"
     ]
    },
    {
     "name": "stdout",
     "output_type": "stream",
     "text": [
      "Train Epoch:  1 [60000/60000 (100%)]\tLoss: 53938.527344\n",
      "\n",
      "Test set: Accuracy: 9225/10000 (92.25%)\n",
      "\n"
     ]
    },
    {
     "name": "stderr",
     "output_type": "stream",
     "text": [
      "D:\\Anaconda3\\lib\\site-packages\\pyro\\poutine\\trace_struct.py:286: UserWarning: Encountered NaN: log_prob_sum at site 'layer1.u'\n",
      "  site[\"log_prob_sum\"], \"log_prob_sum at site '{}'\".format(name)\n",
      "D:\\Anaconda3\\lib\\site-packages\\pyro\\poutine\\trace_struct.py:286: UserWarning: Encountered NaN: log_prob_sum at site 'layer1.u'\n",
      "  site[\"log_prob_sum\"], \"log_prob_sum at site '{}'\".format(name)\n",
      "D:\\Anaconda3\\lib\\site-packages\\pyro\\poutine\\trace_struct.py:286: UserWarning: Encountered NaN: log_prob_sum at site 'layer1.u'\n",
      "  site[\"log_prob_sum\"], \"log_prob_sum at site '{}'\".format(name)\n",
      "D:\\Anaconda3\\lib\\site-packages\\pyro\\poutine\\trace_struct.py:286: UserWarning: Encountered NaN: log_prob_sum at site 'layer1.u'\n",
      "  site[\"log_prob_sum\"], \"log_prob_sum at site '{}'\".format(name)\n",
      "D:\\Anaconda3\\lib\\site-packages\\pyro\\poutine\\trace_struct.py:286: UserWarning: Encountered NaN: log_prob_sum at site 'layer1.u'\n",
      "  site[\"log_prob_sum\"], \"log_prob_sum at site '{}'\".format(name)\n",
      "D:\\Anaconda3\\lib\\site-packages\\pyro\\poutine\\trace_struct.py:286: UserWarning: Encountered NaN: log_prob_sum at site 'layer1.u'\n",
      "  site[\"log_prob_sum\"], \"log_prob_sum at site '{}'\".format(name)\n",
      "D:\\Anaconda3\\lib\\site-packages\\pyro\\poutine\\trace_struct.py:286: UserWarning: Encountered NaN: log_prob_sum at site 'layer1.u'\n",
      "  site[\"log_prob_sum\"], \"log_prob_sum at site '{}'\".format(name)\n",
      "D:\\Anaconda3\\lib\\site-packages\\pyro\\poutine\\trace_struct.py:286: UserWarning: Encountered NaN: log_prob_sum at site 'layer1.u'\n",
      "  site[\"log_prob_sum\"], \"log_prob_sum at site '{}'\".format(name)\n",
      "D:\\Anaconda3\\lib\\site-packages\\pyro\\poutine\\trace_struct.py:286: UserWarning: Encountered NaN: log_prob_sum at site 'layer1.u'\n",
      "  site[\"log_prob_sum\"], \"log_prob_sum at site '{}'\".format(name)\n",
      "D:\\Anaconda3\\lib\\site-packages\\pyro\\poutine\\trace_struct.py:286: UserWarning: Encountered NaN: log_prob_sum at site 'layer1.u'\n",
      "  site[\"log_prob_sum\"], \"log_prob_sum at site '{}'\".format(name)\n"
     ]
    },
    {
     "name": "stdout",
     "output_type": "stream",
     "text": [
      "Train Epoch:  2 [10000/60000 (17%)]\tLoss: 55149.191406\n"
     ]
    },
    {
     "name": "stderr",
     "output_type": "stream",
     "text": [
      "D:\\Anaconda3\\lib\\site-packages\\pyro\\poutine\\trace_struct.py:286: UserWarning: Encountered NaN: log_prob_sum at site 'layer1.u'\n",
      "  site[\"log_prob_sum\"], \"log_prob_sum at site '{}'\".format(name)\n",
      "D:\\Anaconda3\\lib\\site-packages\\pyro\\poutine\\trace_struct.py:286: UserWarning: Encountered NaN: log_prob_sum at site 'layer1.u'\n",
      "  site[\"log_prob_sum\"], \"log_prob_sum at site '{}'\".format(name)\n",
      "D:\\Anaconda3\\lib\\site-packages\\pyro\\poutine\\trace_struct.py:286: UserWarning: Encountered NaN: log_prob_sum at site 'layer1.u'\n",
      "  site[\"log_prob_sum\"], \"log_prob_sum at site '{}'\".format(name)\n",
      "D:\\Anaconda3\\lib\\site-packages\\pyro\\poutine\\trace_struct.py:286: UserWarning: Encountered NaN: log_prob_sum at site 'layer1.u'\n",
      "  site[\"log_prob_sum\"], \"log_prob_sum at site '{}'\".format(name)\n",
      "D:\\Anaconda3\\lib\\site-packages\\pyro\\poutine\\trace_struct.py:286: UserWarning: Encountered NaN: log_prob_sum at site 'layer1.u'\n",
      "  site[\"log_prob_sum\"], \"log_prob_sum at site '{}'\".format(name)\n",
      "D:\\Anaconda3\\lib\\site-packages\\pyro\\poutine\\trace_struct.py:286: UserWarning: Encountered NaN: log_prob_sum at site 'layer1.u'\n",
      "  site[\"log_prob_sum\"], \"log_prob_sum at site '{}'\".format(name)\n",
      "D:\\Anaconda3\\lib\\site-packages\\pyro\\poutine\\trace_struct.py:286: UserWarning: Encountered NaN: log_prob_sum at site 'layer1.u'\n",
      "  site[\"log_prob_sum\"], \"log_prob_sum at site '{}'\".format(name)\n",
      "D:\\Anaconda3\\lib\\site-packages\\pyro\\poutine\\trace_struct.py:286: UserWarning: Encountered NaN: log_prob_sum at site 'layer1.u'\n",
      "  site[\"log_prob_sum\"], \"log_prob_sum at site '{}'\".format(name)\n",
      "D:\\Anaconda3\\lib\\site-packages\\pyro\\poutine\\trace_struct.py:286: UserWarning: Encountered NaN: log_prob_sum at site 'layer1.u'\n",
      "  site[\"log_prob_sum\"], \"log_prob_sum at site '{}'\".format(name)\n",
      "D:\\Anaconda3\\lib\\site-packages\\pyro\\poutine\\trace_struct.py:286: UserWarning: Encountered NaN: log_prob_sum at site 'layer1.u'\n",
      "  site[\"log_prob_sum\"], \"log_prob_sum at site '{}'\".format(name)\n"
     ]
    },
    {
     "name": "stdout",
     "output_type": "stream",
     "text": [
      "Train Epoch:  2 [20000/60000 (33%)]\tLoss: 50854.468750\n"
     ]
    },
    {
     "name": "stderr",
     "output_type": "stream",
     "text": [
      "D:\\Anaconda3\\lib\\site-packages\\pyro\\poutine\\trace_struct.py:286: UserWarning: Encountered NaN: log_prob_sum at site 'layer1.u'\n",
      "  site[\"log_prob_sum\"], \"log_prob_sum at site '{}'\".format(name)\n",
      "D:\\Anaconda3\\lib\\site-packages\\pyro\\poutine\\trace_struct.py:286: UserWarning: Encountered NaN: log_prob_sum at site 'layer1.u'\n",
      "  site[\"log_prob_sum\"], \"log_prob_sum at site '{}'\".format(name)\n",
      "D:\\Anaconda3\\lib\\site-packages\\pyro\\poutine\\trace_struct.py:286: UserWarning: Encountered NaN: log_prob_sum at site 'layer1.u'\n",
      "  site[\"log_prob_sum\"], \"log_prob_sum at site '{}'\".format(name)\n",
      "D:\\Anaconda3\\lib\\site-packages\\pyro\\poutine\\trace_struct.py:286: UserWarning: Encountered NaN: log_prob_sum at site 'layer1.u'\n",
      "  site[\"log_prob_sum\"], \"log_prob_sum at site '{}'\".format(name)\n",
      "D:\\Anaconda3\\lib\\site-packages\\pyro\\poutine\\trace_struct.py:286: UserWarning: Encountered NaN: log_prob_sum at site 'layer1.u'\n",
      "  site[\"log_prob_sum\"], \"log_prob_sum at site '{}'\".format(name)\n",
      "D:\\Anaconda3\\lib\\site-packages\\pyro\\poutine\\trace_struct.py:286: UserWarning: Encountered NaN: log_prob_sum at site 'layer1.u'\n",
      "  site[\"log_prob_sum\"], \"log_prob_sum at site '{}'\".format(name)\n",
      "D:\\Anaconda3\\lib\\site-packages\\pyro\\poutine\\trace_struct.py:286: UserWarning: Encountered NaN: log_prob_sum at site 'layer1.u'\n",
      "  site[\"log_prob_sum\"], \"log_prob_sum at site '{}'\".format(name)\n",
      "D:\\Anaconda3\\lib\\site-packages\\pyro\\poutine\\trace_struct.py:286: UserWarning: Encountered NaN: log_prob_sum at site 'layer1.u'\n",
      "  site[\"log_prob_sum\"], \"log_prob_sum at site '{}'\".format(name)\n",
      "D:\\Anaconda3\\lib\\site-packages\\pyro\\poutine\\trace_struct.py:286: UserWarning: Encountered NaN: log_prob_sum at site 'layer1.u'\n",
      "  site[\"log_prob_sum\"], \"log_prob_sum at site '{}'\".format(name)\n",
      "D:\\Anaconda3\\lib\\site-packages\\pyro\\poutine\\trace_struct.py:286: UserWarning: Encountered NaN: log_prob_sum at site 'layer1.u'\n",
      "  site[\"log_prob_sum\"], \"log_prob_sum at site '{}'\".format(name)\n"
     ]
    },
    {
     "name": "stdout",
     "output_type": "stream",
     "text": [
      "Train Epoch:  2 [30000/60000 (50%)]\tLoss: 49314.695312\n"
     ]
    },
    {
     "name": "stderr",
     "output_type": "stream",
     "text": [
      "D:\\Anaconda3\\lib\\site-packages\\pyro\\poutine\\trace_struct.py:286: UserWarning: Encountered NaN: log_prob_sum at site 'layer1.u'\n",
      "  site[\"log_prob_sum\"], \"log_prob_sum at site '{}'\".format(name)\n",
      "D:\\Anaconda3\\lib\\site-packages\\pyro\\poutine\\trace_struct.py:286: UserWarning: Encountered NaN: log_prob_sum at site 'layer1.u'\n",
      "  site[\"log_prob_sum\"], \"log_prob_sum at site '{}'\".format(name)\n",
      "D:\\Anaconda3\\lib\\site-packages\\pyro\\poutine\\trace_struct.py:286: UserWarning: Encountered NaN: log_prob_sum at site 'layer1.u'\n",
      "  site[\"log_prob_sum\"], \"log_prob_sum at site '{}'\".format(name)\n",
      "D:\\Anaconda3\\lib\\site-packages\\pyro\\poutine\\trace_struct.py:286: UserWarning: Encountered NaN: log_prob_sum at site 'layer1.u'\n",
      "  site[\"log_prob_sum\"], \"log_prob_sum at site '{}'\".format(name)\n",
      "D:\\Anaconda3\\lib\\site-packages\\pyro\\poutine\\trace_struct.py:286: UserWarning: Encountered NaN: log_prob_sum at site 'layer1.u'\n",
      "  site[\"log_prob_sum\"], \"log_prob_sum at site '{}'\".format(name)\n",
      "D:\\Anaconda3\\lib\\site-packages\\pyro\\poutine\\trace_struct.py:286: UserWarning: Encountered NaN: log_prob_sum at site 'layer1.u'\n",
      "  site[\"log_prob_sum\"], \"log_prob_sum at site '{}'\".format(name)\n",
      "D:\\Anaconda3\\lib\\site-packages\\pyro\\poutine\\trace_struct.py:286: UserWarning: Encountered NaN: log_prob_sum at site 'layer1.u'\n",
      "  site[\"log_prob_sum\"], \"log_prob_sum at site '{}'\".format(name)\n",
      "D:\\Anaconda3\\lib\\site-packages\\pyro\\poutine\\trace_struct.py:286: UserWarning: Encountered NaN: log_prob_sum at site 'layer1.u'\n",
      "  site[\"log_prob_sum\"], \"log_prob_sum at site '{}'\".format(name)\n",
      "D:\\Anaconda3\\lib\\site-packages\\pyro\\poutine\\trace_struct.py:286: UserWarning: Encountered NaN: log_prob_sum at site 'layer1.u'\n",
      "  site[\"log_prob_sum\"], \"log_prob_sum at site '{}'\".format(name)\n",
      "D:\\Anaconda3\\lib\\site-packages\\pyro\\poutine\\trace_struct.py:286: UserWarning: Encountered NaN: log_prob_sum at site 'layer1.u'\n",
      "  site[\"log_prob_sum\"], \"log_prob_sum at site '{}'\".format(name)\n"
     ]
    },
    {
     "name": "stdout",
     "output_type": "stream",
     "text": [
      "Train Epoch:  2 [40000/60000 (67%)]\tLoss: 50389.476562\n"
     ]
    },
    {
     "name": "stderr",
     "output_type": "stream",
     "text": [
      "D:\\Anaconda3\\lib\\site-packages\\pyro\\poutine\\trace_struct.py:286: UserWarning: Encountered NaN: log_prob_sum at site 'layer1.u'\n",
      "  site[\"log_prob_sum\"], \"log_prob_sum at site '{}'\".format(name)\n",
      "D:\\Anaconda3\\lib\\site-packages\\pyro\\poutine\\trace_struct.py:286: UserWarning: Encountered NaN: log_prob_sum at site 'layer1.u'\n",
      "  site[\"log_prob_sum\"], \"log_prob_sum at site '{}'\".format(name)\n",
      "D:\\Anaconda3\\lib\\site-packages\\pyro\\poutine\\trace_struct.py:286: UserWarning: Encountered NaN: log_prob_sum at site 'layer1.u'\n",
      "  site[\"log_prob_sum\"], \"log_prob_sum at site '{}'\".format(name)\n",
      "D:\\Anaconda3\\lib\\site-packages\\pyro\\poutine\\trace_struct.py:286: UserWarning: Encountered NaN: log_prob_sum at site 'layer1.u'\n",
      "  site[\"log_prob_sum\"], \"log_prob_sum at site '{}'\".format(name)\n",
      "D:\\Anaconda3\\lib\\site-packages\\pyro\\poutine\\trace_struct.py:286: UserWarning: Encountered NaN: log_prob_sum at site 'layer1.u'\n",
      "  site[\"log_prob_sum\"], \"log_prob_sum at site '{}'\".format(name)\n",
      "D:\\Anaconda3\\lib\\site-packages\\pyro\\poutine\\trace_struct.py:286: UserWarning: Encountered NaN: log_prob_sum at site 'layer1.u'\n",
      "  site[\"log_prob_sum\"], \"log_prob_sum at site '{}'\".format(name)\n",
      "D:\\Anaconda3\\lib\\site-packages\\pyro\\poutine\\trace_struct.py:286: UserWarning: Encountered NaN: log_prob_sum at site 'layer1.u'\n",
      "  site[\"log_prob_sum\"], \"log_prob_sum at site '{}'\".format(name)\n",
      "D:\\Anaconda3\\lib\\site-packages\\pyro\\poutine\\trace_struct.py:286: UserWarning: Encountered NaN: log_prob_sum at site 'layer1.u'\n",
      "  site[\"log_prob_sum\"], \"log_prob_sum at site '{}'\".format(name)\n",
      "D:\\Anaconda3\\lib\\site-packages\\pyro\\poutine\\trace_struct.py:286: UserWarning: Encountered NaN: log_prob_sum at site 'layer1.u'\n",
      "  site[\"log_prob_sum\"], \"log_prob_sum at site '{}'\".format(name)\n",
      "D:\\Anaconda3\\lib\\site-packages\\pyro\\poutine\\trace_struct.py:286: UserWarning: Encountered NaN: log_prob_sum at site 'layer1.u'\n",
      "  site[\"log_prob_sum\"], \"log_prob_sum at site '{}'\".format(name)\n"
     ]
    },
    {
     "name": "stdout",
     "output_type": "stream",
     "text": [
      "Train Epoch:  2 [50000/60000 (83%)]\tLoss: 46815.941406\n"
     ]
    },
    {
     "name": "stderr",
     "output_type": "stream",
     "text": [
      "D:\\Anaconda3\\lib\\site-packages\\pyro\\poutine\\trace_struct.py:286: UserWarning: Encountered NaN: log_prob_sum at site 'layer1.u'\n",
      "  site[\"log_prob_sum\"], \"log_prob_sum at site '{}'\".format(name)\n",
      "D:\\Anaconda3\\lib\\site-packages\\pyro\\poutine\\trace_struct.py:286: UserWarning: Encountered NaN: log_prob_sum at site 'layer1.u'\n",
      "  site[\"log_prob_sum\"], \"log_prob_sum at site '{}'\".format(name)\n",
      "D:\\Anaconda3\\lib\\site-packages\\pyro\\poutine\\trace_struct.py:286: UserWarning: Encountered NaN: log_prob_sum at site 'layer1.u'\n",
      "  site[\"log_prob_sum\"], \"log_prob_sum at site '{}'\".format(name)\n",
      "D:\\Anaconda3\\lib\\site-packages\\pyro\\poutine\\trace_struct.py:286: UserWarning: Encountered NaN: log_prob_sum at site 'layer1.u'\n",
      "  site[\"log_prob_sum\"], \"log_prob_sum at site '{}'\".format(name)\n",
      "D:\\Anaconda3\\lib\\site-packages\\pyro\\poutine\\trace_struct.py:286: UserWarning: Encountered NaN: log_prob_sum at site 'layer1.u'\n",
      "  site[\"log_prob_sum\"], \"log_prob_sum at site '{}'\".format(name)\n",
      "D:\\Anaconda3\\lib\\site-packages\\pyro\\poutine\\trace_struct.py:286: UserWarning: Encountered NaN: log_prob_sum at site 'layer1.u'\n",
      "  site[\"log_prob_sum\"], \"log_prob_sum at site '{}'\".format(name)\n",
      "D:\\Anaconda3\\lib\\site-packages\\pyro\\poutine\\trace_struct.py:286: UserWarning: Encountered NaN: log_prob_sum at site 'layer1.u'\n",
      "  site[\"log_prob_sum\"], \"log_prob_sum at site '{}'\".format(name)\n",
      "D:\\Anaconda3\\lib\\site-packages\\pyro\\poutine\\trace_struct.py:286: UserWarning: Encountered NaN: log_prob_sum at site 'layer1.u'\n",
      "  site[\"log_prob_sum\"], \"log_prob_sum at site '{}'\".format(name)\n",
      "D:\\Anaconda3\\lib\\site-packages\\pyro\\poutine\\trace_struct.py:286: UserWarning: Encountered NaN: log_prob_sum at site 'layer1.u'\n",
      "  site[\"log_prob_sum\"], \"log_prob_sum at site '{}'\".format(name)\n",
      "D:\\Anaconda3\\lib\\site-packages\\pyro\\poutine\\trace_struct.py:286: UserWarning: Encountered NaN: log_prob_sum at site 'layer1.u'\n",
      "  site[\"log_prob_sum\"], \"log_prob_sum at site '{}'\".format(name)\n"
     ]
    },
    {
     "name": "stdout",
     "output_type": "stream",
     "text": [
      "Train Epoch:  2 [60000/60000 (100%)]\tLoss: 48599.179688\n",
      "\n",
      "Test set: Accuracy: 9366/10000 (93.66%)\n",
      "\n"
     ]
    },
    {
     "name": "stderr",
     "output_type": "stream",
     "text": [
      "D:\\Anaconda3\\lib\\site-packages\\pyro\\poutine\\trace_struct.py:286: UserWarning: Encountered NaN: log_prob_sum at site 'layer1.u'\n",
      "  site[\"log_prob_sum\"], \"log_prob_sum at site '{}'\".format(name)\n",
      "D:\\Anaconda3\\lib\\site-packages\\pyro\\poutine\\trace_struct.py:286: UserWarning: Encountered NaN: log_prob_sum at site 'layer1.u'\n",
      "  site[\"log_prob_sum\"], \"log_prob_sum at site '{}'\".format(name)\n",
      "D:\\Anaconda3\\lib\\site-packages\\pyro\\poutine\\trace_struct.py:286: UserWarning: Encountered NaN: log_prob_sum at site 'layer1.u'\n",
      "  site[\"log_prob_sum\"], \"log_prob_sum at site '{}'\".format(name)\n",
      "D:\\Anaconda3\\lib\\site-packages\\pyro\\poutine\\trace_struct.py:286: UserWarning: Encountered NaN: log_prob_sum at site 'layer1.u'\n",
      "  site[\"log_prob_sum\"], \"log_prob_sum at site '{}'\".format(name)\n",
      "D:\\Anaconda3\\lib\\site-packages\\pyro\\poutine\\trace_struct.py:286: UserWarning: Encountered NaN: log_prob_sum at site 'layer1.u'\n",
      "  site[\"log_prob_sum\"], \"log_prob_sum at site '{}'\".format(name)\n",
      "D:\\Anaconda3\\lib\\site-packages\\pyro\\poutine\\trace_struct.py:286: UserWarning: Encountered NaN: log_prob_sum at site 'layer1.u'\n",
      "  site[\"log_prob_sum\"], \"log_prob_sum at site '{}'\".format(name)\n",
      "D:\\Anaconda3\\lib\\site-packages\\pyro\\poutine\\trace_struct.py:286: UserWarning: Encountered NaN: log_prob_sum at site 'layer1.u'\n",
      "  site[\"log_prob_sum\"], \"log_prob_sum at site '{}'\".format(name)\n",
      "D:\\Anaconda3\\lib\\site-packages\\pyro\\poutine\\trace_struct.py:286: UserWarning: Encountered NaN: log_prob_sum at site 'layer1.u'\n",
      "  site[\"log_prob_sum\"], \"log_prob_sum at site '{}'\".format(name)\n",
      "D:\\Anaconda3\\lib\\site-packages\\pyro\\poutine\\trace_struct.py:286: UserWarning: Encountered NaN: log_prob_sum at site 'layer1.u'\n",
      "  site[\"log_prob_sum\"], \"log_prob_sum at site '{}'\".format(name)\n",
      "D:\\Anaconda3\\lib\\site-packages\\pyro\\poutine\\trace_struct.py:286: UserWarning: Encountered NaN: log_prob_sum at site 'layer1.u'\n",
      "  site[\"log_prob_sum\"], \"log_prob_sum at site '{}'\".format(name)\n"
     ]
    },
    {
     "name": "stdout",
     "output_type": "stream",
     "text": [
      "Train Epoch:  3 [10000/60000 (17%)]\tLoss: 46982.476562\n"
     ]
    },
    {
     "name": "stderr",
     "output_type": "stream",
     "text": [
      "D:\\Anaconda3\\lib\\site-packages\\pyro\\poutine\\trace_struct.py:286: UserWarning: Encountered NaN: log_prob_sum at site 'layer1.u'\n",
      "  site[\"log_prob_sum\"], \"log_prob_sum at site '{}'\".format(name)\n",
      "D:\\Anaconda3\\lib\\site-packages\\pyro\\poutine\\trace_struct.py:286: UserWarning: Encountered NaN: log_prob_sum at site 'layer1.u'\n",
      "  site[\"log_prob_sum\"], \"log_prob_sum at site '{}'\".format(name)\n",
      "D:\\Anaconda3\\lib\\site-packages\\pyro\\poutine\\trace_struct.py:286: UserWarning: Encountered NaN: log_prob_sum at site 'layer1.u'\n",
      "  site[\"log_prob_sum\"], \"log_prob_sum at site '{}'\".format(name)\n",
      "D:\\Anaconda3\\lib\\site-packages\\pyro\\poutine\\trace_struct.py:286: UserWarning: Encountered NaN: log_prob_sum at site 'layer1.u'\n",
      "  site[\"log_prob_sum\"], \"log_prob_sum at site '{}'\".format(name)\n",
      "D:\\Anaconda3\\lib\\site-packages\\pyro\\poutine\\trace_struct.py:286: UserWarning: Encountered NaN: log_prob_sum at site 'layer1.u'\n",
      "  site[\"log_prob_sum\"], \"log_prob_sum at site '{}'\".format(name)\n",
      "D:\\Anaconda3\\lib\\site-packages\\pyro\\poutine\\trace_struct.py:286: UserWarning: Encountered NaN: log_prob_sum at site 'layer1.u'\n",
      "  site[\"log_prob_sum\"], \"log_prob_sum at site '{}'\".format(name)\n",
      "D:\\Anaconda3\\lib\\site-packages\\pyro\\poutine\\trace_struct.py:286: UserWarning: Encountered NaN: log_prob_sum at site 'layer1.u'\n",
      "  site[\"log_prob_sum\"], \"log_prob_sum at site '{}'\".format(name)\n",
      "D:\\Anaconda3\\lib\\site-packages\\pyro\\poutine\\trace_struct.py:286: UserWarning: Encountered NaN: log_prob_sum at site 'layer1.u'\n",
      "  site[\"log_prob_sum\"], \"log_prob_sum at site '{}'\".format(name)\n",
      "D:\\Anaconda3\\lib\\site-packages\\pyro\\poutine\\trace_struct.py:286: UserWarning: Encountered NaN: log_prob_sum at site 'layer1.u'\n",
      "  site[\"log_prob_sum\"], \"log_prob_sum at site '{}'\".format(name)\n",
      "D:\\Anaconda3\\lib\\site-packages\\pyro\\poutine\\trace_struct.py:286: UserWarning: Encountered NaN: log_prob_sum at site 'layer1.u'\n",
      "  site[\"log_prob_sum\"], \"log_prob_sum at site '{}'\".format(name)\n"
     ]
    },
    {
     "name": "stdout",
     "output_type": "stream",
     "text": [
      "Train Epoch:  3 [20000/60000 (33%)]\tLoss: 45043.347656\n"
     ]
    },
    {
     "name": "stderr",
     "output_type": "stream",
     "text": [
      "D:\\Anaconda3\\lib\\site-packages\\pyro\\poutine\\trace_struct.py:286: UserWarning: Encountered NaN: log_prob_sum at site 'layer1.u'\n",
      "  site[\"log_prob_sum\"], \"log_prob_sum at site '{}'\".format(name)\n",
      "D:\\Anaconda3\\lib\\site-packages\\pyro\\poutine\\trace_struct.py:286: UserWarning: Encountered NaN: log_prob_sum at site 'layer1.u'\n",
      "  site[\"log_prob_sum\"], \"log_prob_sum at site '{}'\".format(name)\n",
      "D:\\Anaconda3\\lib\\site-packages\\pyro\\poutine\\trace_struct.py:286: UserWarning: Encountered NaN: log_prob_sum at site 'layer1.u'\n",
      "  site[\"log_prob_sum\"], \"log_prob_sum at site '{}'\".format(name)\n",
      "D:\\Anaconda3\\lib\\site-packages\\pyro\\poutine\\trace_struct.py:286: UserWarning: Encountered NaN: log_prob_sum at site 'layer1.u'\n",
      "  site[\"log_prob_sum\"], \"log_prob_sum at site '{}'\".format(name)\n",
      "D:\\Anaconda3\\lib\\site-packages\\pyro\\poutine\\trace_struct.py:286: UserWarning: Encountered NaN: log_prob_sum at site 'layer1.u'\n",
      "  site[\"log_prob_sum\"], \"log_prob_sum at site '{}'\".format(name)\n",
      "D:\\Anaconda3\\lib\\site-packages\\pyro\\poutine\\trace_struct.py:286: UserWarning: Encountered NaN: log_prob_sum at site 'layer1.u'\n",
      "  site[\"log_prob_sum\"], \"log_prob_sum at site '{}'\".format(name)\n",
      "D:\\Anaconda3\\lib\\site-packages\\pyro\\poutine\\trace_struct.py:286: UserWarning: Encountered NaN: log_prob_sum at site 'layer1.u'\n",
      "  site[\"log_prob_sum\"], \"log_prob_sum at site '{}'\".format(name)\n",
      "D:\\Anaconda3\\lib\\site-packages\\pyro\\poutine\\trace_struct.py:286: UserWarning: Encountered NaN: log_prob_sum at site 'layer1.u'\n",
      "  site[\"log_prob_sum\"], \"log_prob_sum at site '{}'\".format(name)\n",
      "D:\\Anaconda3\\lib\\site-packages\\pyro\\poutine\\trace_struct.py:286: UserWarning: Encountered NaN: log_prob_sum at site 'layer1.u'\n",
      "  site[\"log_prob_sum\"], \"log_prob_sum at site '{}'\".format(name)\n",
      "D:\\Anaconda3\\lib\\site-packages\\pyro\\poutine\\trace_struct.py:286: UserWarning: Encountered NaN: log_prob_sum at site 'layer1.u'\n",
      "  site[\"log_prob_sum\"], \"log_prob_sum at site '{}'\".format(name)\n"
     ]
    },
    {
     "name": "stdout",
     "output_type": "stream",
     "text": [
      "Train Epoch:  3 [30000/60000 (50%)]\tLoss: 44915.601562\n"
     ]
    },
    {
     "name": "stderr",
     "output_type": "stream",
     "text": [
      "D:\\Anaconda3\\lib\\site-packages\\pyro\\poutine\\trace_struct.py:286: UserWarning: Encountered NaN: log_prob_sum at site 'layer1.u'\n",
      "  site[\"log_prob_sum\"], \"log_prob_sum at site '{}'\".format(name)\n",
      "D:\\Anaconda3\\lib\\site-packages\\pyro\\poutine\\trace_struct.py:286: UserWarning: Encountered NaN: log_prob_sum at site 'layer1.u'\n",
      "  site[\"log_prob_sum\"], \"log_prob_sum at site '{}'\".format(name)\n",
      "D:\\Anaconda3\\lib\\site-packages\\pyro\\poutine\\trace_struct.py:286: UserWarning: Encountered NaN: log_prob_sum at site 'layer1.u'\n",
      "  site[\"log_prob_sum\"], \"log_prob_sum at site '{}'\".format(name)\n",
      "D:\\Anaconda3\\lib\\site-packages\\pyro\\poutine\\trace_struct.py:286: UserWarning: Encountered NaN: log_prob_sum at site 'layer1.u'\n",
      "  site[\"log_prob_sum\"], \"log_prob_sum at site '{}'\".format(name)\n",
      "D:\\Anaconda3\\lib\\site-packages\\pyro\\poutine\\trace_struct.py:286: UserWarning: Encountered NaN: log_prob_sum at site 'layer1.u'\n",
      "  site[\"log_prob_sum\"], \"log_prob_sum at site '{}'\".format(name)\n",
      "D:\\Anaconda3\\lib\\site-packages\\pyro\\poutine\\trace_struct.py:286: UserWarning: Encountered NaN: log_prob_sum at site 'layer1.u'\n",
      "  site[\"log_prob_sum\"], \"log_prob_sum at site '{}'\".format(name)\n",
      "D:\\Anaconda3\\lib\\site-packages\\pyro\\poutine\\trace_struct.py:286: UserWarning: Encountered NaN: log_prob_sum at site 'layer1.u'\n",
      "  site[\"log_prob_sum\"], \"log_prob_sum at site '{}'\".format(name)\n",
      "D:\\Anaconda3\\lib\\site-packages\\pyro\\poutine\\trace_struct.py:286: UserWarning: Encountered NaN: log_prob_sum at site 'layer1.u'\n",
      "  site[\"log_prob_sum\"], \"log_prob_sum at site '{}'\".format(name)\n",
      "D:\\Anaconda3\\lib\\site-packages\\pyro\\poutine\\trace_struct.py:286: UserWarning: Encountered NaN: log_prob_sum at site 'layer1.u'\n",
      "  site[\"log_prob_sum\"], \"log_prob_sum at site '{}'\".format(name)\n",
      "D:\\Anaconda3\\lib\\site-packages\\pyro\\poutine\\trace_struct.py:286: UserWarning: Encountered NaN: log_prob_sum at site 'layer1.u'\n",
      "  site[\"log_prob_sum\"], \"log_prob_sum at site '{}'\".format(name)\n"
     ]
    },
    {
     "name": "stdout",
     "output_type": "stream",
     "text": [
      "Train Epoch:  3 [40000/60000 (67%)]\tLoss: 42185.195312\n"
     ]
    },
    {
     "name": "stderr",
     "output_type": "stream",
     "text": [
      "D:\\Anaconda3\\lib\\site-packages\\pyro\\poutine\\trace_struct.py:286: UserWarning: Encountered NaN: log_prob_sum at site 'layer1.u'\n",
      "  site[\"log_prob_sum\"], \"log_prob_sum at site '{}'\".format(name)\n",
      "D:\\Anaconda3\\lib\\site-packages\\pyro\\poutine\\trace_struct.py:286: UserWarning: Encountered NaN: log_prob_sum at site 'layer1.u'\n",
      "  site[\"log_prob_sum\"], \"log_prob_sum at site '{}'\".format(name)\n",
      "D:\\Anaconda3\\lib\\site-packages\\pyro\\poutine\\trace_struct.py:286: UserWarning: Encountered NaN: log_prob_sum at site 'layer1.u'\n",
      "  site[\"log_prob_sum\"], \"log_prob_sum at site '{}'\".format(name)\n",
      "D:\\Anaconda3\\lib\\site-packages\\pyro\\poutine\\trace_struct.py:286: UserWarning: Encountered NaN: log_prob_sum at site 'layer1.u'\n",
      "  site[\"log_prob_sum\"], \"log_prob_sum at site '{}'\".format(name)\n",
      "D:\\Anaconda3\\lib\\site-packages\\pyro\\poutine\\trace_struct.py:286: UserWarning: Encountered NaN: log_prob_sum at site 'layer1.u'\n",
      "  site[\"log_prob_sum\"], \"log_prob_sum at site '{}'\".format(name)\n",
      "D:\\Anaconda3\\lib\\site-packages\\pyro\\poutine\\trace_struct.py:286: UserWarning: Encountered NaN: log_prob_sum at site 'layer1.u'\n",
      "  site[\"log_prob_sum\"], \"log_prob_sum at site '{}'\".format(name)\n",
      "D:\\Anaconda3\\lib\\site-packages\\pyro\\poutine\\trace_struct.py:286: UserWarning: Encountered NaN: log_prob_sum at site 'layer1.u'\n",
      "  site[\"log_prob_sum\"], \"log_prob_sum at site '{}'\".format(name)\n",
      "D:\\Anaconda3\\lib\\site-packages\\pyro\\poutine\\trace_struct.py:286: UserWarning: Encountered NaN: log_prob_sum at site 'layer1.u'\n",
      "  site[\"log_prob_sum\"], \"log_prob_sum at site '{}'\".format(name)\n",
      "D:\\Anaconda3\\lib\\site-packages\\pyro\\poutine\\trace_struct.py:286: UserWarning: Encountered NaN: log_prob_sum at site 'layer1.u'\n",
      "  site[\"log_prob_sum\"], \"log_prob_sum at site '{}'\".format(name)\n",
      "D:\\Anaconda3\\lib\\site-packages\\pyro\\poutine\\trace_struct.py:286: UserWarning: Encountered NaN: log_prob_sum at site 'layer1.u'\n",
      "  site[\"log_prob_sum\"], \"log_prob_sum at site '{}'\".format(name)\n"
     ]
    },
    {
     "name": "stdout",
     "output_type": "stream",
     "text": [
      "Train Epoch:  3 [50000/60000 (83%)]\tLoss: 46140.042969\n"
     ]
    },
    {
     "name": "stderr",
     "output_type": "stream",
     "text": [
      "D:\\Anaconda3\\lib\\site-packages\\pyro\\poutine\\trace_struct.py:286: UserWarning: Encountered NaN: log_prob_sum at site 'layer1.u'\n",
      "  site[\"log_prob_sum\"], \"log_prob_sum at site '{}'\".format(name)\n",
      "D:\\Anaconda3\\lib\\site-packages\\pyro\\poutine\\trace_struct.py:286: UserWarning: Encountered NaN: log_prob_sum at site 'layer1.u'\n",
      "  site[\"log_prob_sum\"], \"log_prob_sum at site '{}'\".format(name)\n",
      "D:\\Anaconda3\\lib\\site-packages\\pyro\\poutine\\trace_struct.py:286: UserWarning: Encountered NaN: log_prob_sum at site 'layer1.u'\n",
      "  site[\"log_prob_sum\"], \"log_prob_sum at site '{}'\".format(name)\n",
      "D:\\Anaconda3\\lib\\site-packages\\pyro\\poutine\\trace_struct.py:286: UserWarning: Encountered NaN: log_prob_sum at site 'layer1.u'\n",
      "  site[\"log_prob_sum\"], \"log_prob_sum at site '{}'\".format(name)\n",
      "D:\\Anaconda3\\lib\\site-packages\\pyro\\poutine\\trace_struct.py:286: UserWarning: Encountered NaN: log_prob_sum at site 'layer1.u'\n",
      "  site[\"log_prob_sum\"], \"log_prob_sum at site '{}'\".format(name)\n",
      "D:\\Anaconda3\\lib\\site-packages\\pyro\\poutine\\trace_struct.py:286: UserWarning: Encountered NaN: log_prob_sum at site 'layer1.u'\n",
      "  site[\"log_prob_sum\"], \"log_prob_sum at site '{}'\".format(name)\n",
      "D:\\Anaconda3\\lib\\site-packages\\pyro\\poutine\\trace_struct.py:286: UserWarning: Encountered NaN: log_prob_sum at site 'layer1.u'\n",
      "  site[\"log_prob_sum\"], \"log_prob_sum at site '{}'\".format(name)\n",
      "D:\\Anaconda3\\lib\\site-packages\\pyro\\poutine\\trace_struct.py:286: UserWarning: Encountered NaN: log_prob_sum at site 'layer1.u'\n",
      "  site[\"log_prob_sum\"], \"log_prob_sum at site '{}'\".format(name)\n",
      "D:\\Anaconda3\\lib\\site-packages\\pyro\\poutine\\trace_struct.py:286: UserWarning: Encountered NaN: log_prob_sum at site 'layer1.u'\n",
      "  site[\"log_prob_sum\"], \"log_prob_sum at site '{}'\".format(name)\n",
      "D:\\Anaconda3\\lib\\site-packages\\pyro\\poutine\\trace_struct.py:286: UserWarning: Encountered NaN: log_prob_sum at site 'layer1.u'\n",
      "  site[\"log_prob_sum\"], \"log_prob_sum at site '{}'\".format(name)\n"
     ]
    },
    {
     "name": "stdout",
     "output_type": "stream",
     "text": [
      "Train Epoch:  3 [60000/60000 (100%)]\tLoss: 43032.203125\n",
      "\n",
      "Test set: Accuracy: 9433/10000 (94.33%)\n",
      "\n"
     ]
    },
    {
     "name": "stderr",
     "output_type": "stream",
     "text": [
      "D:\\Anaconda3\\lib\\site-packages\\pyro\\poutine\\trace_struct.py:286: UserWarning: Encountered NaN: log_prob_sum at site 'layer1.u'\n",
      "  site[\"log_prob_sum\"], \"log_prob_sum at site '{}'\".format(name)\n",
      "D:\\Anaconda3\\lib\\site-packages\\pyro\\poutine\\trace_struct.py:286: UserWarning: Encountered NaN: log_prob_sum at site 'layer1.u'\n",
      "  site[\"log_prob_sum\"], \"log_prob_sum at site '{}'\".format(name)\n",
      "D:\\Anaconda3\\lib\\site-packages\\pyro\\poutine\\trace_struct.py:286: UserWarning: Encountered NaN: log_prob_sum at site 'layer1.u'\n",
      "  site[\"log_prob_sum\"], \"log_prob_sum at site '{}'\".format(name)\n",
      "D:\\Anaconda3\\lib\\site-packages\\pyro\\poutine\\trace_struct.py:286: UserWarning: Encountered NaN: log_prob_sum at site 'layer1.u'\n",
      "  site[\"log_prob_sum\"], \"log_prob_sum at site '{}'\".format(name)\n",
      "D:\\Anaconda3\\lib\\site-packages\\pyro\\poutine\\trace_struct.py:286: UserWarning: Encountered NaN: log_prob_sum at site 'layer1.u'\n",
      "  site[\"log_prob_sum\"], \"log_prob_sum at site '{}'\".format(name)\n",
      "D:\\Anaconda3\\lib\\site-packages\\pyro\\poutine\\trace_struct.py:286: UserWarning: Encountered NaN: log_prob_sum at site 'layer1.u'\n",
      "  site[\"log_prob_sum\"], \"log_prob_sum at site '{}'\".format(name)\n",
      "D:\\Anaconda3\\lib\\site-packages\\pyro\\poutine\\trace_struct.py:286: UserWarning: Encountered NaN: log_prob_sum at site 'layer1.u'\n",
      "  site[\"log_prob_sum\"], \"log_prob_sum at site '{}'\".format(name)\n",
      "D:\\Anaconda3\\lib\\site-packages\\pyro\\poutine\\trace_struct.py:286: UserWarning: Encountered NaN: log_prob_sum at site 'layer1.u'\n",
      "  site[\"log_prob_sum\"], \"log_prob_sum at site '{}'\".format(name)\n",
      "D:\\Anaconda3\\lib\\site-packages\\pyro\\poutine\\trace_struct.py:286: UserWarning: Encountered NaN: log_prob_sum at site 'layer1.u'\n",
      "  site[\"log_prob_sum\"], \"log_prob_sum at site '{}'\".format(name)\n",
      "D:\\Anaconda3\\lib\\site-packages\\pyro\\poutine\\trace_struct.py:286: UserWarning: Encountered NaN: log_prob_sum at site 'layer1.u'\n",
      "  site[\"log_prob_sum\"], \"log_prob_sum at site '{}'\".format(name)\n"
     ]
    },
    {
     "name": "stdout",
     "output_type": "stream",
     "text": [
      "Train Epoch:  4 [10000/60000 (17%)]\tLoss: 41394.300781\n"
     ]
    },
    {
     "name": "stderr",
     "output_type": "stream",
     "text": [
      "D:\\Anaconda3\\lib\\site-packages\\pyro\\poutine\\trace_struct.py:286: UserWarning: Encountered NaN: log_prob_sum at site 'layer1.u'\n",
      "  site[\"log_prob_sum\"], \"log_prob_sum at site '{}'\".format(name)\n",
      "D:\\Anaconda3\\lib\\site-packages\\pyro\\poutine\\trace_struct.py:286: UserWarning: Encountered NaN: log_prob_sum at site 'layer1.u'\n",
      "  site[\"log_prob_sum\"], \"log_prob_sum at site '{}'\".format(name)\n",
      "D:\\Anaconda3\\lib\\site-packages\\pyro\\poutine\\trace_struct.py:286: UserWarning: Encountered NaN: log_prob_sum at site 'layer1.u'\n",
      "  site[\"log_prob_sum\"], \"log_prob_sum at site '{}'\".format(name)\n",
      "D:\\Anaconda3\\lib\\site-packages\\pyro\\poutine\\trace_struct.py:286: UserWarning: Encountered NaN: log_prob_sum at site 'layer1.u'\n",
      "  site[\"log_prob_sum\"], \"log_prob_sum at site '{}'\".format(name)\n",
      "D:\\Anaconda3\\lib\\site-packages\\pyro\\poutine\\trace_struct.py:286: UserWarning: Encountered NaN: log_prob_sum at site 'layer1.u'\n",
      "  site[\"log_prob_sum\"], \"log_prob_sum at site '{}'\".format(name)\n",
      "D:\\Anaconda3\\lib\\site-packages\\pyro\\poutine\\trace_struct.py:286: UserWarning: Encountered NaN: log_prob_sum at site 'layer1.u'\n",
      "  site[\"log_prob_sum\"], \"log_prob_sum at site '{}'\".format(name)\n",
      "D:\\Anaconda3\\lib\\site-packages\\pyro\\poutine\\trace_struct.py:286: UserWarning: Encountered NaN: log_prob_sum at site 'layer1.u'\n",
      "  site[\"log_prob_sum\"], \"log_prob_sum at site '{}'\".format(name)\n",
      "D:\\Anaconda3\\lib\\site-packages\\pyro\\poutine\\trace_struct.py:286: UserWarning: Encountered NaN: log_prob_sum at site 'layer1.u'\n",
      "  site[\"log_prob_sum\"], \"log_prob_sum at site '{}'\".format(name)\n",
      "D:\\Anaconda3\\lib\\site-packages\\pyro\\poutine\\trace_struct.py:286: UserWarning: Encountered NaN: log_prob_sum at site 'layer1.u'\n",
      "  site[\"log_prob_sum\"], \"log_prob_sum at site '{}'\".format(name)\n",
      "D:\\Anaconda3\\lib\\site-packages\\pyro\\poutine\\trace_struct.py:286: UserWarning: Encountered NaN: log_prob_sum at site 'layer1.u'\n",
      "  site[\"log_prob_sum\"], \"log_prob_sum at site '{}'\".format(name)\n"
     ]
    },
    {
     "name": "stdout",
     "output_type": "stream",
     "text": [
      "Train Epoch:  4 [20000/60000 (33%)]\tLoss: 41493.230469\n"
     ]
    },
    {
     "name": "stderr",
     "output_type": "stream",
     "text": [
      "D:\\Anaconda3\\lib\\site-packages\\pyro\\poutine\\trace_struct.py:286: UserWarning: Encountered NaN: log_prob_sum at site 'layer1.u'\n",
      "  site[\"log_prob_sum\"], \"log_prob_sum at site '{}'\".format(name)\n",
      "D:\\Anaconda3\\lib\\site-packages\\pyro\\poutine\\trace_struct.py:286: UserWarning: Encountered NaN: log_prob_sum at site 'layer1.u'\n",
      "  site[\"log_prob_sum\"], \"log_prob_sum at site '{}'\".format(name)\n",
      "D:\\Anaconda3\\lib\\site-packages\\pyro\\poutine\\trace_struct.py:286: UserWarning: Encountered NaN: log_prob_sum at site 'layer1.u'\n",
      "  site[\"log_prob_sum\"], \"log_prob_sum at site '{}'\".format(name)\n",
      "D:\\Anaconda3\\lib\\site-packages\\pyro\\poutine\\trace_struct.py:286: UserWarning: Encountered NaN: log_prob_sum at site 'layer1.u'\n",
      "  site[\"log_prob_sum\"], \"log_prob_sum at site '{}'\".format(name)\n",
      "D:\\Anaconda3\\lib\\site-packages\\pyro\\poutine\\trace_struct.py:286: UserWarning: Encountered NaN: log_prob_sum at site 'layer1.u'\n",
      "  site[\"log_prob_sum\"], \"log_prob_sum at site '{}'\".format(name)\n",
      "D:\\Anaconda3\\lib\\site-packages\\pyro\\poutine\\trace_struct.py:286: UserWarning: Encountered NaN: log_prob_sum at site 'layer1.u'\n",
      "  site[\"log_prob_sum\"], \"log_prob_sum at site '{}'\".format(name)\n",
      "D:\\Anaconda3\\lib\\site-packages\\pyro\\poutine\\trace_struct.py:286: UserWarning: Encountered NaN: log_prob_sum at site 'layer1.u'\n",
      "  site[\"log_prob_sum\"], \"log_prob_sum at site '{}'\".format(name)\n",
      "D:\\Anaconda3\\lib\\site-packages\\pyro\\poutine\\trace_struct.py:286: UserWarning: Encountered NaN: log_prob_sum at site 'layer1.u'\n",
      "  site[\"log_prob_sum\"], \"log_prob_sum at site '{}'\".format(name)\n",
      "D:\\Anaconda3\\lib\\site-packages\\pyro\\poutine\\trace_struct.py:286: UserWarning: Encountered NaN: log_prob_sum at site 'layer1.u'\n",
      "  site[\"log_prob_sum\"], \"log_prob_sum at site '{}'\".format(name)\n",
      "D:\\Anaconda3\\lib\\site-packages\\pyro\\poutine\\trace_struct.py:286: UserWarning: Encountered NaN: log_prob_sum at site 'layer1.u'\n",
      "  site[\"log_prob_sum\"], \"log_prob_sum at site '{}'\".format(name)\n"
     ]
    },
    {
     "name": "stdout",
     "output_type": "stream",
     "text": [
      "Train Epoch:  4 [30000/60000 (50%)]\tLoss: 41550.558594\n"
     ]
    },
    {
     "name": "stderr",
     "output_type": "stream",
     "text": [
      "D:\\Anaconda3\\lib\\site-packages\\pyro\\poutine\\trace_struct.py:286: UserWarning: Encountered NaN: log_prob_sum at site 'layer1.u'\n",
      "  site[\"log_prob_sum\"], \"log_prob_sum at site '{}'\".format(name)\n",
      "D:\\Anaconda3\\lib\\site-packages\\pyro\\poutine\\trace_struct.py:286: UserWarning: Encountered NaN: log_prob_sum at site 'layer1.u'\n",
      "  site[\"log_prob_sum\"], \"log_prob_sum at site '{}'\".format(name)\n",
      "D:\\Anaconda3\\lib\\site-packages\\pyro\\poutine\\trace_struct.py:286: UserWarning: Encountered NaN: log_prob_sum at site 'layer1.u'\n",
      "  site[\"log_prob_sum\"], \"log_prob_sum at site '{}'\".format(name)\n",
      "D:\\Anaconda3\\lib\\site-packages\\pyro\\poutine\\trace_struct.py:286: UserWarning: Encountered NaN: log_prob_sum at site 'layer1.u'\n",
      "  site[\"log_prob_sum\"], \"log_prob_sum at site '{}'\".format(name)\n",
      "D:\\Anaconda3\\lib\\site-packages\\pyro\\poutine\\trace_struct.py:286: UserWarning: Encountered NaN: log_prob_sum at site 'layer1.u'\n",
      "  site[\"log_prob_sum\"], \"log_prob_sum at site '{}'\".format(name)\n",
      "D:\\Anaconda3\\lib\\site-packages\\pyro\\poutine\\trace_struct.py:286: UserWarning: Encountered NaN: log_prob_sum at site 'layer1.u'\n",
      "  site[\"log_prob_sum\"], \"log_prob_sum at site '{}'\".format(name)\n",
      "D:\\Anaconda3\\lib\\site-packages\\pyro\\poutine\\trace_struct.py:286: UserWarning: Encountered NaN: log_prob_sum at site 'layer1.u'\n",
      "  site[\"log_prob_sum\"], \"log_prob_sum at site '{}'\".format(name)\n",
      "D:\\Anaconda3\\lib\\site-packages\\pyro\\poutine\\trace_struct.py:286: UserWarning: Encountered NaN: log_prob_sum at site 'layer1.u'\n",
      "  site[\"log_prob_sum\"], \"log_prob_sum at site '{}'\".format(name)\n",
      "D:\\Anaconda3\\lib\\site-packages\\pyro\\poutine\\trace_struct.py:286: UserWarning: Encountered NaN: log_prob_sum at site 'layer1.u'\n",
      "  site[\"log_prob_sum\"], \"log_prob_sum at site '{}'\".format(name)\n",
      "D:\\Anaconda3\\lib\\site-packages\\pyro\\poutine\\trace_struct.py:286: UserWarning: Encountered NaN: log_prob_sum at site 'layer1.u'\n",
      "  site[\"log_prob_sum\"], \"log_prob_sum at site '{}'\".format(name)\n"
     ]
    },
    {
     "name": "stdout",
     "output_type": "stream",
     "text": [
      "Train Epoch:  4 [40000/60000 (67%)]\tLoss: 41902.203125\n"
     ]
    },
    {
     "name": "stderr",
     "output_type": "stream",
     "text": [
      "D:\\Anaconda3\\lib\\site-packages\\pyro\\poutine\\trace_struct.py:286: UserWarning: Encountered NaN: log_prob_sum at site 'layer1.u'\n",
      "  site[\"log_prob_sum\"], \"log_prob_sum at site '{}'\".format(name)\n",
      "D:\\Anaconda3\\lib\\site-packages\\pyro\\poutine\\trace_struct.py:286: UserWarning: Encountered NaN: log_prob_sum at site 'layer1.u'\n",
      "  site[\"log_prob_sum\"], \"log_prob_sum at site '{}'\".format(name)\n",
      "D:\\Anaconda3\\lib\\site-packages\\pyro\\poutine\\trace_struct.py:286: UserWarning: Encountered NaN: log_prob_sum at site 'layer1.u'\n",
      "  site[\"log_prob_sum\"], \"log_prob_sum at site '{}'\".format(name)\n",
      "D:\\Anaconda3\\lib\\site-packages\\pyro\\poutine\\trace_struct.py:286: UserWarning: Encountered NaN: log_prob_sum at site 'layer1.u'\n",
      "  site[\"log_prob_sum\"], \"log_prob_sum at site '{}'\".format(name)\n",
      "D:\\Anaconda3\\lib\\site-packages\\pyro\\poutine\\trace_struct.py:286: UserWarning: Encountered NaN: log_prob_sum at site 'layer1.u'\n",
      "  site[\"log_prob_sum\"], \"log_prob_sum at site '{}'\".format(name)\n",
      "D:\\Anaconda3\\lib\\site-packages\\pyro\\poutine\\trace_struct.py:286: UserWarning: Encountered NaN: log_prob_sum at site 'layer1.u'\n",
      "  site[\"log_prob_sum\"], \"log_prob_sum at site '{}'\".format(name)\n",
      "D:\\Anaconda3\\lib\\site-packages\\pyro\\poutine\\trace_struct.py:286: UserWarning: Encountered NaN: log_prob_sum at site 'layer1.u'\n",
      "  site[\"log_prob_sum\"], \"log_prob_sum at site '{}'\".format(name)\n",
      "D:\\Anaconda3\\lib\\site-packages\\pyro\\poutine\\trace_struct.py:286: UserWarning: Encountered NaN: log_prob_sum at site 'layer1.u'\n",
      "  site[\"log_prob_sum\"], \"log_prob_sum at site '{}'\".format(name)\n",
      "D:\\Anaconda3\\lib\\site-packages\\pyro\\poutine\\trace_struct.py:286: UserWarning: Encountered NaN: log_prob_sum at site 'layer1.u'\n",
      "  site[\"log_prob_sum\"], \"log_prob_sum at site '{}'\".format(name)\n",
      "D:\\Anaconda3\\lib\\site-packages\\pyro\\poutine\\trace_struct.py:286: UserWarning: Encountered NaN: log_prob_sum at site 'layer1.u'\n",
      "  site[\"log_prob_sum\"], \"log_prob_sum at site '{}'\".format(name)\n"
     ]
    },
    {
     "name": "stdout",
     "output_type": "stream",
     "text": [
      "Train Epoch:  4 [50000/60000 (83%)]\tLoss: 39878.335938\n"
     ]
    },
    {
     "name": "stderr",
     "output_type": "stream",
     "text": [
      "D:\\Anaconda3\\lib\\site-packages\\pyro\\poutine\\trace_struct.py:286: UserWarning: Encountered NaN: log_prob_sum at site 'layer1.u'\n",
      "  site[\"log_prob_sum\"], \"log_prob_sum at site '{}'\".format(name)\n",
      "D:\\Anaconda3\\lib\\site-packages\\pyro\\poutine\\trace_struct.py:286: UserWarning: Encountered NaN: log_prob_sum at site 'layer1.u'\n",
      "  site[\"log_prob_sum\"], \"log_prob_sum at site '{}'\".format(name)\n",
      "D:\\Anaconda3\\lib\\site-packages\\pyro\\poutine\\trace_struct.py:286: UserWarning: Encountered NaN: log_prob_sum at site 'layer1.u'\n",
      "  site[\"log_prob_sum\"], \"log_prob_sum at site '{}'\".format(name)\n",
      "D:\\Anaconda3\\lib\\site-packages\\pyro\\poutine\\trace_struct.py:286: UserWarning: Encountered NaN: log_prob_sum at site 'layer1.u'\n",
      "  site[\"log_prob_sum\"], \"log_prob_sum at site '{}'\".format(name)\n",
      "D:\\Anaconda3\\lib\\site-packages\\pyro\\poutine\\trace_struct.py:286: UserWarning: Encountered NaN: log_prob_sum at site 'layer1.u'\n",
      "  site[\"log_prob_sum\"], \"log_prob_sum at site '{}'\".format(name)\n",
      "D:\\Anaconda3\\lib\\site-packages\\pyro\\poutine\\trace_struct.py:286: UserWarning: Encountered NaN: log_prob_sum at site 'layer1.u'\n",
      "  site[\"log_prob_sum\"], \"log_prob_sum at site '{}'\".format(name)\n",
      "D:\\Anaconda3\\lib\\site-packages\\pyro\\poutine\\trace_struct.py:286: UserWarning: Encountered NaN: log_prob_sum at site 'layer1.u'\n",
      "  site[\"log_prob_sum\"], \"log_prob_sum at site '{}'\".format(name)\n",
      "D:\\Anaconda3\\lib\\site-packages\\pyro\\poutine\\trace_struct.py:286: UserWarning: Encountered NaN: log_prob_sum at site 'layer1.u'\n",
      "  site[\"log_prob_sum\"], \"log_prob_sum at site '{}'\".format(name)\n",
      "D:\\Anaconda3\\lib\\site-packages\\pyro\\poutine\\trace_struct.py:286: UserWarning: Encountered NaN: log_prob_sum at site 'layer1.u'\n",
      "  site[\"log_prob_sum\"], \"log_prob_sum at site '{}'\".format(name)\n",
      "D:\\Anaconda3\\lib\\site-packages\\pyro\\poutine\\trace_struct.py:286: UserWarning: Encountered NaN: log_prob_sum at site 'layer1.u'\n",
      "  site[\"log_prob_sum\"], \"log_prob_sum at site '{}'\".format(name)\n"
     ]
    },
    {
     "name": "stdout",
     "output_type": "stream",
     "text": [
      "Train Epoch:  4 [60000/60000 (100%)]\tLoss: 42433.199219\n",
      "\n",
      "Test set: Accuracy: 9450/10000 (94.50%)\n",
      "\n"
     ]
    },
    {
     "name": "stderr",
     "output_type": "stream",
     "text": [
      "D:\\Anaconda3\\lib\\site-packages\\pyro\\poutine\\trace_struct.py:286: UserWarning: Encountered NaN: log_prob_sum at site 'layer1.u'\n",
      "  site[\"log_prob_sum\"], \"log_prob_sum at site '{}'\".format(name)\n",
      "D:\\Anaconda3\\lib\\site-packages\\pyro\\poutine\\trace_struct.py:286: UserWarning: Encountered NaN: log_prob_sum at site 'layer1.u'\n",
      "  site[\"log_prob_sum\"], \"log_prob_sum at site '{}'\".format(name)\n",
      "D:\\Anaconda3\\lib\\site-packages\\pyro\\poutine\\trace_struct.py:286: UserWarning: Encountered NaN: log_prob_sum at site 'layer1.u'\n",
      "  site[\"log_prob_sum\"], \"log_prob_sum at site '{}'\".format(name)\n",
      "D:\\Anaconda3\\lib\\site-packages\\pyro\\poutine\\trace_struct.py:286: UserWarning: Encountered NaN: log_prob_sum at site 'layer1.u'\n",
      "  site[\"log_prob_sum\"], \"log_prob_sum at site '{}'\".format(name)\n",
      "D:\\Anaconda3\\lib\\site-packages\\pyro\\poutine\\trace_struct.py:286: UserWarning: Encountered NaN: log_prob_sum at site 'layer1.u'\n",
      "  site[\"log_prob_sum\"], \"log_prob_sum at site '{}'\".format(name)\n",
      "D:\\Anaconda3\\lib\\site-packages\\pyro\\poutine\\trace_struct.py:286: UserWarning: Encountered NaN: log_prob_sum at site 'layer1.u'\n",
      "  site[\"log_prob_sum\"], \"log_prob_sum at site '{}'\".format(name)\n",
      "D:\\Anaconda3\\lib\\site-packages\\pyro\\poutine\\trace_struct.py:286: UserWarning: Encountered NaN: log_prob_sum at site 'layer1.u'\n",
      "  site[\"log_prob_sum\"], \"log_prob_sum at site '{}'\".format(name)\n",
      "D:\\Anaconda3\\lib\\site-packages\\pyro\\poutine\\trace_struct.py:286: UserWarning: Encountered NaN: log_prob_sum at site 'layer1.u'\n",
      "  site[\"log_prob_sum\"], \"log_prob_sum at site '{}'\".format(name)\n",
      "D:\\Anaconda3\\lib\\site-packages\\pyro\\poutine\\trace_struct.py:286: UserWarning: Encountered NaN: log_prob_sum at site 'layer1.u'\n",
      "  site[\"log_prob_sum\"], \"log_prob_sum at site '{}'\".format(name)\n",
      "D:\\Anaconda3\\lib\\site-packages\\pyro\\poutine\\trace_struct.py:286: UserWarning: Encountered NaN: log_prob_sum at site 'layer1.u'\n",
      "  site[\"log_prob_sum\"], \"log_prob_sum at site '{}'\".format(name)\n"
     ]
    },
    {
     "name": "stdout",
     "output_type": "stream",
     "text": [
      "Train Epoch:  5 [10000/60000 (17%)]\tLoss: 40364.507812\n"
     ]
    },
    {
     "name": "stderr",
     "output_type": "stream",
     "text": [
      "D:\\Anaconda3\\lib\\site-packages\\pyro\\poutine\\trace_struct.py:286: UserWarning: Encountered NaN: log_prob_sum at site 'layer1.u'\n",
      "  site[\"log_prob_sum\"], \"log_prob_sum at site '{}'\".format(name)\n",
      "D:\\Anaconda3\\lib\\site-packages\\pyro\\poutine\\trace_struct.py:286: UserWarning: Encountered NaN: log_prob_sum at site 'layer1.u'\n",
      "  site[\"log_prob_sum\"], \"log_prob_sum at site '{}'\".format(name)\n",
      "D:\\Anaconda3\\lib\\site-packages\\pyro\\poutine\\trace_struct.py:286: UserWarning: Encountered NaN: log_prob_sum at site 'layer1.u'\n",
      "  site[\"log_prob_sum\"], \"log_prob_sum at site '{}'\".format(name)\n",
      "D:\\Anaconda3\\lib\\site-packages\\pyro\\poutine\\trace_struct.py:286: UserWarning: Encountered NaN: log_prob_sum at site 'layer1.u'\n",
      "  site[\"log_prob_sum\"], \"log_prob_sum at site '{}'\".format(name)\n",
      "D:\\Anaconda3\\lib\\site-packages\\pyro\\poutine\\trace_struct.py:286: UserWarning: Encountered NaN: log_prob_sum at site 'layer1.u'\n",
      "  site[\"log_prob_sum\"], \"log_prob_sum at site '{}'\".format(name)\n",
      "D:\\Anaconda3\\lib\\site-packages\\pyro\\poutine\\trace_struct.py:286: UserWarning: Encountered NaN: log_prob_sum at site 'layer1.u'\n",
      "  site[\"log_prob_sum\"], \"log_prob_sum at site '{}'\".format(name)\n",
      "D:\\Anaconda3\\lib\\site-packages\\pyro\\poutine\\trace_struct.py:286: UserWarning: Encountered NaN: log_prob_sum at site 'layer1.u'\n",
      "  site[\"log_prob_sum\"], \"log_prob_sum at site '{}'\".format(name)\n",
      "D:\\Anaconda3\\lib\\site-packages\\pyro\\poutine\\trace_struct.py:286: UserWarning: Encountered NaN: log_prob_sum at site 'layer1.u'\n",
      "  site[\"log_prob_sum\"], \"log_prob_sum at site '{}'\".format(name)\n",
      "D:\\Anaconda3\\lib\\site-packages\\pyro\\poutine\\trace_struct.py:286: UserWarning: Encountered NaN: log_prob_sum at site 'layer1.u'\n",
      "  site[\"log_prob_sum\"], \"log_prob_sum at site '{}'\".format(name)\n",
      "D:\\Anaconda3\\lib\\site-packages\\pyro\\poutine\\trace_struct.py:286: UserWarning: Encountered NaN: log_prob_sum at site 'layer1.u'\n",
      "  site[\"log_prob_sum\"], \"log_prob_sum at site '{}'\".format(name)\n"
     ]
    },
    {
     "name": "stdout",
     "output_type": "stream",
     "text": [
      "Train Epoch:  5 [20000/60000 (33%)]\tLoss: 38505.964844\n"
     ]
    },
    {
     "name": "stderr",
     "output_type": "stream",
     "text": [
      "D:\\Anaconda3\\lib\\site-packages\\pyro\\poutine\\trace_struct.py:286: UserWarning: Encountered NaN: log_prob_sum at site 'layer1.u'\n",
      "  site[\"log_prob_sum\"], \"log_prob_sum at site '{}'\".format(name)\n",
      "D:\\Anaconda3\\lib\\site-packages\\pyro\\poutine\\trace_struct.py:286: UserWarning: Encountered NaN: log_prob_sum at site 'layer1.u'\n",
      "  site[\"log_prob_sum\"], \"log_prob_sum at site '{}'\".format(name)\n",
      "D:\\Anaconda3\\lib\\site-packages\\pyro\\poutine\\trace_struct.py:286: UserWarning: Encountered NaN: log_prob_sum at site 'layer1.u'\n",
      "  site[\"log_prob_sum\"], \"log_prob_sum at site '{}'\".format(name)\n",
      "D:\\Anaconda3\\lib\\site-packages\\pyro\\poutine\\trace_struct.py:286: UserWarning: Encountered NaN: log_prob_sum at site 'layer1.u'\n",
      "  site[\"log_prob_sum\"], \"log_prob_sum at site '{}'\".format(name)\n",
      "D:\\Anaconda3\\lib\\site-packages\\pyro\\poutine\\trace_struct.py:286: UserWarning: Encountered NaN: log_prob_sum at site 'layer1.u'\n",
      "  site[\"log_prob_sum\"], \"log_prob_sum at site '{}'\".format(name)\n",
      "D:\\Anaconda3\\lib\\site-packages\\pyro\\poutine\\trace_struct.py:286: UserWarning: Encountered NaN: log_prob_sum at site 'layer1.u'\n",
      "  site[\"log_prob_sum\"], \"log_prob_sum at site '{}'\".format(name)\n",
      "D:\\Anaconda3\\lib\\site-packages\\pyro\\poutine\\trace_struct.py:286: UserWarning: Encountered NaN: log_prob_sum at site 'layer1.u'\n",
      "  site[\"log_prob_sum\"], \"log_prob_sum at site '{}'\".format(name)\n",
      "D:\\Anaconda3\\lib\\site-packages\\pyro\\poutine\\trace_struct.py:286: UserWarning: Encountered NaN: log_prob_sum at site 'layer1.u'\n",
      "  site[\"log_prob_sum\"], \"log_prob_sum at site '{}'\".format(name)\n",
      "D:\\Anaconda3\\lib\\site-packages\\pyro\\poutine\\trace_struct.py:286: UserWarning: Encountered NaN: log_prob_sum at site 'layer1.u'\n",
      "  site[\"log_prob_sum\"], \"log_prob_sum at site '{}'\".format(name)\n",
      "D:\\Anaconda3\\lib\\site-packages\\pyro\\poutine\\trace_struct.py:286: UserWarning: Encountered NaN: log_prob_sum at site 'layer1.u'\n",
      "  site[\"log_prob_sum\"], \"log_prob_sum at site '{}'\".format(name)\n"
     ]
    },
    {
     "name": "stdout",
     "output_type": "stream",
     "text": [
      "Train Epoch:  5 [30000/60000 (50%)]\tLoss: 37909.832031\n"
     ]
    },
    {
     "name": "stderr",
     "output_type": "stream",
     "text": [
      "D:\\Anaconda3\\lib\\site-packages\\pyro\\poutine\\trace_struct.py:286: UserWarning: Encountered NaN: log_prob_sum at site 'layer1.u'\n",
      "  site[\"log_prob_sum\"], \"log_prob_sum at site '{}'\".format(name)\n",
      "D:\\Anaconda3\\lib\\site-packages\\pyro\\poutine\\trace_struct.py:286: UserWarning: Encountered NaN: log_prob_sum at site 'layer1.u'\n",
      "  site[\"log_prob_sum\"], \"log_prob_sum at site '{}'\".format(name)\n",
      "D:\\Anaconda3\\lib\\site-packages\\pyro\\poutine\\trace_struct.py:286: UserWarning: Encountered NaN: log_prob_sum at site 'layer1.u'\n",
      "  site[\"log_prob_sum\"], \"log_prob_sum at site '{}'\".format(name)\n",
      "D:\\Anaconda3\\lib\\site-packages\\pyro\\poutine\\trace_struct.py:286: UserWarning: Encountered NaN: log_prob_sum at site 'layer1.u'\n",
      "  site[\"log_prob_sum\"], \"log_prob_sum at site '{}'\".format(name)\n",
      "D:\\Anaconda3\\lib\\site-packages\\pyro\\poutine\\trace_struct.py:286: UserWarning: Encountered NaN: log_prob_sum at site 'layer1.u'\n",
      "  site[\"log_prob_sum\"], \"log_prob_sum at site '{}'\".format(name)\n",
      "D:\\Anaconda3\\lib\\site-packages\\pyro\\poutine\\trace_struct.py:286: UserWarning: Encountered NaN: log_prob_sum at site 'layer1.u'\n",
      "  site[\"log_prob_sum\"], \"log_prob_sum at site '{}'\".format(name)\n",
      "D:\\Anaconda3\\lib\\site-packages\\pyro\\poutine\\trace_struct.py:286: UserWarning: Encountered NaN: log_prob_sum at site 'layer1.u'\n",
      "  site[\"log_prob_sum\"], \"log_prob_sum at site '{}'\".format(name)\n",
      "D:\\Anaconda3\\lib\\site-packages\\pyro\\poutine\\trace_struct.py:286: UserWarning: Encountered NaN: log_prob_sum at site 'layer1.u'\n",
      "  site[\"log_prob_sum\"], \"log_prob_sum at site '{}'\".format(name)\n",
      "D:\\Anaconda3\\lib\\site-packages\\pyro\\poutine\\trace_struct.py:286: UserWarning: Encountered NaN: log_prob_sum at site 'layer1.u'\n",
      "  site[\"log_prob_sum\"], \"log_prob_sum at site '{}'\".format(name)\n",
      "D:\\Anaconda3\\lib\\site-packages\\pyro\\poutine\\trace_struct.py:286: UserWarning: Encountered NaN: log_prob_sum at site 'layer1.u'\n",
      "  site[\"log_prob_sum\"], \"log_prob_sum at site '{}'\".format(name)\n"
     ]
    },
    {
     "name": "stdout",
     "output_type": "stream",
     "text": [
      "Train Epoch:  5 [40000/60000 (67%)]\tLoss: 36772.085938\n"
     ]
    },
    {
     "name": "stderr",
     "output_type": "stream",
     "text": [
      "D:\\Anaconda3\\lib\\site-packages\\pyro\\poutine\\trace_struct.py:286: UserWarning: Encountered NaN: log_prob_sum at site 'layer1.u'\n",
      "  site[\"log_prob_sum\"], \"log_prob_sum at site '{}'\".format(name)\n",
      "D:\\Anaconda3\\lib\\site-packages\\pyro\\poutine\\trace_struct.py:286: UserWarning: Encountered NaN: log_prob_sum at site 'layer1.u'\n",
      "  site[\"log_prob_sum\"], \"log_prob_sum at site '{}'\".format(name)\n",
      "D:\\Anaconda3\\lib\\site-packages\\pyro\\poutine\\trace_struct.py:286: UserWarning: Encountered NaN: log_prob_sum at site 'layer1.u'\n",
      "  site[\"log_prob_sum\"], \"log_prob_sum at site '{}'\".format(name)\n",
      "D:\\Anaconda3\\lib\\site-packages\\pyro\\poutine\\trace_struct.py:286: UserWarning: Encountered NaN: log_prob_sum at site 'layer1.u'\n",
      "  site[\"log_prob_sum\"], \"log_prob_sum at site '{}'\".format(name)\n",
      "D:\\Anaconda3\\lib\\site-packages\\pyro\\poutine\\trace_struct.py:286: UserWarning: Encountered NaN: log_prob_sum at site 'layer1.u'\n",
      "  site[\"log_prob_sum\"], \"log_prob_sum at site '{}'\".format(name)\n",
      "D:\\Anaconda3\\lib\\site-packages\\pyro\\poutine\\trace_struct.py:286: UserWarning: Encountered NaN: log_prob_sum at site 'layer1.u'\n",
      "  site[\"log_prob_sum\"], \"log_prob_sum at site '{}'\".format(name)\n",
      "D:\\Anaconda3\\lib\\site-packages\\pyro\\poutine\\trace_struct.py:286: UserWarning: Encountered NaN: log_prob_sum at site 'layer1.u'\n",
      "  site[\"log_prob_sum\"], \"log_prob_sum at site '{}'\".format(name)\n",
      "D:\\Anaconda3\\lib\\site-packages\\pyro\\poutine\\trace_struct.py:286: UserWarning: Encountered NaN: log_prob_sum at site 'layer1.u'\n",
      "  site[\"log_prob_sum\"], \"log_prob_sum at site '{}'\".format(name)\n",
      "D:\\Anaconda3\\lib\\site-packages\\pyro\\poutine\\trace_struct.py:286: UserWarning: Encountered NaN: log_prob_sum at site 'layer1.u'\n",
      "  site[\"log_prob_sum\"], \"log_prob_sum at site '{}'\".format(name)\n",
      "D:\\Anaconda3\\lib\\site-packages\\pyro\\poutine\\trace_struct.py:286: UserWarning: Encountered NaN: log_prob_sum at site 'layer1.u'\n",
      "  site[\"log_prob_sum\"], \"log_prob_sum at site '{}'\".format(name)\n"
     ]
    },
    {
     "name": "stdout",
     "output_type": "stream",
     "text": [
      "Train Epoch:  5 [50000/60000 (83%)]\tLoss: 38290.140625\n"
     ]
    },
    {
     "name": "stderr",
     "output_type": "stream",
     "text": [
      "D:\\Anaconda3\\lib\\site-packages\\pyro\\poutine\\trace_struct.py:286: UserWarning: Encountered NaN: log_prob_sum at site 'layer1.u'\n",
      "  site[\"log_prob_sum\"], \"log_prob_sum at site '{}'\".format(name)\n",
      "D:\\Anaconda3\\lib\\site-packages\\pyro\\poutine\\trace_struct.py:286: UserWarning: Encountered NaN: log_prob_sum at site 'layer1.u'\n",
      "  site[\"log_prob_sum\"], \"log_prob_sum at site '{}'\".format(name)\n",
      "D:\\Anaconda3\\lib\\site-packages\\pyro\\poutine\\trace_struct.py:286: UserWarning: Encountered NaN: log_prob_sum at site 'layer1.u'\n",
      "  site[\"log_prob_sum\"], \"log_prob_sum at site '{}'\".format(name)\n",
      "D:\\Anaconda3\\lib\\site-packages\\pyro\\poutine\\trace_struct.py:286: UserWarning: Encountered NaN: log_prob_sum at site 'layer1.u'\n",
      "  site[\"log_prob_sum\"], \"log_prob_sum at site '{}'\".format(name)\n",
      "D:\\Anaconda3\\lib\\site-packages\\pyro\\poutine\\trace_struct.py:286: UserWarning: Encountered NaN: log_prob_sum at site 'layer1.u'\n",
      "  site[\"log_prob_sum\"], \"log_prob_sum at site '{}'\".format(name)\n",
      "D:\\Anaconda3\\lib\\site-packages\\pyro\\poutine\\trace_struct.py:286: UserWarning: Encountered NaN: log_prob_sum at site 'layer1.u'\n",
      "  site[\"log_prob_sum\"], \"log_prob_sum at site '{}'\".format(name)\n",
      "D:\\Anaconda3\\lib\\site-packages\\pyro\\poutine\\trace_struct.py:286: UserWarning: Encountered NaN: log_prob_sum at site 'layer1.u'\n",
      "  site[\"log_prob_sum\"], \"log_prob_sum at site '{}'\".format(name)\n",
      "D:\\Anaconda3\\lib\\site-packages\\pyro\\poutine\\trace_struct.py:286: UserWarning: Encountered NaN: log_prob_sum at site 'layer1.u'\n",
      "  site[\"log_prob_sum\"], \"log_prob_sum at site '{}'\".format(name)\n",
      "D:\\Anaconda3\\lib\\site-packages\\pyro\\poutine\\trace_struct.py:286: UserWarning: Encountered NaN: log_prob_sum at site 'layer1.u'\n",
      "  site[\"log_prob_sum\"], \"log_prob_sum at site '{}'\".format(name)\n",
      "D:\\Anaconda3\\lib\\site-packages\\pyro\\poutine\\trace_struct.py:286: UserWarning: Encountered NaN: log_prob_sum at site 'layer1.u'\n",
      "  site[\"log_prob_sum\"], \"log_prob_sum at site '{}'\".format(name)\n"
     ]
    },
    {
     "name": "stdout",
     "output_type": "stream",
     "text": [
      "Train Epoch:  5 [60000/60000 (100%)]\tLoss: 35065.460938\n",
      "\n",
      "Test set: Accuracy: 9488/10000 (94.88%)\n",
      "\n"
     ]
    },
    {
     "name": "stderr",
     "output_type": "stream",
     "text": [
      "D:\\Anaconda3\\lib\\site-packages\\pyro\\poutine\\trace_struct.py:286: UserWarning: Encountered NaN: log_prob_sum at site 'layer1.u'\n",
      "  site[\"log_prob_sum\"], \"log_prob_sum at site '{}'\".format(name)\n",
      "D:\\Anaconda3\\lib\\site-packages\\pyro\\poutine\\trace_struct.py:286: UserWarning: Encountered NaN: log_prob_sum at site 'layer1.u'\n",
      "  site[\"log_prob_sum\"], \"log_prob_sum at site '{}'\".format(name)\n",
      "D:\\Anaconda3\\lib\\site-packages\\pyro\\poutine\\trace_struct.py:286: UserWarning: Encountered NaN: log_prob_sum at site 'layer1.u'\n",
      "  site[\"log_prob_sum\"], \"log_prob_sum at site '{}'\".format(name)\n",
      "D:\\Anaconda3\\lib\\site-packages\\pyro\\poutine\\trace_struct.py:286: UserWarning: Encountered NaN: log_prob_sum at site 'layer1.u'\n",
      "  site[\"log_prob_sum\"], \"log_prob_sum at site '{}'\".format(name)\n",
      "D:\\Anaconda3\\lib\\site-packages\\pyro\\poutine\\trace_struct.py:286: UserWarning: Encountered NaN: log_prob_sum at site 'layer1.u'\n",
      "  site[\"log_prob_sum\"], \"log_prob_sum at site '{}'\".format(name)\n",
      "D:\\Anaconda3\\lib\\site-packages\\pyro\\poutine\\trace_struct.py:286: UserWarning: Encountered NaN: log_prob_sum at site 'layer1.u'\n",
      "  site[\"log_prob_sum\"], \"log_prob_sum at site '{}'\".format(name)\n",
      "D:\\Anaconda3\\lib\\site-packages\\pyro\\poutine\\trace_struct.py:286: UserWarning: Encountered NaN: log_prob_sum at site 'layer1.u'\n",
      "  site[\"log_prob_sum\"], \"log_prob_sum at site '{}'\".format(name)\n",
      "D:\\Anaconda3\\lib\\site-packages\\pyro\\poutine\\trace_struct.py:286: UserWarning: Encountered NaN: log_prob_sum at site 'layer1.u'\n",
      "  site[\"log_prob_sum\"], \"log_prob_sum at site '{}'\".format(name)\n",
      "D:\\Anaconda3\\lib\\site-packages\\pyro\\poutine\\trace_struct.py:286: UserWarning: Encountered NaN: log_prob_sum at site 'layer1.u'\n",
      "  site[\"log_prob_sum\"], \"log_prob_sum at site '{}'\".format(name)\n",
      "D:\\Anaconda3\\lib\\site-packages\\pyro\\poutine\\trace_struct.py:286: UserWarning: Encountered NaN: log_prob_sum at site 'layer1.u'\n",
      "  site[\"log_prob_sum\"], \"log_prob_sum at site '{}'\".format(name)\n"
     ]
    },
    {
     "name": "stdout",
     "output_type": "stream",
     "text": [
      "Train Epoch:  6 [10000/60000 (17%)]\tLoss: 37082.191406\n"
     ]
    },
    {
     "name": "stderr",
     "output_type": "stream",
     "text": [
      "D:\\Anaconda3\\lib\\site-packages\\pyro\\poutine\\trace_struct.py:286: UserWarning: Encountered NaN: log_prob_sum at site 'layer1.u'\n",
      "  site[\"log_prob_sum\"], \"log_prob_sum at site '{}'\".format(name)\n",
      "D:\\Anaconda3\\lib\\site-packages\\pyro\\poutine\\trace_struct.py:286: UserWarning: Encountered NaN: log_prob_sum at site 'layer1.u'\n",
      "  site[\"log_prob_sum\"], \"log_prob_sum at site '{}'\".format(name)\n",
      "D:\\Anaconda3\\lib\\site-packages\\pyro\\poutine\\trace_struct.py:286: UserWarning: Encountered NaN: log_prob_sum at site 'layer1.u'\n",
      "  site[\"log_prob_sum\"], \"log_prob_sum at site '{}'\".format(name)\n",
      "D:\\Anaconda3\\lib\\site-packages\\pyro\\poutine\\trace_struct.py:286: UserWarning: Encountered NaN: log_prob_sum at site 'layer1.u'\n",
      "  site[\"log_prob_sum\"], \"log_prob_sum at site '{}'\".format(name)\n",
      "D:\\Anaconda3\\lib\\site-packages\\pyro\\poutine\\trace_struct.py:286: UserWarning: Encountered NaN: log_prob_sum at site 'layer1.u'\n",
      "  site[\"log_prob_sum\"], \"log_prob_sum at site '{}'\".format(name)\n",
      "D:\\Anaconda3\\lib\\site-packages\\pyro\\poutine\\trace_struct.py:286: UserWarning: Encountered NaN: log_prob_sum at site 'layer1.u'\n",
      "  site[\"log_prob_sum\"], \"log_prob_sum at site '{}'\".format(name)\n",
      "D:\\Anaconda3\\lib\\site-packages\\pyro\\poutine\\trace_struct.py:286: UserWarning: Encountered NaN: log_prob_sum at site 'layer1.u'\n",
      "  site[\"log_prob_sum\"], \"log_prob_sum at site '{}'\".format(name)\n",
      "D:\\Anaconda3\\lib\\site-packages\\pyro\\poutine\\trace_struct.py:286: UserWarning: Encountered NaN: log_prob_sum at site 'layer1.u'\n",
      "  site[\"log_prob_sum\"], \"log_prob_sum at site '{}'\".format(name)\n",
      "D:\\Anaconda3\\lib\\site-packages\\pyro\\poutine\\trace_struct.py:286: UserWarning: Encountered NaN: log_prob_sum at site 'layer1.u'\n",
      "  site[\"log_prob_sum\"], \"log_prob_sum at site '{}'\".format(name)\n",
      "D:\\Anaconda3\\lib\\site-packages\\pyro\\poutine\\trace_struct.py:286: UserWarning: Encountered NaN: log_prob_sum at site 'layer1.u'\n",
      "  site[\"log_prob_sum\"], \"log_prob_sum at site '{}'\".format(name)\n"
     ]
    },
    {
     "name": "stdout",
     "output_type": "stream",
     "text": [
      "Train Epoch:  6 [20000/60000 (33%)]\tLoss: 36745.191406\n"
     ]
    },
    {
     "name": "stderr",
     "output_type": "stream",
     "text": [
      "D:\\Anaconda3\\lib\\site-packages\\pyro\\poutine\\trace_struct.py:286: UserWarning: Encountered NaN: log_prob_sum at site 'layer1.u'\n",
      "  site[\"log_prob_sum\"], \"log_prob_sum at site '{}'\".format(name)\n",
      "D:\\Anaconda3\\lib\\site-packages\\pyro\\poutine\\trace_struct.py:286: UserWarning: Encountered NaN: log_prob_sum at site 'layer1.u'\n",
      "  site[\"log_prob_sum\"], \"log_prob_sum at site '{}'\".format(name)\n",
      "D:\\Anaconda3\\lib\\site-packages\\pyro\\poutine\\trace_struct.py:286: UserWarning: Encountered NaN: log_prob_sum at site 'layer1.u'\n",
      "  site[\"log_prob_sum\"], \"log_prob_sum at site '{}'\".format(name)\n",
      "D:\\Anaconda3\\lib\\site-packages\\pyro\\poutine\\trace_struct.py:286: UserWarning: Encountered NaN: log_prob_sum at site 'layer1.u'\n",
      "  site[\"log_prob_sum\"], \"log_prob_sum at site '{}'\".format(name)\n",
      "D:\\Anaconda3\\lib\\site-packages\\pyro\\poutine\\trace_struct.py:286: UserWarning: Encountered NaN: log_prob_sum at site 'layer1.u'\n",
      "  site[\"log_prob_sum\"], \"log_prob_sum at site '{}'\".format(name)\n",
      "D:\\Anaconda3\\lib\\site-packages\\pyro\\poutine\\trace_struct.py:286: UserWarning: Encountered NaN: log_prob_sum at site 'layer1.u'\n",
      "  site[\"log_prob_sum\"], \"log_prob_sum at site '{}'\".format(name)\n",
      "D:\\Anaconda3\\lib\\site-packages\\pyro\\poutine\\trace_struct.py:286: UserWarning: Encountered NaN: log_prob_sum at site 'layer1.u'\n",
      "  site[\"log_prob_sum\"], \"log_prob_sum at site '{}'\".format(name)\n",
      "D:\\Anaconda3\\lib\\site-packages\\pyro\\poutine\\trace_struct.py:286: UserWarning: Encountered NaN: log_prob_sum at site 'layer1.u'\n",
      "  site[\"log_prob_sum\"], \"log_prob_sum at site '{}'\".format(name)\n",
      "D:\\Anaconda3\\lib\\site-packages\\pyro\\poutine\\trace_struct.py:286: UserWarning: Encountered NaN: log_prob_sum at site 'layer1.u'\n",
      "  site[\"log_prob_sum\"], \"log_prob_sum at site '{}'\".format(name)\n",
      "D:\\Anaconda3\\lib\\site-packages\\pyro\\poutine\\trace_struct.py:286: UserWarning: Encountered NaN: log_prob_sum at site 'layer1.u'\n",
      "  site[\"log_prob_sum\"], \"log_prob_sum at site '{}'\".format(name)\n"
     ]
    },
    {
     "name": "stdout",
     "output_type": "stream",
     "text": [
      "Train Epoch:  6 [30000/60000 (50%)]\tLoss: 38612.132812\n"
     ]
    },
    {
     "name": "stderr",
     "output_type": "stream",
     "text": [
      "D:\\Anaconda3\\lib\\site-packages\\pyro\\poutine\\trace_struct.py:286: UserWarning: Encountered NaN: log_prob_sum at site 'layer1.u'\n",
      "  site[\"log_prob_sum\"], \"log_prob_sum at site '{}'\".format(name)\n",
      "D:\\Anaconda3\\lib\\site-packages\\pyro\\poutine\\trace_struct.py:286: UserWarning: Encountered NaN: log_prob_sum at site 'layer1.u'\n",
      "  site[\"log_prob_sum\"], \"log_prob_sum at site '{}'\".format(name)\n",
      "D:\\Anaconda3\\lib\\site-packages\\pyro\\poutine\\trace_struct.py:286: UserWarning: Encountered NaN: log_prob_sum at site 'layer1.u'\n",
      "  site[\"log_prob_sum\"], \"log_prob_sum at site '{}'\".format(name)\n",
      "D:\\Anaconda3\\lib\\site-packages\\pyro\\poutine\\trace_struct.py:286: UserWarning: Encountered NaN: log_prob_sum at site 'layer1.u'\n",
      "  site[\"log_prob_sum\"], \"log_prob_sum at site '{}'\".format(name)\n",
      "D:\\Anaconda3\\lib\\site-packages\\pyro\\poutine\\trace_struct.py:286: UserWarning: Encountered NaN: log_prob_sum at site 'layer1.u'\n",
      "  site[\"log_prob_sum\"], \"log_prob_sum at site '{}'\".format(name)\n",
      "D:\\Anaconda3\\lib\\site-packages\\pyro\\poutine\\trace_struct.py:286: UserWarning: Encountered NaN: log_prob_sum at site 'layer1.u'\n",
      "  site[\"log_prob_sum\"], \"log_prob_sum at site '{}'\".format(name)\n",
      "D:\\Anaconda3\\lib\\site-packages\\pyro\\poutine\\trace_struct.py:286: UserWarning: Encountered NaN: log_prob_sum at site 'layer1.u'\n",
      "  site[\"log_prob_sum\"], \"log_prob_sum at site '{}'\".format(name)\n",
      "D:\\Anaconda3\\lib\\site-packages\\pyro\\poutine\\trace_struct.py:286: UserWarning: Encountered NaN: log_prob_sum at site 'layer1.u'\n",
      "  site[\"log_prob_sum\"], \"log_prob_sum at site '{}'\".format(name)\n",
      "D:\\Anaconda3\\lib\\site-packages\\pyro\\poutine\\trace_struct.py:286: UserWarning: Encountered NaN: log_prob_sum at site 'layer1.u'\n",
      "  site[\"log_prob_sum\"], \"log_prob_sum at site '{}'\".format(name)\n",
      "D:\\Anaconda3\\lib\\site-packages\\pyro\\poutine\\trace_struct.py:286: UserWarning: Encountered NaN: log_prob_sum at site 'layer1.u'\n",
      "  site[\"log_prob_sum\"], \"log_prob_sum at site '{}'\".format(name)\n"
     ]
    },
    {
     "name": "stdout",
     "output_type": "stream",
     "text": [
      "Train Epoch:  6 [40000/60000 (67%)]\tLoss: 35505.199219\n"
     ]
    },
    {
     "name": "stderr",
     "output_type": "stream",
     "text": [
      "D:\\Anaconda3\\lib\\site-packages\\pyro\\poutine\\trace_struct.py:286: UserWarning: Encountered NaN: log_prob_sum at site 'layer1.u'\n",
      "  site[\"log_prob_sum\"], \"log_prob_sum at site '{}'\".format(name)\n",
      "D:\\Anaconda3\\lib\\site-packages\\pyro\\poutine\\trace_struct.py:286: UserWarning: Encountered NaN: log_prob_sum at site 'layer1.u'\n",
      "  site[\"log_prob_sum\"], \"log_prob_sum at site '{}'\".format(name)\n",
      "D:\\Anaconda3\\lib\\site-packages\\pyro\\poutine\\trace_struct.py:286: UserWarning: Encountered NaN: log_prob_sum at site 'layer1.u'\n",
      "  site[\"log_prob_sum\"], \"log_prob_sum at site '{}'\".format(name)\n",
      "D:\\Anaconda3\\lib\\site-packages\\pyro\\poutine\\trace_struct.py:286: UserWarning: Encountered NaN: log_prob_sum at site 'layer1.u'\n",
      "  site[\"log_prob_sum\"], \"log_prob_sum at site '{}'\".format(name)\n",
      "D:\\Anaconda3\\lib\\site-packages\\pyro\\poutine\\trace_struct.py:286: UserWarning: Encountered NaN: log_prob_sum at site 'layer1.u'\n",
      "  site[\"log_prob_sum\"], \"log_prob_sum at site '{}'\".format(name)\n",
      "D:\\Anaconda3\\lib\\site-packages\\pyro\\poutine\\trace_struct.py:286: UserWarning: Encountered NaN: log_prob_sum at site 'layer1.u'\n",
      "  site[\"log_prob_sum\"], \"log_prob_sum at site '{}'\".format(name)\n",
      "D:\\Anaconda3\\lib\\site-packages\\pyro\\poutine\\trace_struct.py:286: UserWarning: Encountered NaN: log_prob_sum at site 'layer1.u'\n",
      "  site[\"log_prob_sum\"], \"log_prob_sum at site '{}'\".format(name)\n",
      "D:\\Anaconda3\\lib\\site-packages\\pyro\\poutine\\trace_struct.py:286: UserWarning: Encountered NaN: log_prob_sum at site 'layer1.u'\n",
      "  site[\"log_prob_sum\"], \"log_prob_sum at site '{}'\".format(name)\n",
      "D:\\Anaconda3\\lib\\site-packages\\pyro\\poutine\\trace_struct.py:286: UserWarning: Encountered NaN: log_prob_sum at site 'layer1.u'\n",
      "  site[\"log_prob_sum\"], \"log_prob_sum at site '{}'\".format(name)\n",
      "D:\\Anaconda3\\lib\\site-packages\\pyro\\poutine\\trace_struct.py:286: UserWarning: Encountered NaN: log_prob_sum at site 'layer1.u'\n",
      "  site[\"log_prob_sum\"], \"log_prob_sum at site '{}'\".format(name)\n"
     ]
    },
    {
     "name": "stdout",
     "output_type": "stream",
     "text": [
      "Train Epoch:  6 [50000/60000 (83%)]\tLoss: 35094.730469\n"
     ]
    },
    {
     "name": "stderr",
     "output_type": "stream",
     "text": [
      "D:\\Anaconda3\\lib\\site-packages\\pyro\\poutine\\trace_struct.py:286: UserWarning: Encountered NaN: log_prob_sum at site 'layer1.u'\n",
      "  site[\"log_prob_sum\"], \"log_prob_sum at site '{}'\".format(name)\n",
      "D:\\Anaconda3\\lib\\site-packages\\pyro\\poutine\\trace_struct.py:286: UserWarning: Encountered NaN: log_prob_sum at site 'layer1.u'\n",
      "  site[\"log_prob_sum\"], \"log_prob_sum at site '{}'\".format(name)\n",
      "D:\\Anaconda3\\lib\\site-packages\\pyro\\poutine\\trace_struct.py:286: UserWarning: Encountered NaN: log_prob_sum at site 'layer1.u'\n",
      "  site[\"log_prob_sum\"], \"log_prob_sum at site '{}'\".format(name)\n",
      "D:\\Anaconda3\\lib\\site-packages\\pyro\\poutine\\trace_struct.py:286: UserWarning: Encountered NaN: log_prob_sum at site 'layer1.u'\n",
      "  site[\"log_prob_sum\"], \"log_prob_sum at site '{}'\".format(name)\n",
      "D:\\Anaconda3\\lib\\site-packages\\pyro\\poutine\\trace_struct.py:286: UserWarning: Encountered NaN: log_prob_sum at site 'layer1.u'\n",
      "  site[\"log_prob_sum\"], \"log_prob_sum at site '{}'\".format(name)\n",
      "D:\\Anaconda3\\lib\\site-packages\\pyro\\poutine\\trace_struct.py:286: UserWarning: Encountered NaN: log_prob_sum at site 'layer1.u'\n",
      "  site[\"log_prob_sum\"], \"log_prob_sum at site '{}'\".format(name)\n",
      "D:\\Anaconda3\\lib\\site-packages\\pyro\\poutine\\trace_struct.py:286: UserWarning: Encountered NaN: log_prob_sum at site 'layer1.u'\n",
      "  site[\"log_prob_sum\"], \"log_prob_sum at site '{}'\".format(name)\n",
      "D:\\Anaconda3\\lib\\site-packages\\pyro\\poutine\\trace_struct.py:286: UserWarning: Encountered NaN: log_prob_sum at site 'layer1.u'\n",
      "  site[\"log_prob_sum\"], \"log_prob_sum at site '{}'\".format(name)\n",
      "D:\\Anaconda3\\lib\\site-packages\\pyro\\poutine\\trace_struct.py:286: UserWarning: Encountered NaN: log_prob_sum at site 'layer1.u'\n",
      "  site[\"log_prob_sum\"], \"log_prob_sum at site '{}'\".format(name)\n",
      "D:\\Anaconda3\\lib\\site-packages\\pyro\\poutine\\trace_struct.py:286: UserWarning: Encountered NaN: log_prob_sum at site 'layer1.u'\n",
      "  site[\"log_prob_sum\"], \"log_prob_sum at site '{}'\".format(name)\n"
     ]
    },
    {
     "name": "stdout",
     "output_type": "stream",
     "text": [
      "Train Epoch:  6 [60000/60000 (100%)]\tLoss: 34895.222656\n",
      "\n",
      "Test set: Accuracy: 9517/10000 (95.17%)\n",
      "\n"
     ]
    },
    {
     "name": "stderr",
     "output_type": "stream",
     "text": [
      "D:\\Anaconda3\\lib\\site-packages\\pyro\\poutine\\trace_struct.py:286: UserWarning: Encountered NaN: log_prob_sum at site 'layer1.u'\n",
      "  site[\"log_prob_sum\"], \"log_prob_sum at site '{}'\".format(name)\n",
      "D:\\Anaconda3\\lib\\site-packages\\pyro\\poutine\\trace_struct.py:286: UserWarning: Encountered NaN: log_prob_sum at site 'layer1.u'\n",
      "  site[\"log_prob_sum\"], \"log_prob_sum at site '{}'\".format(name)\n",
      "D:\\Anaconda3\\lib\\site-packages\\pyro\\poutine\\trace_struct.py:286: UserWarning: Encountered NaN: log_prob_sum at site 'layer1.u'\n",
      "  site[\"log_prob_sum\"], \"log_prob_sum at site '{}'\".format(name)\n",
      "D:\\Anaconda3\\lib\\site-packages\\pyro\\poutine\\trace_struct.py:286: UserWarning: Encountered NaN: log_prob_sum at site 'layer1.u'\n",
      "  site[\"log_prob_sum\"], \"log_prob_sum at site '{}'\".format(name)\n",
      "D:\\Anaconda3\\lib\\site-packages\\pyro\\poutine\\trace_struct.py:286: UserWarning: Encountered NaN: log_prob_sum at site 'layer1.u'\n",
      "  site[\"log_prob_sum\"], \"log_prob_sum at site '{}'\".format(name)\n",
      "D:\\Anaconda3\\lib\\site-packages\\pyro\\poutine\\trace_struct.py:286: UserWarning: Encountered NaN: log_prob_sum at site 'layer1.u'\n",
      "  site[\"log_prob_sum\"], \"log_prob_sum at site '{}'\".format(name)\n",
      "D:\\Anaconda3\\lib\\site-packages\\pyro\\poutine\\trace_struct.py:286: UserWarning: Encountered NaN: log_prob_sum at site 'layer1.u'\n",
      "  site[\"log_prob_sum\"], \"log_prob_sum at site '{}'\".format(name)\n",
      "D:\\Anaconda3\\lib\\site-packages\\pyro\\poutine\\trace_struct.py:286: UserWarning: Encountered NaN: log_prob_sum at site 'layer1.u'\n",
      "  site[\"log_prob_sum\"], \"log_prob_sum at site '{}'\".format(name)\n",
      "D:\\Anaconda3\\lib\\site-packages\\pyro\\poutine\\trace_struct.py:286: UserWarning: Encountered NaN: log_prob_sum at site 'layer1.u'\n",
      "  site[\"log_prob_sum\"], \"log_prob_sum at site '{}'\".format(name)\n",
      "D:\\Anaconda3\\lib\\site-packages\\pyro\\poutine\\trace_struct.py:286: UserWarning: Encountered NaN: log_prob_sum at site 'layer1.u'\n",
      "  site[\"log_prob_sum\"], \"log_prob_sum at site '{}'\".format(name)\n"
     ]
    },
    {
     "name": "stdout",
     "output_type": "stream",
     "text": [
      "Train Epoch:  7 [10000/60000 (17%)]\tLoss: 34877.875000\n"
     ]
    },
    {
     "name": "stderr",
     "output_type": "stream",
     "text": [
      "D:\\Anaconda3\\lib\\site-packages\\pyro\\poutine\\trace_struct.py:286: UserWarning: Encountered NaN: log_prob_sum at site 'layer1.u'\n",
      "  site[\"log_prob_sum\"], \"log_prob_sum at site '{}'\".format(name)\n",
      "D:\\Anaconda3\\lib\\site-packages\\pyro\\poutine\\trace_struct.py:286: UserWarning: Encountered NaN: log_prob_sum at site 'layer1.u'\n",
      "  site[\"log_prob_sum\"], \"log_prob_sum at site '{}'\".format(name)\n",
      "D:\\Anaconda3\\lib\\site-packages\\pyro\\poutine\\trace_struct.py:286: UserWarning: Encountered NaN: log_prob_sum at site 'layer1.u'\n",
      "  site[\"log_prob_sum\"], \"log_prob_sum at site '{}'\".format(name)\n",
      "D:\\Anaconda3\\lib\\site-packages\\pyro\\poutine\\trace_struct.py:286: UserWarning: Encountered NaN: log_prob_sum at site 'layer1.u'\n",
      "  site[\"log_prob_sum\"], \"log_prob_sum at site '{}'\".format(name)\n",
      "D:\\Anaconda3\\lib\\site-packages\\pyro\\poutine\\trace_struct.py:286: UserWarning: Encountered NaN: log_prob_sum at site 'layer1.u'\n",
      "  site[\"log_prob_sum\"], \"log_prob_sum at site '{}'\".format(name)\n",
      "D:\\Anaconda3\\lib\\site-packages\\pyro\\poutine\\trace_struct.py:286: UserWarning: Encountered NaN: log_prob_sum at site 'layer1.u'\n",
      "  site[\"log_prob_sum\"], \"log_prob_sum at site '{}'\".format(name)\n",
      "D:\\Anaconda3\\lib\\site-packages\\pyro\\poutine\\trace_struct.py:286: UserWarning: Encountered NaN: log_prob_sum at site 'layer1.u'\n",
      "  site[\"log_prob_sum\"], \"log_prob_sum at site '{}'\".format(name)\n",
      "D:\\Anaconda3\\lib\\site-packages\\pyro\\poutine\\trace_struct.py:286: UserWarning: Encountered NaN: log_prob_sum at site 'layer1.u'\n",
      "  site[\"log_prob_sum\"], \"log_prob_sum at site '{}'\".format(name)\n",
      "D:\\Anaconda3\\lib\\site-packages\\pyro\\poutine\\trace_struct.py:286: UserWarning: Encountered NaN: log_prob_sum at site 'layer1.u'\n",
      "  site[\"log_prob_sum\"], \"log_prob_sum at site '{}'\".format(name)\n",
      "D:\\Anaconda3\\lib\\site-packages\\pyro\\poutine\\trace_struct.py:286: UserWarning: Encountered NaN: log_prob_sum at site 'layer1.u'\n",
      "  site[\"log_prob_sum\"], \"log_prob_sum at site '{}'\".format(name)\n"
     ]
    },
    {
     "name": "stdout",
     "output_type": "stream",
     "text": [
      "Train Epoch:  7 [20000/60000 (33%)]\tLoss: 33469.667969\n"
     ]
    },
    {
     "name": "stderr",
     "output_type": "stream",
     "text": [
      "D:\\Anaconda3\\lib\\site-packages\\pyro\\poutine\\trace_struct.py:286: UserWarning: Encountered NaN: log_prob_sum at site 'layer1.u'\n",
      "  site[\"log_prob_sum\"], \"log_prob_sum at site '{}'\".format(name)\n",
      "D:\\Anaconda3\\lib\\site-packages\\pyro\\poutine\\trace_struct.py:286: UserWarning: Encountered NaN: log_prob_sum at site 'layer1.u'\n",
      "  site[\"log_prob_sum\"], \"log_prob_sum at site '{}'\".format(name)\n",
      "D:\\Anaconda3\\lib\\site-packages\\pyro\\poutine\\trace_struct.py:286: UserWarning: Encountered NaN: log_prob_sum at site 'layer1.u'\n",
      "  site[\"log_prob_sum\"], \"log_prob_sum at site '{}'\".format(name)\n",
      "D:\\Anaconda3\\lib\\site-packages\\pyro\\poutine\\trace_struct.py:286: UserWarning: Encountered NaN: log_prob_sum at site 'layer1.u'\n",
      "  site[\"log_prob_sum\"], \"log_prob_sum at site '{}'\".format(name)\n",
      "D:\\Anaconda3\\lib\\site-packages\\pyro\\poutine\\trace_struct.py:286: UserWarning: Encountered NaN: log_prob_sum at site 'layer1.u'\n",
      "  site[\"log_prob_sum\"], \"log_prob_sum at site '{}'\".format(name)\n",
      "D:\\Anaconda3\\lib\\site-packages\\pyro\\poutine\\trace_struct.py:286: UserWarning: Encountered NaN: log_prob_sum at site 'layer1.u'\n",
      "  site[\"log_prob_sum\"], \"log_prob_sum at site '{}'\".format(name)\n",
      "D:\\Anaconda3\\lib\\site-packages\\pyro\\poutine\\trace_struct.py:286: UserWarning: Encountered NaN: log_prob_sum at site 'layer1.u'\n",
      "  site[\"log_prob_sum\"], \"log_prob_sum at site '{}'\".format(name)\n",
      "D:\\Anaconda3\\lib\\site-packages\\pyro\\poutine\\trace_struct.py:286: UserWarning: Encountered NaN: log_prob_sum at site 'layer1.u'\n",
      "  site[\"log_prob_sum\"], \"log_prob_sum at site '{}'\".format(name)\n",
      "D:\\Anaconda3\\lib\\site-packages\\pyro\\poutine\\trace_struct.py:286: UserWarning: Encountered NaN: log_prob_sum at site 'layer1.u'\n",
      "  site[\"log_prob_sum\"], \"log_prob_sum at site '{}'\".format(name)\n",
      "D:\\Anaconda3\\lib\\site-packages\\pyro\\poutine\\trace_struct.py:286: UserWarning: Encountered NaN: log_prob_sum at site 'layer1.u'\n",
      "  site[\"log_prob_sum\"], \"log_prob_sum at site '{}'\".format(name)\n"
     ]
    },
    {
     "name": "stdout",
     "output_type": "stream",
     "text": [
      "Train Epoch:  7 [30000/60000 (50%)]\tLoss: 34391.578125\n"
     ]
    },
    {
     "name": "stderr",
     "output_type": "stream",
     "text": [
      "D:\\Anaconda3\\lib\\site-packages\\pyro\\poutine\\trace_struct.py:286: UserWarning: Encountered NaN: log_prob_sum at site 'layer1.u'\n",
      "  site[\"log_prob_sum\"], \"log_prob_sum at site '{}'\".format(name)\n",
      "D:\\Anaconda3\\lib\\site-packages\\pyro\\poutine\\trace_struct.py:286: UserWarning: Encountered NaN: log_prob_sum at site 'layer1.u'\n",
      "  site[\"log_prob_sum\"], \"log_prob_sum at site '{}'\".format(name)\n",
      "D:\\Anaconda3\\lib\\site-packages\\pyro\\poutine\\trace_struct.py:286: UserWarning: Encountered NaN: log_prob_sum at site 'layer1.u'\n",
      "  site[\"log_prob_sum\"], \"log_prob_sum at site '{}'\".format(name)\n",
      "D:\\Anaconda3\\lib\\site-packages\\pyro\\poutine\\trace_struct.py:286: UserWarning: Encountered NaN: log_prob_sum at site 'layer1.u'\n",
      "  site[\"log_prob_sum\"], \"log_prob_sum at site '{}'\".format(name)\n",
      "D:\\Anaconda3\\lib\\site-packages\\pyro\\poutine\\trace_struct.py:286: UserWarning: Encountered NaN: log_prob_sum at site 'layer1.u'\n",
      "  site[\"log_prob_sum\"], \"log_prob_sum at site '{}'\".format(name)\n",
      "D:\\Anaconda3\\lib\\site-packages\\pyro\\poutine\\trace_struct.py:286: UserWarning: Encountered NaN: log_prob_sum at site 'layer1.u'\n",
      "  site[\"log_prob_sum\"], \"log_prob_sum at site '{}'\".format(name)\n",
      "D:\\Anaconda3\\lib\\site-packages\\pyro\\poutine\\trace_struct.py:286: UserWarning: Encountered NaN: log_prob_sum at site 'layer1.u'\n",
      "  site[\"log_prob_sum\"], \"log_prob_sum at site '{}'\".format(name)\n",
      "D:\\Anaconda3\\lib\\site-packages\\pyro\\poutine\\trace_struct.py:286: UserWarning: Encountered NaN: log_prob_sum at site 'layer1.u'\n",
      "  site[\"log_prob_sum\"], \"log_prob_sum at site '{}'\".format(name)\n",
      "D:\\Anaconda3\\lib\\site-packages\\pyro\\poutine\\trace_struct.py:286: UserWarning: Encountered NaN: log_prob_sum at site 'layer1.u'\n",
      "  site[\"log_prob_sum\"], \"log_prob_sum at site '{}'\".format(name)\n",
      "D:\\Anaconda3\\lib\\site-packages\\pyro\\poutine\\trace_struct.py:286: UserWarning: Encountered NaN: log_prob_sum at site 'layer1.u'\n",
      "  site[\"log_prob_sum\"], \"log_prob_sum at site '{}'\".format(name)\n"
     ]
    },
    {
     "name": "stdout",
     "output_type": "stream",
     "text": [
      "Train Epoch:  7 [40000/60000 (67%)]\tLoss: 34431.496094\n"
     ]
    },
    {
     "name": "stderr",
     "output_type": "stream",
     "text": [
      "D:\\Anaconda3\\lib\\site-packages\\pyro\\poutine\\trace_struct.py:286: UserWarning: Encountered NaN: log_prob_sum at site 'layer1.u'\n",
      "  site[\"log_prob_sum\"], \"log_prob_sum at site '{}'\".format(name)\n",
      "D:\\Anaconda3\\lib\\site-packages\\pyro\\poutine\\trace_struct.py:286: UserWarning: Encountered NaN: log_prob_sum at site 'layer1.u'\n",
      "  site[\"log_prob_sum\"], \"log_prob_sum at site '{}'\".format(name)\n",
      "D:\\Anaconda3\\lib\\site-packages\\pyro\\poutine\\trace_struct.py:286: UserWarning: Encountered NaN: log_prob_sum at site 'layer1.u'\n",
      "  site[\"log_prob_sum\"], \"log_prob_sum at site '{}'\".format(name)\n",
      "D:\\Anaconda3\\lib\\site-packages\\pyro\\poutine\\trace_struct.py:286: UserWarning: Encountered NaN: log_prob_sum at site 'layer1.u'\n",
      "  site[\"log_prob_sum\"], \"log_prob_sum at site '{}'\".format(name)\n",
      "D:\\Anaconda3\\lib\\site-packages\\pyro\\poutine\\trace_struct.py:286: UserWarning: Encountered NaN: log_prob_sum at site 'layer1.u'\n",
      "  site[\"log_prob_sum\"], \"log_prob_sum at site '{}'\".format(name)\n",
      "D:\\Anaconda3\\lib\\site-packages\\pyro\\poutine\\trace_struct.py:286: UserWarning: Encountered NaN: log_prob_sum at site 'layer1.u'\n",
      "  site[\"log_prob_sum\"], \"log_prob_sum at site '{}'\".format(name)\n",
      "D:\\Anaconda3\\lib\\site-packages\\pyro\\poutine\\trace_struct.py:286: UserWarning: Encountered NaN: log_prob_sum at site 'layer1.u'\n",
      "  site[\"log_prob_sum\"], \"log_prob_sum at site '{}'\".format(name)\n",
      "D:\\Anaconda3\\lib\\site-packages\\pyro\\poutine\\trace_struct.py:286: UserWarning: Encountered NaN: log_prob_sum at site 'layer1.u'\n",
      "  site[\"log_prob_sum\"], \"log_prob_sum at site '{}'\".format(name)\n",
      "D:\\Anaconda3\\lib\\site-packages\\pyro\\poutine\\trace_struct.py:286: UserWarning: Encountered NaN: log_prob_sum at site 'layer1.u'\n",
      "  site[\"log_prob_sum\"], \"log_prob_sum at site '{}'\".format(name)\n",
      "D:\\Anaconda3\\lib\\site-packages\\pyro\\poutine\\trace_struct.py:286: UserWarning: Encountered NaN: log_prob_sum at site 'layer1.u'\n",
      "  site[\"log_prob_sum\"], \"log_prob_sum at site '{}'\".format(name)\n"
     ]
    },
    {
     "name": "stdout",
     "output_type": "stream",
     "text": [
      "Train Epoch:  7 [50000/60000 (83%)]\tLoss: 31384.328125\n"
     ]
    },
    {
     "name": "stderr",
     "output_type": "stream",
     "text": [
      "D:\\Anaconda3\\lib\\site-packages\\pyro\\poutine\\trace_struct.py:286: UserWarning: Encountered NaN: log_prob_sum at site 'layer1.u'\n",
      "  site[\"log_prob_sum\"], \"log_prob_sum at site '{}'\".format(name)\n",
      "D:\\Anaconda3\\lib\\site-packages\\pyro\\poutine\\trace_struct.py:286: UserWarning: Encountered NaN: log_prob_sum at site 'layer1.u'\n",
      "  site[\"log_prob_sum\"], \"log_prob_sum at site '{}'\".format(name)\n",
      "D:\\Anaconda3\\lib\\site-packages\\pyro\\poutine\\trace_struct.py:286: UserWarning: Encountered NaN: log_prob_sum at site 'layer1.u'\n",
      "  site[\"log_prob_sum\"], \"log_prob_sum at site '{}'\".format(name)\n",
      "D:\\Anaconda3\\lib\\site-packages\\pyro\\poutine\\trace_struct.py:286: UserWarning: Encountered NaN: log_prob_sum at site 'layer1.u'\n",
      "  site[\"log_prob_sum\"], \"log_prob_sum at site '{}'\".format(name)\n",
      "D:\\Anaconda3\\lib\\site-packages\\pyro\\poutine\\trace_struct.py:286: UserWarning: Encountered NaN: log_prob_sum at site 'layer1.u'\n",
      "  site[\"log_prob_sum\"], \"log_prob_sum at site '{}'\".format(name)\n",
      "D:\\Anaconda3\\lib\\site-packages\\pyro\\poutine\\trace_struct.py:286: UserWarning: Encountered NaN: log_prob_sum at site 'layer1.u'\n",
      "  site[\"log_prob_sum\"], \"log_prob_sum at site '{}'\".format(name)\n",
      "D:\\Anaconda3\\lib\\site-packages\\pyro\\poutine\\trace_struct.py:286: UserWarning: Encountered NaN: log_prob_sum at site 'layer1.u'\n",
      "  site[\"log_prob_sum\"], \"log_prob_sum at site '{}'\".format(name)\n",
      "D:\\Anaconda3\\lib\\site-packages\\pyro\\poutine\\trace_struct.py:286: UserWarning: Encountered NaN: log_prob_sum at site 'layer1.u'\n",
      "  site[\"log_prob_sum\"], \"log_prob_sum at site '{}'\".format(name)\n",
      "D:\\Anaconda3\\lib\\site-packages\\pyro\\poutine\\trace_struct.py:286: UserWarning: Encountered NaN: log_prob_sum at site 'layer1.u'\n",
      "  site[\"log_prob_sum\"], \"log_prob_sum at site '{}'\".format(name)\n",
      "D:\\Anaconda3\\lib\\site-packages\\pyro\\poutine\\trace_struct.py:286: UserWarning: Encountered NaN: log_prob_sum at site 'layer1.u'\n",
      "  site[\"log_prob_sum\"], \"log_prob_sum at site '{}'\".format(name)\n"
     ]
    },
    {
     "name": "stdout",
     "output_type": "stream",
     "text": [
      "Train Epoch:  7 [60000/60000 (100%)]\tLoss: 31994.359375\n",
      "\n",
      "Test set: Accuracy: 9550/10000 (95.50%)\n",
      "\n"
     ]
    },
    {
     "name": "stderr",
     "output_type": "stream",
     "text": [
      "D:\\Anaconda3\\lib\\site-packages\\pyro\\poutine\\trace_struct.py:286: UserWarning: Encountered NaN: log_prob_sum at site 'layer1.u'\n",
      "  site[\"log_prob_sum\"], \"log_prob_sum at site '{}'\".format(name)\n",
      "D:\\Anaconda3\\lib\\site-packages\\pyro\\poutine\\trace_struct.py:286: UserWarning: Encountered NaN: log_prob_sum at site 'layer1.u'\n",
      "  site[\"log_prob_sum\"], \"log_prob_sum at site '{}'\".format(name)\n",
      "D:\\Anaconda3\\lib\\site-packages\\pyro\\poutine\\trace_struct.py:286: UserWarning: Encountered NaN: log_prob_sum at site 'layer1.u'\n",
      "  site[\"log_prob_sum\"], \"log_prob_sum at site '{}'\".format(name)\n",
      "D:\\Anaconda3\\lib\\site-packages\\pyro\\poutine\\trace_struct.py:286: UserWarning: Encountered NaN: log_prob_sum at site 'layer1.u'\n",
      "  site[\"log_prob_sum\"], \"log_prob_sum at site '{}'\".format(name)\n",
      "D:\\Anaconda3\\lib\\site-packages\\pyro\\poutine\\trace_struct.py:286: UserWarning: Encountered NaN: log_prob_sum at site 'layer1.u'\n",
      "  site[\"log_prob_sum\"], \"log_prob_sum at site '{}'\".format(name)\n",
      "D:\\Anaconda3\\lib\\site-packages\\pyro\\poutine\\trace_struct.py:286: UserWarning: Encountered NaN: log_prob_sum at site 'layer1.u'\n",
      "  site[\"log_prob_sum\"], \"log_prob_sum at site '{}'\".format(name)\n"
     ]
    },
    {
     "name": "stdout",
     "output_type": "stream",
     "text": [
      "Train Epoch:  8 [10000/60000 (17%)]\tLoss: 31108.162109\n"
     ]
    },
    {
     "name": "stderr",
     "output_type": "stream",
     "text": [
      "D:\\Anaconda3\\lib\\site-packages\\pyro\\poutine\\trace_struct.py:286: UserWarning: Encountered NaN: log_prob_sum at site 'layer1.u'\n",
      "  site[\"log_prob_sum\"], \"log_prob_sum at site '{}'\".format(name)\n",
      "D:\\Anaconda3\\lib\\site-packages\\pyro\\poutine\\trace_struct.py:286: UserWarning: Encountered NaN: log_prob_sum at site 'layer1.u'\n",
      "  site[\"log_prob_sum\"], \"log_prob_sum at site '{}'\".format(name)\n"
     ]
    },
    {
     "name": "stdout",
     "output_type": "stream",
     "text": [
      "Train Epoch:  8 [20000/60000 (33%)]\tLoss: 30265.496094\n",
      "Train Epoch:  8 [30000/60000 (50%)]\tLoss: 30610.441406\n",
      "Train Epoch:  8 [40000/60000 (67%)]\tLoss: 31064.187500\n",
      "Train Epoch:  8 [50000/60000 (83%)]\tLoss: 31476.097656\n",
      "Train Epoch:  8 [60000/60000 (100%)]\tLoss: 28830.802734\n",
      "\n",
      "Test set: Accuracy: 9548/10000 (95.48%)\n",
      "\n",
      "Train Epoch:  9 [10000/60000 (17%)]\tLoss: 29555.886719\n",
      "Train Epoch:  9 [20000/60000 (33%)]\tLoss: 29198.503906\n",
      "Train Epoch:  9 [30000/60000 (50%)]\tLoss: 29431.050781\n",
      "Train Epoch:  9 [40000/60000 (67%)]\tLoss: 27094.373047\n",
      "Train Epoch:  9 [50000/60000 (83%)]\tLoss: 28004.785156\n",
      "Train Epoch:  9 [60000/60000 (100%)]\tLoss: 28497.250000\n",
      "\n",
      "Test set: Accuracy: 9559/10000 (95.59%)\n",
      "\n",
      "Train Epoch: 10 [10000/60000 (17%)]\tLoss: 26437.125000\n",
      "Train Epoch: 10 [20000/60000 (33%)]\tLoss: 25697.386719\n",
      "Train Epoch: 10 [30000/60000 (50%)]\tLoss: 25756.664062\n",
      "Train Epoch: 10 [40000/60000 (67%)]\tLoss: 26032.765625\n",
      "Train Epoch: 10 [50000/60000 (83%)]\tLoss: 26359.144531\n",
      "Train Epoch: 10 [60000/60000 (100%)]\tLoss: 23317.183594\n",
      "\n",
      "Test set: Accuracy: 9572/10000 (95.72%)\n",
      "\n",
      "Train Epoch: 11 [10000/60000 (17%)]\tLoss: 23575.005859\n",
      "Train Epoch: 11 [20000/60000 (33%)]\tLoss: 24679.773438\n",
      "Train Epoch: 11 [30000/60000 (50%)]\tLoss: 23049.457031\n",
      "Train Epoch: 11 [40000/60000 (67%)]\tLoss: 24312.023438\n",
      "Train Epoch: 11 [50000/60000 (83%)]\tLoss: 22416.558594\n",
      "Train Epoch: 11 [60000/60000 (100%)]\tLoss: 22403.175781\n",
      "\n",
      "Test set: Accuracy: 9580/10000 (95.80%)\n",
      "\n",
      "Train Epoch: 12 [10000/60000 (17%)]\tLoss: 20194.654297\n",
      "Train Epoch: 12 [20000/60000 (33%)]\tLoss: 21608.500000\n",
      "Train Epoch: 12 [30000/60000 (50%)]\tLoss: 22312.865234\n",
      "Train Epoch: 12 [40000/60000 (67%)]\tLoss: 21077.171875\n",
      "Train Epoch: 12 [50000/60000 (83%)]\tLoss: 21443.869141\n",
      "Train Epoch: 12 [60000/60000 (100%)]\tLoss: 20486.031250\n",
      "\n",
      "Test set: Accuracy: 9608/10000 (96.08%)\n",
      "\n",
      "Train Epoch: 13 [10000/60000 (17%)]\tLoss: 21253.734375\n",
      "Train Epoch: 13 [20000/60000 (33%)]\tLoss: 18947.439453\n",
      "Train Epoch: 13 [30000/60000 (50%)]\tLoss: 20845.902344\n",
      "Train Epoch: 13 [40000/60000 (67%)]\tLoss: 19257.621094\n",
      "Train Epoch: 13 [50000/60000 (83%)]\tLoss: 21438.250000\n",
      "Train Epoch: 13 [60000/60000 (100%)]\tLoss: 21124.593750\n",
      "\n",
      "Test set: Accuracy: 9625/10000 (96.25%)\n",
      "\n",
      "Train Epoch: 14 [10000/60000 (17%)]\tLoss: 17777.398438\n",
      "Train Epoch: 14 [20000/60000 (33%)]\tLoss: 18309.699219\n",
      "Train Epoch: 14 [30000/60000 (50%)]\tLoss: 18902.281250\n",
      "Train Epoch: 14 [40000/60000 (67%)]\tLoss: 18853.207031\n",
      "Train Epoch: 14 [50000/60000 (83%)]\tLoss: 17271.814453\n",
      "Train Epoch: 14 [60000/60000 (100%)]\tLoss: 18470.093750\n",
      "\n",
      "Test set: Accuracy: 9622/10000 (96.22%)\n",
      "\n",
      "Train Epoch: 15 [10000/60000 (17%)]\tLoss: 18103.250000\n",
      "Train Epoch: 15 [20000/60000 (33%)]\tLoss: 17407.351562\n",
      "Train Epoch: 15 [30000/60000 (50%)]\tLoss: 17426.972656\n",
      "Train Epoch: 15 [40000/60000 (67%)]\tLoss: 17161.976562\n",
      "Train Epoch: 15 [50000/60000 (83%)]\tLoss: 16982.519531\n",
      "Train Epoch: 15 [60000/60000 (100%)]\tLoss: 16674.705078\n",
      "\n",
      "Test set: Accuracy: 9622/10000 (96.22%)\n",
      "\n",
      "Train Epoch: 16 [10000/60000 (17%)]\tLoss: 17427.859375\n",
      "Train Epoch: 16 [20000/60000 (33%)]\tLoss: 15289.255859\n",
      "Train Epoch: 16 [30000/60000 (50%)]\tLoss: 16027.979492\n",
      "Train Epoch: 16 [40000/60000 (67%)]\tLoss: 16783.777344\n",
      "Train Epoch: 16 [50000/60000 (83%)]\tLoss: 17101.320312\n",
      "Train Epoch: 16 [60000/60000 (100%)]\tLoss: 16633.972656\n",
      "\n",
      "Test set: Accuracy: 9645/10000 (96.45%)\n",
      "\n",
      "Train Epoch: 17 [10000/60000 (17%)]\tLoss: 15661.070312\n",
      "Train Epoch: 17 [20000/60000 (33%)]\tLoss: 15983.375000\n",
      "Train Epoch: 17 [30000/60000 (50%)]\tLoss: 15894.480469\n",
      "Train Epoch: 17 [40000/60000 (67%)]\tLoss: 16290.768555\n",
      "Train Epoch: 17 [50000/60000 (83%)]\tLoss: 15926.472656\n",
      "Train Epoch: 17 [60000/60000 (100%)]\tLoss: 17610.537109\n",
      "\n",
      "Test set: Accuracy: 9648/10000 (96.48%)\n",
      "\n",
      "Train Epoch: 18 [10000/60000 (17%)]\tLoss: 14418.722656\n",
      "Train Epoch: 18 [20000/60000 (33%)]\tLoss: 14416.502930\n",
      "Train Epoch: 18 [30000/60000 (50%)]\tLoss: 15022.154297\n",
      "Train Epoch: 18 [40000/60000 (67%)]\tLoss: 15587.310547\n",
      "Train Epoch: 18 [50000/60000 (83%)]\tLoss: 16641.291016\n",
      "Train Epoch: 18 [60000/60000 (100%)]\tLoss: 14780.780273\n",
      "\n",
      "Test set: Accuracy: 9654/10000 (96.54%)\n",
      "\n",
      "Train Epoch: 19 [10000/60000 (17%)]\tLoss: 18440.667969\n",
      "Train Epoch: 19 [20000/60000 (33%)]\tLoss: 17563.681641\n",
      "Train Epoch: 19 [30000/60000 (50%)]\tLoss: 17081.576172\n",
      "Train Epoch: 19 [40000/60000 (67%)]\tLoss: 15319.484375\n",
      "Train Epoch: 19 [50000/60000 (83%)]\tLoss: 17900.968750\n",
      "Train Epoch: 19 [60000/60000 (100%)]\tLoss: 15200.578125\n",
      "\n",
      "Test set: Accuracy: 9655/10000 (96.55%)\n",
      "\n"
     ]
    }
   ],
   "source": [
    "for i in range(20):\n",
    "    train(train_loader, deepgp, optimizer, loss_fn, i)\n",
    "    with torch.no_grad():\n",
    "        test(test_loader, deepgp)"
   ]
  },
  {
   "cell_type": "code",
   "execution_count": null,
   "metadata": {},
   "outputs": [],
   "source": []
  }
 ],
 "metadata": {
  "kernelspec": {
   "display_name": "venv",
   "language": "python",
   "name": "venv"
  },
  "language_info": {
   "codemirror_mode": {
    "name": "ipython",
    "version": 3
   },
   "file_extension": ".py",
   "mimetype": "text/x-python",
   "name": "python",
   "nbconvert_exporter": "python",
   "pygments_lexer": "ipython3",
   "version": "3.7.4"
  }
 },
 "nbformat": 4,
 "nbformat_minor": 2
}
