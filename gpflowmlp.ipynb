{
  "nbformat": 4,
  "nbformat_minor": 0,
  "metadata": {
    "colab": {
      "name": "gpflowmlp.ipynb",
      "provenance": [],
      "collapsed_sections": [],
      "authorship_tag": "ABX9TyNnWCcYcHnLKrcSRnX5kOgx"
    },
    "kernelspec": {
      "name": "python3",
      "display_name": "Python 3"
    },
    "language_info": {
      "name": "python"
    }
  },
  "cells": [
    {
      "cell_type": "code",
      "metadata": {
        "colab": {
          "base_uri": "https://localhost:8080/"
        },
        "id": "cLwUn1AF0yVj",
        "outputId": "3eba3594-ab46-4a1e-dcae-f4ddc09f596f"
      },
      "source": [
        "!pip install gpflow\n",
        "import numpy as np\n",
        "import tensorflow as tf\n",
        "from matplotlib import pyplot as plt\n",
        "import gpflow\n",
        "from gpflow.ci_utils import ci_niter\n",
        "from scipy.cluster.vq import kmeans2\n",
        "\n",
        "from typing import Dict, Optional, Tuple\n",
        "import tensorflow as tf\n",
        "import tensorflow_datasets as tfds\n",
        "import gpflow\n",
        "from gpflow.utilities import to_default_float\n",
        "\n",
        "iterations = ci_niter(100)"
      ],
      "execution_count": 1,
      "outputs": [
        {
          "output_type": "stream",
          "name": "stdout",
          "text": [
            "Collecting gpflow\n",
            "  Downloading gpflow-2.3.0-py3-none-any.whl (286 kB)\n",
            "\u001b[?25l\r\u001b[K     |█▏                              | 10 kB 15.5 MB/s eta 0:00:01\r\u001b[K     |██▎                             | 20 kB 15.6 MB/s eta 0:00:01\r\u001b[K     |███▍                            | 30 kB 17.2 MB/s eta 0:00:01\r\u001b[K     |████▋                           | 40 kB 16.8 MB/s eta 0:00:01\r\u001b[K     |█████▊                          | 51 kB 17.0 MB/s eta 0:00:01\r\u001b[K     |██████▉                         | 61 kB 15.2 MB/s eta 0:00:01\r\u001b[K     |████████                        | 71 kB 15.6 MB/s eta 0:00:01\r\u001b[K     |█████████▏                      | 81 kB 16.7 MB/s eta 0:00:01\r\u001b[K     |██████████▎                     | 92 kB 17.7 MB/s eta 0:00:01\r\u001b[K     |███████████▌                    | 102 kB 18.7 MB/s eta 0:00:01\r\u001b[K     |████████████▋                   | 112 kB 18.7 MB/s eta 0:00:01\r\u001b[K     |█████████████▊                  | 122 kB 18.7 MB/s eta 0:00:01\r\u001b[K     |███████████████                 | 133 kB 18.7 MB/s eta 0:00:01\r\u001b[K     |████████████████                | 143 kB 18.7 MB/s eta 0:00:01\r\u001b[K     |█████████████████▏              | 153 kB 18.7 MB/s eta 0:00:01\r\u001b[K     |██████████████████▎             | 163 kB 18.7 MB/s eta 0:00:01\r\u001b[K     |███████████████████▌            | 174 kB 18.7 MB/s eta 0:00:01\r\u001b[K     |████████████████████▋           | 184 kB 18.7 MB/s eta 0:00:01\r\u001b[K     |█████████████████████▊          | 194 kB 18.7 MB/s eta 0:00:01\r\u001b[K     |███████████████████████         | 204 kB 18.7 MB/s eta 0:00:01\r\u001b[K     |████████████████████████        | 215 kB 18.7 MB/s eta 0:00:01\r\u001b[K     |█████████████████████████▏      | 225 kB 18.7 MB/s eta 0:00:01\r\u001b[K     |██████████████████████████▍     | 235 kB 18.7 MB/s eta 0:00:01\r\u001b[K     |███████████████████████████▌    | 245 kB 18.7 MB/s eta 0:00:01\r\u001b[K     |████████████████████████████▋   | 256 kB 18.7 MB/s eta 0:00:01\r\u001b[K     |█████████████████████████████▉  | 266 kB 18.7 MB/s eta 0:00:01\r\u001b[K     |███████████████████████████████ | 276 kB 18.7 MB/s eta 0:00:01\r\u001b[K     |████████████████████████████████| 286 kB 18.7 MB/s \n",
            "\u001b[?25hRequirement already satisfied: packaging in /usr/local/lib/python3.7/dist-packages (from gpflow) (21.0)\n",
            "Requirement already satisfied: tensorflow-probability>0.10.0 in /usr/local/lib/python3.7/dist-packages (from gpflow) (0.14.1)\n",
            "Requirement already satisfied: tensorflow>=2.2.0 in /usr/local/lib/python3.7/dist-packages (from gpflow) (2.6.0)\n",
            "Collecting dataclasses\n",
            "  Downloading dataclasses-0.6-py3-none-any.whl (14 kB)\n",
            "Requirement already satisfied: setuptools>=41.0.0 in /usr/local/lib/python3.7/dist-packages (from gpflow) (57.4.0)\n",
            "Collecting multipledispatch>=0.6\n",
            "  Downloading multipledispatch-0.6.0-py3-none-any.whl (11 kB)\n",
            "Collecting deprecated\n",
            "  Downloading Deprecated-1.2.13-py2.py3-none-any.whl (9.6 kB)\n",
            "Requirement already satisfied: scipy in /usr/local/lib/python3.7/dist-packages (from gpflow) (1.4.1)\n",
            "Requirement already satisfied: numpy in /usr/local/lib/python3.7/dist-packages (from gpflow) (1.19.5)\n",
            "Requirement already satisfied: typing-extensions in /usr/local/lib/python3.7/dist-packages (from gpflow) (3.7.4.3)\n",
            "Requirement already satisfied: tabulate in /usr/local/lib/python3.7/dist-packages (from gpflow) (0.8.9)\n",
            "Requirement already satisfied: six in /usr/local/lib/python3.7/dist-packages (from multipledispatch>=0.6->gpflow) (1.15.0)\n",
            "Requirement already satisfied: gast==0.4.0 in /usr/local/lib/python3.7/dist-packages (from tensorflow>=2.2.0->gpflow) (0.4.0)\n",
            "Requirement already satisfied: keras~=2.6 in /usr/local/lib/python3.7/dist-packages (from tensorflow>=2.2.0->gpflow) (2.6.0)\n",
            "Requirement already satisfied: tensorflow-estimator~=2.6 in /usr/local/lib/python3.7/dist-packages (from tensorflow>=2.2.0->gpflow) (2.6.0)\n",
            "Requirement already satisfied: flatbuffers~=1.12.0 in /usr/local/lib/python3.7/dist-packages (from tensorflow>=2.2.0->gpflow) (1.12)\n",
            "Requirement already satisfied: grpcio<2.0,>=1.37.0 in /usr/local/lib/python3.7/dist-packages (from tensorflow>=2.2.0->gpflow) (1.41.0)\n",
            "Requirement already satisfied: opt-einsum~=3.3.0 in /usr/local/lib/python3.7/dist-packages (from tensorflow>=2.2.0->gpflow) (3.3.0)\n",
            "Requirement already satisfied: clang~=5.0 in /usr/local/lib/python3.7/dist-packages (from tensorflow>=2.2.0->gpflow) (5.0)\n",
            "Requirement already satisfied: wrapt~=1.12.1 in /usr/local/lib/python3.7/dist-packages (from tensorflow>=2.2.0->gpflow) (1.12.1)\n",
            "Requirement already satisfied: keras-preprocessing~=1.1.2 in /usr/local/lib/python3.7/dist-packages (from tensorflow>=2.2.0->gpflow) (1.1.2)\n",
            "Requirement already satisfied: google-pasta~=0.2 in /usr/local/lib/python3.7/dist-packages (from tensorflow>=2.2.0->gpflow) (0.2.0)\n",
            "Requirement already satisfied: h5py~=3.1.0 in /usr/local/lib/python3.7/dist-packages (from tensorflow>=2.2.0->gpflow) (3.1.0)\n",
            "Requirement already satisfied: absl-py~=0.10 in /usr/local/lib/python3.7/dist-packages (from tensorflow>=2.2.0->gpflow) (0.12.0)\n",
            "Requirement already satisfied: tensorboard~=2.6 in /usr/local/lib/python3.7/dist-packages (from tensorflow>=2.2.0->gpflow) (2.6.0)\n",
            "Requirement already satisfied: astunparse~=1.6.3 in /usr/local/lib/python3.7/dist-packages (from tensorflow>=2.2.0->gpflow) (1.6.3)\n",
            "Requirement already satisfied: wheel~=0.35 in /usr/local/lib/python3.7/dist-packages (from tensorflow>=2.2.0->gpflow) (0.37.0)\n",
            "Requirement already satisfied: protobuf>=3.9.2 in /usr/local/lib/python3.7/dist-packages (from tensorflow>=2.2.0->gpflow) (3.17.3)\n",
            "Requirement already satisfied: termcolor~=1.1.0 in /usr/local/lib/python3.7/dist-packages (from tensorflow>=2.2.0->gpflow) (1.1.0)\n",
            "Requirement already satisfied: cached-property in /usr/local/lib/python3.7/dist-packages (from h5py~=3.1.0->tensorflow>=2.2.0->gpflow) (1.5.2)\n",
            "Requirement already satisfied: tensorboard-data-server<0.7.0,>=0.6.0 in /usr/local/lib/python3.7/dist-packages (from tensorboard~=2.6->tensorflow>=2.2.0->gpflow) (0.6.1)\n",
            "Requirement already satisfied: tensorboard-plugin-wit>=1.6.0 in /usr/local/lib/python3.7/dist-packages (from tensorboard~=2.6->tensorflow>=2.2.0->gpflow) (1.8.0)\n",
            "Requirement already satisfied: google-auth<2,>=1.6.3 in /usr/local/lib/python3.7/dist-packages (from tensorboard~=2.6->tensorflow>=2.2.0->gpflow) (1.35.0)\n",
            "Requirement already satisfied: requests<3,>=2.21.0 in /usr/local/lib/python3.7/dist-packages (from tensorboard~=2.6->tensorflow>=2.2.0->gpflow) (2.23.0)\n",
            "Requirement already satisfied: google-auth-oauthlib<0.5,>=0.4.1 in /usr/local/lib/python3.7/dist-packages (from tensorboard~=2.6->tensorflow>=2.2.0->gpflow) (0.4.6)\n",
            "Requirement already satisfied: markdown>=2.6.8 in /usr/local/lib/python3.7/dist-packages (from tensorboard~=2.6->tensorflow>=2.2.0->gpflow) (3.3.4)\n",
            "Requirement already satisfied: werkzeug>=0.11.15 in /usr/local/lib/python3.7/dist-packages (from tensorboard~=2.6->tensorflow>=2.2.0->gpflow) (1.0.1)\n",
            "Requirement already satisfied: rsa<5,>=3.1.4 in /usr/local/lib/python3.7/dist-packages (from google-auth<2,>=1.6.3->tensorboard~=2.6->tensorflow>=2.2.0->gpflow) (4.7.2)\n",
            "Requirement already satisfied: cachetools<5.0,>=2.0.0 in /usr/local/lib/python3.7/dist-packages (from google-auth<2,>=1.6.3->tensorboard~=2.6->tensorflow>=2.2.0->gpflow) (4.2.4)\n",
            "Requirement already satisfied: pyasn1-modules>=0.2.1 in /usr/local/lib/python3.7/dist-packages (from google-auth<2,>=1.6.3->tensorboard~=2.6->tensorflow>=2.2.0->gpflow) (0.2.8)\n",
            "Requirement already satisfied: requests-oauthlib>=0.7.0 in /usr/local/lib/python3.7/dist-packages (from google-auth-oauthlib<0.5,>=0.4.1->tensorboard~=2.6->tensorflow>=2.2.0->gpflow) (1.3.0)\n",
            "Requirement already satisfied: importlib-metadata in /usr/local/lib/python3.7/dist-packages (from markdown>=2.6.8->tensorboard~=2.6->tensorflow>=2.2.0->gpflow) (4.8.1)\n",
            "Requirement already satisfied: pyasn1<0.5.0,>=0.4.6 in /usr/local/lib/python3.7/dist-packages (from pyasn1-modules>=0.2.1->google-auth<2,>=1.6.3->tensorboard~=2.6->tensorflow>=2.2.0->gpflow) (0.4.8)\n",
            "Requirement already satisfied: idna<3,>=2.5 in /usr/local/lib/python3.7/dist-packages (from requests<3,>=2.21.0->tensorboard~=2.6->tensorflow>=2.2.0->gpflow) (2.10)\n",
            "Requirement already satisfied: chardet<4,>=3.0.2 in /usr/local/lib/python3.7/dist-packages (from requests<3,>=2.21.0->tensorboard~=2.6->tensorflow>=2.2.0->gpflow) (3.0.4)\n",
            "Requirement already satisfied: certifi>=2017.4.17 in /usr/local/lib/python3.7/dist-packages (from requests<3,>=2.21.0->tensorboard~=2.6->tensorflow>=2.2.0->gpflow) (2021.5.30)\n",
            "Requirement already satisfied: urllib3!=1.25.0,!=1.25.1,<1.26,>=1.21.1 in /usr/local/lib/python3.7/dist-packages (from requests<3,>=2.21.0->tensorboard~=2.6->tensorflow>=2.2.0->gpflow) (1.24.3)\n",
            "Requirement already satisfied: oauthlib>=3.0.0 in /usr/local/lib/python3.7/dist-packages (from requests-oauthlib>=0.7.0->google-auth-oauthlib<0.5,>=0.4.1->tensorboard~=2.6->tensorflow>=2.2.0->gpflow) (3.1.1)\n",
            "Requirement already satisfied: decorator in /usr/local/lib/python3.7/dist-packages (from tensorflow-probability>0.10.0->gpflow) (4.4.2)\n",
            "Requirement already satisfied: cloudpickle>=1.3 in /usr/local/lib/python3.7/dist-packages (from tensorflow-probability>0.10.0->gpflow) (1.3.0)\n",
            "Requirement already satisfied: dm-tree in /usr/local/lib/python3.7/dist-packages (from tensorflow-probability>0.10.0->gpflow) (0.1.6)\n",
            "Requirement already satisfied: zipp>=0.5 in /usr/local/lib/python3.7/dist-packages (from importlib-metadata->markdown>=2.6.8->tensorboard~=2.6->tensorflow>=2.2.0->gpflow) (3.6.0)\n",
            "Requirement already satisfied: pyparsing>=2.0.2 in /usr/local/lib/python3.7/dist-packages (from packaging->gpflow) (2.4.7)\n",
            "Installing collected packages: multipledispatch, deprecated, dataclasses, gpflow\n",
            "Successfully installed dataclasses-0.6 deprecated-1.2.13 gpflow-2.3.0 multipledispatch-0.6.0\n"
          ]
        }
      ]
    },
    {
      "cell_type": "code",
      "metadata": {
        "id": "O2Y4DScA06lP"
      },
      "source": [
        "original_dataset, info = tfds.load(name=\"mnist\", split=tfds.Split.TRAIN, with_info=True)\n",
        "total_num_data = info.splits[\"train\"].num_examples\n",
        "image_shape = info.features[\"image\"].shape\n",
        "image_size = tf.reduce_prod(image_shape)\n",
        "batch_size = 128\n",
        "\n",
        "\n",
        "def map_fn(input_slice: Dict[str, tf.Tensor]):\n",
        "    updated = input_slice\n",
        "    image = to_default_float(updated[\"image\"]) / 126.0\n",
        "    label = to_default_float(updated[\"label\"])\n",
        "    return tf.reshape(image, [-1, image_size]), label\n",
        "\n",
        "\n",
        "autotune = tf.data.experimental.AUTOTUNE\n",
        "dataset = (\n",
        "    original_dataset.shuffle(1024)\n",
        "    .batch(batch_size, drop_remainder=True)\n",
        "    .map(map_fn, num_parallel_calls=autotune)\n",
        "    .prefetch(autotune)\n",
        "    .repeat()\n",
        ")"
      ],
      "execution_count": 26,
      "outputs": []
    },
    {
      "cell_type": "code",
      "metadata": {
        "colab": {
          "base_uri": "https://localhost:8080/"
        },
        "id": "fAO86GW319rn",
        "outputId": "f158e734-e9c2-4542-902e-ab462b0110ce"
      },
      "source": [
        "tf.reshape([-1,image_size]"
      ],
      "execution_count": 6,
      "outputs": [
        {
          "output_type": "execute_result",
          "data": {
            "text/plain": [
              "[-1, <tf.Tensor: shape=(), dtype=int32, numpy=784>]"
            ]
          },
          "metadata": {},
          "execution_count": 6
        }
      ]
    },
    {
      "cell_type": "code",
      "metadata": {
        "id": "DBA2AU8E197k"
      },
      "source": [
        ""
      ],
      "execution_count": null,
      "outputs": []
    },
    {
      "cell_type": "code",
      "metadata": {
        "id": "abFHa-kR0616"
      },
      "source": [
        "class KernelWithMLP(gpflow.kernels.Kernel):\n",
        "    def __init__(\n",
        "        self,\n",
        "        image_shape: Tuple,\n",
        "        output_dim: int,\n",
        "        base_kernel: gpflow.kernels.Kernel,\n",
        "        batch_size: Optional[int] = None,\n",
        "    ):\n",
        "        super().__init__()\n",
        "        with self.name_scope:\n",
        "            self.base_kernel = base_kernel\n",
        "            input_size = 28*28 \n",
        "            #int(tf.reduce_prod(image_shape))\n",
        "            input_shape = (input_size,)\n",
        "\n",
        "            self.mlp = tf.keras.Sequential(\n",
        "                [\n",
        "                    tf.keras.layers.InputLayer(input_shape=input_shape, batch_size=batch_size),\n",
        "                    tf.keras.layers.Flatten(),\n",
        "                    tf.keras.layers.Dense(400,activation=\"relu\"),\n",
        "                    tf.keras.layers.Dense(400,activation=\"relu\"),\n",
        "                    tf.keras.layers.Dense(output_dim, activation=\"relu\"),\n",
        "                    tf.keras.layers.Lambda(to_default_float),\n",
        "                ]\n",
        "            )\n",
        "\n",
        "            self.mlp.build()\n",
        "\n",
        "    def K(self, a_input: tf.Tensor, b_input: Optional[tf.Tensor] = None) -> tf.Tensor:\n",
        "        transformed_a = self.mlp(a_input)\n",
        "        transformed_b = self.mlp(b_input) if b_input is not None else b_input\n",
        "        return self.base_kernel.K(transformed_a, transformed_b)\n",
        "\n",
        "    def K_diag(self, a_input: tf.Tensor) -> tf.Tensor:\n",
        "        transformed_a = self.mlp(a_input)\n",
        "        return self.base_kernel.K_diag(transformed_a)"
      ],
      "execution_count": 27,
      "outputs": []
    },
    {
      "cell_type": "code",
      "metadata": {
        "id": "OzTLlfYv55fk"
      },
      "source": [
        "class KernelSpaceInducingPoints(gpflow.inducing_variables.InducingPoints):\n",
        "    pass\n",
        "\n",
        "\n",
        "@gpflow.covariances.Kuu.register(KernelSpaceInducingPoints, KernelWithMLP)\n",
        "def Kuu(inducing_variable, kernel, jitter=None):\n",
        "    func = gpflow.covariances.Kuu.dispatch(\n",
        "        gpflow.inducing_variables.InducingPoints, gpflow.kernels.Kernel\n",
        "    )\n",
        "    return func(inducing_variable, kernel.base_kernel, jitter=jitter)\n",
        "\n",
        "\n",
        "@gpflow.covariances.Kuf.register(KernelSpaceInducingPoints, KernelWithMLP, object)\n",
        "def Kuf(inducing_variable, kernel, a_input):\n",
        "    return kernel.base_kernel(inducing_variable.Z, kernel.mlp(a_input))"
      ],
      "execution_count": 28,
      "outputs": []
    },
    {
      "cell_type": "code",
      "metadata": {
        "id": "NAkTf1kX065r"
      },
      "source": [
        "num_mnist_classes = 10\n",
        "output_dim = 10\n",
        "num_inducing_points = 100\n",
        "images_subset, labels_subset = next(iter(dataset.batch(32)))\n",
        "images_subset = tf.reshape(images_subset, [-1, image_size])\n",
        "labels_subset = tf.reshape(labels_subset, [-1, 1])\n",
        "\n",
        "kernel = KernelWithMLP(\n",
        "    image_shape, output_dim, gpflow.kernels.SquaredExponential(), batch_size=batch_size\n",
        ")\n",
        "\n",
        "likelihood = gpflow.likelihoods.MultiClass(num_mnist_classes)\n",
        "\n",
        "inducing_variable_kmeans = kmeans2(images_subset.numpy(), num_inducing_points, minit=\"points\")[0]\n",
        "inducing_variable_mlp = kernel.mlp(inducing_variable_kmeans)\n",
        "inducing_variable = KernelSpaceInducingPoints(inducing_variable_mlp)\n",
        "\n",
        "model = gpflow.models.SVGP(\n",
        "    kernel,\n",
        "    likelihood,\n",
        "    inducing_variable=inducing_variable,\n",
        "    num_data=total_num_data,\n",
        "    num_latent_gps=num_mnist_classes,\n",
        ")"
      ],
      "execution_count": 29,
      "outputs": []
    },
    {
      "cell_type": "code",
      "metadata": {
        "id": "m-Pm7jzV6Stq"
      },
      "source": [
        "data_iterator = iter(dataset)\n",
        "adam_opt = tf.optimizers.Adam(0.001)\n",
        "\n",
        "training_loss = model.training_loss_closure(data_iterator)\n",
        "\n",
        "#elbo=tf.function(model.elbo)\n",
        "\n",
        "@tf.function\n",
        "def optimization_step():\n",
        "    adam_opt.minimize(training_loss, var_list=model.trainable_variables)\n",
        "\n",
        "logf=[]\n",
        "for step in range(iterations):\n",
        "    optimization_step()\n",
        "    if step % 10 == 0:\n",
        "      elbo = -training_loss().numpy()\n",
        "      logf.append(elbo)\n",
        "\n",
        "\n",
        "#tensor_data =tuple(map(tf.convert_to_tensor,dataset))\n",
        "#elbo(tensor_data)"
      ],
      "execution_count": 32,
      "outputs": []
    },
    {
      "cell_type": "code",
      "metadata": {
        "colab": {
          "base_uri": "https://localhost:8080/",
          "height": 279
        },
        "id": "bNKbQTd-ICmA",
        "outputId": "8506c844-7392-45ad-9e95-00e9bf7a0297"
      },
      "source": [
        "plt.plot(np.arange(iterations)[::10], logf)\n",
        "plt.xlabel(\"iteration\")\n",
        "_ = plt.ylabel(\"ELBO\")"
      ],
      "execution_count": 34,
      "outputs": [
        {
          "output_type": "display_data",
          "data": {
            "image/png": "[encoded data removed]",
            "text/plain": [
              "<Figure size 432x288 with 1 Axes>"
            ]
          },
          "metadata": {
            "needs_background": "light"
          }
        }
      ]
    },
    {
      "cell_type": "code",
      "metadata": {
        "colab": {
          "base_uri": "https://localhost:8080/"
        },
        "id": "Y2757oyu6XvG",
        "outputId": "c90b9d76-606b-44ca-a504-ba43c87a7906"
      },
      "source": [
        "m, v = model.predict_y(images_subset)\n",
        "preds = np.argmax(m, 1).reshape(labels_subset.numpy().shape)\n",
        "correct = preds == labels_subset.numpy().astype(int)\n",
        "acc = np.average(correct.astype(float)) * 100.0\n",
        "\n",
        "print(\"Accuracy is {:.4f}%\".format(acc))"
      ],
      "execution_count": 36,
      "outputs": [
        {
          "output_type": "stream",
          "name": "stdout",
          "text": [
            "Accuracy is 96.5332%\n"
          ]
        }
      ]
    },
    {
      "cell_type": "code",
      "metadata": {
        "colab": {
          "base_uri": "https://localhost:8080/"
        },
        "id": "lk-Pt24n6Z5G",
        "outputId": "81dd54c3-ac39-483e-d9a8-9af4dd3c46d5"
      },
      "source": [
        "dataset"
      ],
      "execution_count": 23,
      "outputs": [
        {
          "output_type": "execute_result",
          "data": {
            "text/plain": [
              "<RepeatDataset shapes: ((32, 784), (32,)), types: (tf.float64, tf.float64)>"
            ]
          },
          "metadata": {},
          "execution_count": 23
        }
      ]
    },
    {
      "cell_type": "code",
      "metadata": {
        "id": "fbTsrAKYFDbs"
      },
      "source": [
        ""
      ],
      "execution_count": null,
      "outputs": []
    }
  ]
}